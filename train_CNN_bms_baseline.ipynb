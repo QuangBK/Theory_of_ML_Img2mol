{
 "cells": [
  {
   "cell_type": "code",
   "execution_count": 1,
   "id": "cafdf096-de6d-42f6-a170-25d0be186f5e",
   "metadata": {},
   "outputs": [],
   "source": [
    "import os \n",
    "os.environ[\"CUDA_DEVICE_ORDER\"]=\"PCI_BUS_ID\"\n",
    "os.environ['CUDA_VISIBLE_DEVICES'] = '0'\n",
    "\n",
    "import torch.nn.functional as F\n",
    "import torch.utils.data\n",
    "import gzip\n",
    "import pandas\n",
    "import h5py\n",
    "from __future__ import print_function\n",
    "import argparse\n",
    "import h5py\n",
    "import torch.optim as optim\n",
    "from torch.optim.lr_scheduler import ReduceLROnPlateau\n",
    "from sklearn import model_selection\n",
    "\n",
    "from DeepPurpose import utils\n",
    "from DeepPurpose import DTI as models\n",
    "from DeepPurpose.utils import *\n",
    "from DeepPurpose.dataset import *\n",
    "\n",
    "import torch\n",
    "import torch.nn as nn\n",
    "import torch.optim as optim\n",
    "import torch.optim.lr_scheduler as lr_scheduler\n",
    "from torch.utils.data import DataLoader\n",
    "from torch.autograd import Variable\n",
    "\n",
    "import math, random, sys\n",
    "import numpy as np\n",
    "import argparse\n",
    "from collections import deque\n",
    "# import cPickle as pickle\n",
    "import pickle\n",
    "import gc\n",
    "# from fast_jtnn import *\n",
    "from hgraph import *\n",
    "import rdkit\n",
    "\n",
    "from cnn_finetune import make_model\n",
    "import torch.nn as nn\n",
    "\n",
    "from albumentations.pytorch import ToTensorV2\n",
    "import albumentations as A\n",
    "from albumentations import (\n",
    "    HorizontalFlip, IAAPerspective, ShiftScaleRotate, CLAHE, RandomRotate90,\n",
    "    Transpose, ShiftScaleRotate, Blur, OpticalDistortion, GridDistortion, HueSaturationValue,\n",
    "    IAAAdditiveGaussianNoise, GaussNoise, MotionBlur, MedianBlur, IAAPiecewiseAffine,\n",
    "    IAASharpen, IAAEmboss, RandomContrast, RandomBrightness, Flip, OneOf, Compose,\n",
    "    RandomCrop, Normalize, Resize\n",
    ")\n",
    "import cv2\n",
    "from tqdm import tqdm\n",
    "\n",
    "lg = rdkit.RDLogger.logger() \n",
    "lg.setLevel(rdkit.RDLogger.CRITICAL)"
   ]
  },
  {
   "cell_type": "code",
   "execution_count": 2,
   "id": "b82d99aa-c1dc-40e3-996c-9520b8dbcb56",
   "metadata": {},
   "outputs": [],
   "source": [
    "def one_hot_array(i, n):\n",
    "    return map(int, [ix == i for ix in xrange(n)])\n",
    "\n",
    "def one_hot_index(vec, charset):\n",
    "    return map(charset.index, vec)\n",
    "\n",
    "def from_one_hot_array(vec):\n",
    "    oh = np.where(vec == 1)\n",
    "    if oh[0].shape == (0, ):\n",
    "        return None\n",
    "    return int(oh[0][0])\n",
    "\n",
    "def decode_smiles_from_indexes(vec, charset):\n",
    "    return b\"\".join(map(lambda x: charset[x], vec)).strip()\n",
    "\n",
    "def decode_smiles_from_indexes_new (vec, enc_drug):\n",
    "    b = np.zeros((len(vec), 63))\n",
    "    b[np.arange(len(vec)),vec] = 1\n",
    "    return (\"\".join(enc_drug.inverse_transform(b).reshape(-1))).strip('?')\n",
    "\n",
    "def load_dataset(filename, split = True):\n",
    "    h5f = h5py.File(filename, 'r')\n",
    "    if split:\n",
    "        data_train = h5f['data_train'][:]\n",
    "    else:\n",
    "        data_train = None\n",
    "    data_test = h5f['data_test'][:]\n",
    "    charset =  h5f['charset'][:]\n",
    "    h5f.close()\n",
    "    if split:\n",
    "        return (data_train, data_test, charset)\n",
    "    else:\n",
    "        return (data_test, charset)\n"
   ]
  },
  {
   "cell_type": "code",
   "execution_count": 3,
   "id": "586f67fb-78c5-4b31-847f-dea8bb0c1fd5",
   "metadata": {},
   "outputs": [],
   "source": [
    "class ARGS:\n",
    "    def __init__(self):\n",
    "        self.train = './train_processed_bms_ver2/mol/'\n",
    "        self.vocab = 'data/chembl/vocab.txt'\n",
    "        self.atom_vocab = common_atom_vocab\n",
    "        self.save_dir = 'vae_model/'\n",
    "        self.load_model = None\n",
    "        self.seed = 7\n",
    "        \n",
    "        self.rnn_type = 'LSTM'\n",
    "        self.hidden_size = 250\n",
    "        self.embed_size = 250\n",
    "        self.batch_size = 32\n",
    "        self.latent_size = 32\n",
    "        self.depthT = 15\n",
    "        self.depthG = 15\n",
    "        self.diterT = 1\n",
    "        self.diterG = 3\n",
    "        self.dropout = 0.0\n",
    "        \n",
    "        self.lr = 1e-3\n",
    "        self.clip_norm = 5.0\n",
    "#         self.beta = 0.0\n",
    "        self.step_beta = 0.001\n",
    "        self.max_beta = 1.0\n",
    "        self.warmup = 10000\n",
    "        self.kl_anneal_iter = 2000\n",
    "        \n",
    "        self.epoch = 100\n",
    "        self.anneal_rate = 0.9\n",
    "        self.anneal_iter = 25000\n",
    "        self.kl_anneal_iter = 2000\n",
    "        self.print_iter = 50\n",
    "        self.save_iter = 5000\n",
    "        \n",
    "        \n",
    "args = ARGS()"
   ]
  },
  {
   "cell_type": "markdown",
   "id": "1dd2cdbc-7082-46f6-816b-c9baebab3ce7",
   "metadata": {},
   "source": [
    "## Model"
   ]
  },
  {
   "cell_type": "code",
   "execution_count": 4,
   "id": "14b63682-00bd-43fb-bafc-6a4ef02875fa",
   "metadata": {},
   "outputs": [
    {
     "name": "stdout",
     "output_type": "stream",
     "text": [
      "cuda:0\n"
     ]
    }
   ],
   "source": [
    "if not torch.cuda.is_available():\n",
    "    device = torch.device('cpu')\n",
    "else:\n",
    "    device = torch.device('cuda:0')\n",
    "    \n",
    "print (device)"
   ]
  },
  {
   "cell_type": "code",
   "execution_count": 5,
   "id": "1ebe5156-4ba8-4fa5-b82e-b8b2c1eb173a",
   "metadata": {},
   "outputs": [],
   "source": [
    "NUM_DICT = 63\n",
    "MAX_LEN = 100\n",
    "\n",
    "class MolecularVAE(nn.Module):\n",
    "    def __init__(self):\n",
    "        super(MolecularVAE, self).__init__()\n",
    "\n",
    "        # The input filter dim should be 35\n",
    "        #  corresponds to the size of CHARSET\n",
    "        self.conv1d1 = nn.Conv1d(NUM_DICT, 9, kernel_size=9)  \n",
    "        self.conv1d2 = nn.Conv1d(9, 9, kernel_size=9)\n",
    "        self.conv1d3 = nn.Conv1d(9, 10, kernel_size=11)\n",
    "        self.fc0 = nn.Linear(740, 435)\n",
    "        self.fc11 = nn.Linear(435, 292)\n",
    "        self.fc12 = nn.Linear(435, 292)\n",
    "\n",
    "        self.fc2 = nn.Linear(292, 292)\n",
    "        self.gru = nn.GRU(292, 501, 3, batch_first=True)\n",
    "        self.fc3 = nn.Linear(501, NUM_DICT)\n",
    "\n",
    "    def encode(self, x):\n",
    "        h = F.relu(self.conv1d1(x))\n",
    "        h = F.relu(self.conv1d2(h))\n",
    "        h = F.relu(self.conv1d3(h))\n",
    "        h = h.view(h.size(0), -1)\n",
    "        h = F.selu(self.fc0(h))\n",
    "        return self.fc11(h), self.fc12(h)\n",
    "\n",
    "    def reparametrize(self, mu, logvar):\n",
    "        if self.training:\n",
    "            std = torch.exp(0.5 * logvar)\n",
    "            eps = 1e-2 * torch.randn_like(std)\n",
    "            w = eps.mul(std).add_(mu)\n",
    "            return w\n",
    "        else:\n",
    "            return mu\n",
    "        \n",
    "    def reparametrize_ver2(self, mu, logvar):\n",
    "        std = torch.exp(0.5 * logvar)\n",
    "        eps = 1e-2 * torch.randn_like(std)\n",
    "        w = eps.mul(std).add_(mu)\n",
    "        return w\n",
    "\n",
    "    def decode(self, z):\n",
    "        z = F.selu(self.fc2(z))\n",
    "        z = z.view(z.size(0), 1, z.size(-1)).repeat(1, MAX_LEN, 1)\n",
    "        out, h = self.gru(z)\n",
    "        out_reshape = out.contiguous().view(-1, out.size(-1))\n",
    "        y0 = F.softmax(self.fc3(out_reshape), dim=1)\n",
    "        y = y0.contiguous().view(out.size(0), -1, y0.size(-1))\n",
    "        return y\n",
    "\n",
    "    def forward(self, x):\n",
    "        mu, logvar = self.encode(x)\n",
    "        z = self.reparametrize(mu, logvar)\n",
    "        return self.decode(z), mu, logvar"
   ]
  },
  {
   "cell_type": "code",
   "execution_count": 6,
   "id": "0ea3934c-95a4-4a6a-ab75-38b2c1e0905e",
   "metadata": {},
   "outputs": [],
   "source": [
    "b = [bytes(i, 'utf-8') for i in smiles_char]\n",
    "charset = np.array(b)\n",
    "from sklearn.preprocessing import OneHotEncoder\n",
    "enc_drug = OneHotEncoder().fit(np.array(smiles_char).reshape(-1, 1))"
   ]
  },
  {
   "cell_type": "code",
   "execution_count": 7,
   "id": "6947bb7f-4cd4-4405-9215-cbe23a722959",
   "metadata": {},
   "outputs": [],
   "source": [
    "vocab = [x.strip(\"\\r\\n \").split() for x in open(args.vocab)] \n",
    "args.vocab = PairVocab(vocab)"
   ]
  },
  {
   "cell_type": "code",
   "execution_count": 8,
   "id": "ebb0cf70-739a-44ed-a3de-2eeefcf08ef4",
   "metadata": {},
   "outputs": [],
   "source": [
    "def vae_loss(x_decoded_mean, x, z_mean, z_logvar):\n",
    "    xent_loss = F.binary_cross_entropy(x_decoded_mean, x, size_average=False)\n",
    "    kl_loss = -0.5 * torch.sum(1 + z_logvar - z_mean.pow(2) - z_logvar.exp())\n",
    "    return xent_loss + kl_loss\n",
    "\n",
    "# data_train, data_test, charset = load_dataset('./data/processed.h5')"
   ]
  },
  {
   "cell_type": "code",
   "execution_count": 9,
   "id": "09e897c6-7b19-42d1-853f-8f6d1170ca6b",
   "metadata": {},
   "outputs": [],
   "source": [
    "torch.manual_seed(42)\n",
    "\n",
    "epochs = 40\n",
    "device = 'cuda' if torch.cuda.is_available() else 'cpu'\n",
    "\n",
    "model_vae = MolecularVAE().to(device)\n",
    "model_vae.load_state_dict(torch.load('/home/quang/working/denuvo/DeepPurpose/model_weight/molecular_vae.pt'))\n",
    "model_vae.train()\n",
    "for param in model_vae.parameters():\n",
    "    param.requires_grad = False"
   ]
  },
  {
   "cell_type": "code",
   "execution_count": 10,
   "id": "c98d6f4e-463d-48a9-b921-801f0955d888",
   "metadata": {},
   "outputs": [],
   "source": [
    "model_K = make_model('inception_v4', num_classes=10, pretrained=True)\n",
    "\n",
    "for param in model_K.parameters():\n",
    "    param.requires_grad = False\n",
    "\n",
    "model_K._classifier.weight.requires_grad = True\n",
    "model_K._classifier.bias.requires_grad = True\n",
    "\n",
    "\n",
    "class InceptionV4Bottom(nn.Module):\n",
    "            def __init__(self, original_model):\n",
    "                super(InceptionV4Bottom, self).__init__()\n",
    "                self.features = nn.Sequential(\n",
    "                    # stop at conv4\n",
    "                    *list(original_model.children())[:-1]\n",
    "                )\n",
    "#                 self.features = nn.Sequential(\n",
    "#                     # stop at conv4\n",
    "#                     *list(original_model.children())\n",
    "#                 )\n",
    "                dim1 = 512\n",
    "                dim2 = 292\n",
    "                self.num_ftrs = original_model._classifier.in_features\n",
    "                self.classifier1 = nn.Sequential(nn.Linear(self.num_ftrs, dim1), nn.BatchNorm1d(dim1), nn.ReLU(), \n",
    "                                                nn.Linear(dim1, dim2))\n",
    "                self.classifier2 = nn.Sequential(nn.Linear(self.num_ftrs, dim1), nn.BatchNorm1d(dim1), nn.ReLU(), \n",
    "                                                nn.Linear(dim1, dim2))\n",
    "\n",
    "            def forward(self, x1):\n",
    "                x1 = self.features(x1)\n",
    "#                 print (x1.shape)\n",
    "                x1 = x1.view(-1, self.num_ftrs)\n",
    "#                 x2 = self.dense1(x2)\n",
    "#                 print (x2.shape, x1.shape)\n",
    "#                 x = torch.cat((x1, x2), dim=1)\n",
    "                o1 = self.classifier1(x1)\n",
    "                o2 = self.classifier1(x1)\n",
    "                return o1, o2\n",
    "\n",
    "model_cnn = InceptionV4Bottom(model_K)"
   ]
  },
  {
   "cell_type": "code",
   "execution_count": 11,
   "id": "29b47099-cf5f-4133-88a4-0a3d7a87bb80",
   "metadata": {},
   "outputs": [],
   "source": [
    "def unfreeze(model, ct_c = 7):\n",
    "    for param in model.parameters():\n",
    "        param.requires_grad = True\n",
    "\n",
    "    ct = 0\n",
    "    for child in model.features[0].children():\n",
    "        ct += 1\n",
    "        if ct < ct_c:\n",
    "            for param in child.parameters():\n",
    "                param.requires_grad = False\n",
    "                \n",
    "# unfreeze(model_cnn,5)"
   ]
  },
  {
   "cell_type": "code",
   "execution_count": 12,
   "id": "5baba277-3025-467f-8f2b-c2f398155697",
   "metadata": {},
   "outputs": [],
   "source": [
    "model_cnn = model_cnn.to(device)\n",
    "\n",
    "# Observe that all parameters are being optimized\n",
    "optimizer = optim.Adam(model_cnn.parameters(), lr=0.001)"
   ]
  },
  {
   "cell_type": "code",
   "execution_count": 13,
   "id": "107a7f2d-2f3d-40df-9390-95863e243e44",
   "metadata": {},
   "outputs": [],
   "source": [
    "IMG_SIZE = 224\n",
    "transform = A.Compose([\n",
    "    A.Resize(int(IMG_SIZE), int(IMG_SIZE)),\n",
    "    A.Normalize(mean=(0.485, 0.456, 0.406), std=(0.229, 0.224, 0.225)),\n",
    "    ToTensorV2()\n",
    "])"
   ]
  },
  {
   "cell_type": "code",
   "execution_count": 14,
   "id": "bb219cff-56d2-4647-a117-c4a63cd35acf",
   "metadata": {},
   "outputs": [],
   "source": [
    "from sklearn.utils import shuffle as skutils \n",
    "import cv2\n",
    "\n",
    "smiles_char = ['?', '#', '%', ')', '(', '+', '-', '.', '1', '0', '3', '2', '5', '4',\n",
    "       '7', '6', '9', '8', '=', 'A', 'C', 'B', 'E', 'D', 'G', 'F', 'I',\n",
    "       'H', 'K', 'M', 'L', 'O', 'N', 'P', 'S', 'R', 'U', 'T', 'W', 'V',\n",
    "       'Y', '[', 'Z', ']', '_', 'a', 'c', 'b', 'e', 'd', 'g', 'f', 'i',\n",
    "       'h', 'm', 'l', 'o', 'n', 's', 'r', 'u', 't', 'y']\n",
    "\n",
    "def trans_drug(x):\n",
    "    temp = list(x)\n",
    "    temp = [i if i in smiles_char else '?' for i in temp]\n",
    "    if len(temp) < MAX_SEQ_DRUG:\n",
    "        temp = temp + ['?'] * (MAX_SEQ_DRUG-len(temp))\n",
    "    else:\n",
    "        temp = temp [:MAX_SEQ_DRUG]\n",
    "    return temp\n",
    "\n",
    "class DataFolder_ver3_BMS(object):\n",
    "\n",
    "    def __init__(self, data_folder, ids_path, batch_size, transform, path_img, shuffle=True):\n",
    "        self.data_folder = data_folder\n",
    "        self.data_files = [fn for fn in os.listdir(data_folder)]\n",
    "        self.batch_size = batch_size\n",
    "        self.shuffle = shuffle\n",
    "        self.transform = transform\n",
    "        self.path_img = path_img\n",
    "        self.ids_path = ids_path\n",
    "        self.drug_encoding = 'CNN'\n",
    "\n",
    "    def __len__(self):\n",
    "        return len(self.data_files) * 50\n",
    "\n",
    "    def __iter__(self):\n",
    "        for fn_t in self.data_files:\n",
    "            fn = os.path.join(self.data_folder, fn_t)\n",
    "            with open(fn, 'rb') as f:\n",
    "                batches = pickle.load(f)\n",
    "                \n",
    "            fn_ids = os.path.join(self.ids_path, fn_t)\n",
    "            with open(fn_ids, 'rb') as f:\n",
    "                batches_ids, batches_labels = pickle.load(f)\n",
    "\n",
    "            if self.shuffle: \n",
    "#                 random.shuffle(batches) #shuffle data before batch\n",
    "                batches, batches_ids, batches_labels = skutils(batches, batches_ids, batches_labels)\n",
    "            \n",
    "            for batch, batch_ids, batches_label in zip(batches, batches_ids, batches_labels):\n",
    "                images_list = []\n",
    "                for id_temp in batch_ids:\n",
    "                    image = cv2.imread(os.path.join(self.path_img, id_temp + '.png'))\n",
    "                    image = cv2.cvtColor(image, cv2.COLOR_BGR2RGB)\n",
    "                    transformed = self.transform(image=image)\n",
    "                    image = transformed['image']\n",
    "                    images_list.append(image)\n",
    "                batch_image = torch.stack(images_list)\n",
    "                \n",
    "                df_data = pd.DataFrame(batches_label)\n",
    "                df_data.rename(columns={0:'SMILES',},inplace=True)\n",
    "#                 df_data = encode_drug(df_data, self.drug_encoding)\n",
    "                unique = pd.Series(df_data['SMILES'].unique()).apply(trans_drug)\n",
    "                unique_dict = dict(zip(df_data['SMILES'].unique(), unique))\n",
    "                df_data['drug_encoding'] = [unique_dict[i] for i in df_data['SMILES']]\n",
    "                \n",
    "                v_d = [drug_2_embed(i) for i in df_data['drug_encoding'].values]\n",
    "                \n",
    "                yield batch, batch_image, batches_label, torch.from_numpy(np.array(v_d)).float()\n",
    "\n",
    "            del batches, batch_image, batches_ids, batches_labels\n",
    "            gc.collect()\n"
   ]
  },
  {
   "cell_type": "code",
   "execution_count": 15,
   "id": "8a7066bc-d2b3-4052-8247-3577b4a0770d",
   "metadata": {},
   "outputs": [
    {
     "name": "stderr",
     "output_type": "stream",
     "text": [
      "  0%|          | 0/200 [00:00<?, ?it/s]\n"
     ]
    }
   ],
   "source": [
    "dataset = DataFolder_ver3_BMS(args.train, '/home/quang/working/Theory_of_ML/hgraph2graph/train_processed_bms_ver2/ids', args.batch_size, transform, '/home/quang/working/Theory_of_ML/mbs-molecular-captioning/images/train/')\n",
    "for batch, images_list, labels, v_ds in tqdm(dataset):\n",
    "    break"
   ]
  },
  {
   "cell_type": "markdown",
   "id": "37942b65-2617-4466-8d7f-2101742c4145",
   "metadata": {},
   "source": [
    "## Training"
   ]
  },
  {
   "cell_type": "code",
   "execution_count": 16,
   "id": "016ac6e2-2028-420a-b333-ecd28343d82e",
   "metadata": {},
   "outputs": [],
   "source": [
    "def vae_loss(x_decoded_mean, x, z_mean, z_logvar):\n",
    "    xent_loss = F.binary_cross_entropy(x_decoded_mean, x, reduction='sum')\n",
    "    kl_loss = -0.5 * torch.sum(1 + z_logvar - z_mean.pow(2) - z_logvar.exp())\n",
    "    return xent_loss + kl_loss"
   ]
  },
  {
   "cell_type": "code",
   "execution_count": 31,
   "id": "00f292a5-1751-4052-b891-d121b4ff4798",
   "metadata": {},
   "outputs": [
    {
     "name": "stderr",
     "output_type": "stream",
     "text": [
      " 24%|██▍       | 49/200 [00:09<00:27,  5.51it/s]"
     ]
    },
    {
     "name": "stdout",
     "output_type": "stream",
     "text": [
      "[50] KL: loss: 25951.596\n"
     ]
    },
    {
     "name": "stderr",
     "output_type": "stream",
     "text": [
      " 50%|████▉     | 99/200 [00:19<00:19,  5.12it/s]"
     ]
    },
    {
     "name": "stdout",
     "output_type": "stream",
     "text": [
      "[100] KL: loss: 25342.919\n"
     ]
    },
    {
     "name": "stderr",
     "output_type": "stream",
     "text": [
      " 74%|███████▍  | 149/200 [00:29<00:09,  5.65it/s]"
     ]
    },
    {
     "name": "stdout",
     "output_type": "stream",
     "text": [
      "[150] KL: loss: 24515.640\n"
     ]
    },
    {
     "name": "stderr",
     "output_type": "stream",
     "text": [
      "100%|█████████▉| 199/200 [00:39<00:00,  5.60it/s]"
     ]
    },
    {
     "name": "stdout",
     "output_type": "stream",
     "text": [
      "[200] KL: loss: 23964.124\n"
     ]
    },
    {
     "name": "stderr",
     "output_type": "stream",
     "text": [
      "245it [00:48,  5.04it/s]                         \n",
      "  2%|▏         | 4/200 [00:01<00:52,  3.75it/s]"
     ]
    },
    {
     "name": "stdout",
     "output_type": "stream",
     "text": [
      "[250] KL: loss: 23866.978\n"
     ]
    },
    {
     "name": "stderr",
     "output_type": "stream",
     "text": [
      " 27%|██▋       | 54/200 [00:11<00:28,  5.11it/s]"
     ]
    },
    {
     "name": "stdout",
     "output_type": "stream",
     "text": [
      "[300] KL: loss: 23483.858\n"
     ]
    },
    {
     "name": "stderr",
     "output_type": "stream",
     "text": [
      " 52%|█████▏    | 104/200 [00:21<00:18,  5.09it/s]"
     ]
    },
    {
     "name": "stdout",
     "output_type": "stream",
     "text": [
      "[350] KL: loss: 23099.925\n"
     ]
    },
    {
     "name": "stderr",
     "output_type": "stream",
     "text": [
      " 77%|███████▋  | 154/200 [00:31<00:08,  5.18it/s]"
     ]
    },
    {
     "name": "stdout",
     "output_type": "stream",
     "text": [
      "[400] KL: loss: 22581.579\n"
     ]
    },
    {
     "name": "stderr",
     "output_type": "stream",
     "text": [
      "204it [00:41,  5.52it/s]                         "
     ]
    },
    {
     "name": "stdout",
     "output_type": "stream",
     "text": [
      "[450] KL: loss: 22352.718\n"
     ]
    },
    {
     "name": "stderr",
     "output_type": "stream",
     "text": [
      "245it [00:49,  4.96it/s]\n",
      "  4%|▍         | 9/200 [00:02<00:38,  4.93it/s]"
     ]
    },
    {
     "name": "stdout",
     "output_type": "stream",
     "text": [
      "[500] KL: loss: 21777.814\n"
     ]
    },
    {
     "name": "stderr",
     "output_type": "stream",
     "text": [
      " 30%|██▉       | 59/200 [00:12<00:27,  5.12it/s]"
     ]
    },
    {
     "name": "stdout",
     "output_type": "stream",
     "text": [
      "[550] KL: loss: 21596.499\n"
     ]
    },
    {
     "name": "stderr",
     "output_type": "stream",
     "text": [
      " 55%|█████▍    | 109/200 [00:22<00:17,  5.08it/s]"
     ]
    },
    {
     "name": "stdout",
     "output_type": "stream",
     "text": [
      "[600] KL: loss: 21536.215\n"
     ]
    },
    {
     "name": "stderr",
     "output_type": "stream",
     "text": [
      " 80%|███████▉  | 159/200 [00:32<00:08,  5.03it/s]"
     ]
    },
    {
     "name": "stdout",
     "output_type": "stream",
     "text": [
      "[650] KL: loss: 21068.637\n"
     ]
    },
    {
     "name": "stderr",
     "output_type": "stream",
     "text": [
      "209it [00:42,  5.17it/s]                         "
     ]
    },
    {
     "name": "stdout",
     "output_type": "stream",
     "text": [
      "[700] KL: loss: 21056.430\n"
     ]
    },
    {
     "name": "stderr",
     "output_type": "stream",
     "text": [
      "245it [00:50,  4.89it/s]\n",
      "  7%|▋         | 14/200 [00:03<00:34,  5.40it/s]"
     ]
    },
    {
     "name": "stdout",
     "output_type": "stream",
     "text": [
      "[750] KL: loss: 20666.541\n"
     ]
    },
    {
     "name": "stderr",
     "output_type": "stream",
     "text": [
      " 32%|███▏      | 64/200 [00:13<00:31,  4.25it/s]"
     ]
    },
    {
     "name": "stdout",
     "output_type": "stream",
     "text": [
      "[800] KL: loss: 20798.271\n"
     ]
    },
    {
     "name": "stderr",
     "output_type": "stream",
     "text": [
      " 57%|█████▋    | 114/200 [00:22<00:16,  5.07it/s]"
     ]
    },
    {
     "name": "stdout",
     "output_type": "stream",
     "text": [
      "[850] KL: loss: 21360.875\n"
     ]
    },
    {
     "name": "stderr",
     "output_type": "stream",
     "text": [
      " 82%|████████▏ | 164/200 [00:33<00:07,  5.05it/s]"
     ]
    },
    {
     "name": "stdout",
     "output_type": "stream",
     "text": [
      "[900] KL: loss: 26788.226\n"
     ]
    },
    {
     "name": "stderr",
     "output_type": "stream",
     "text": [
      "214it [00:43,  5.14it/s]                         "
     ]
    },
    {
     "name": "stdout",
     "output_type": "stream",
     "text": [
      "[950] KL: loss: 26217.368\n"
     ]
    },
    {
     "name": "stderr",
     "output_type": "stream",
     "text": [
      "245it [00:49,  4.95it/s]\n",
      " 10%|▉         | 19/200 [00:04<00:33,  5.37it/s]"
     ]
    },
    {
     "name": "stdout",
     "output_type": "stream",
     "text": [
      "[1000] KL: loss: 25639.614\n"
     ]
    },
    {
     "name": "stderr",
     "output_type": "stream",
     "text": [
      " 34%|███▍      | 69/200 [00:14<00:25,  5.20it/s]"
     ]
    },
    {
     "name": "stdout",
     "output_type": "stream",
     "text": [
      "[1050] KL: loss: 24755.501\n"
     ]
    },
    {
     "name": "stderr",
     "output_type": "stream",
     "text": [
      " 60%|█████▉    | 119/200 [00:23<00:15,  5.15it/s]"
     ]
    },
    {
     "name": "stdout",
     "output_type": "stream",
     "text": [
      "[1100] KL: loss: 25166.908\n"
     ]
    },
    {
     "name": "stderr",
     "output_type": "stream",
     "text": [
      " 84%|████████▍ | 169/200 [00:34<00:06,  5.02it/s]"
     ]
    },
    {
     "name": "stdout",
     "output_type": "stream",
     "text": [
      "[1150] KL: loss: 23426.791\n"
     ]
    },
    {
     "name": "stderr",
     "output_type": "stream",
     "text": [
      "219it [00:44,  5.11it/s]                         "
     ]
    },
    {
     "name": "stdout",
     "output_type": "stream",
     "text": [
      "[1200] KL: loss: 22968.400\n"
     ]
    },
    {
     "name": "stderr",
     "output_type": "stream",
     "text": [
      "245it [00:49,  4.93it/s]\n",
      " 12%|█▏        | 24/200 [00:04<00:31,  5.62it/s]"
     ]
    },
    {
     "name": "stdout",
     "output_type": "stream",
     "text": [
      "[1250] KL: loss: 22477.990\n"
     ]
    },
    {
     "name": "stderr",
     "output_type": "stream",
     "text": [
      " 37%|███▋      | 74/200 [00:15<00:22,  5.54it/s]"
     ]
    },
    {
     "name": "stdout",
     "output_type": "stream",
     "text": [
      "[1300] KL: loss: 21959.384\n"
     ]
    },
    {
     "name": "stderr",
     "output_type": "stream",
     "text": [
      " 62%|██████▏   | 124/200 [00:25<00:22,  3.35it/s]"
     ]
    },
    {
     "name": "stdout",
     "output_type": "stream",
     "text": [
      "[1350] KL: loss: 22014.977\n"
     ]
    },
    {
     "name": "stderr",
     "output_type": "stream",
     "text": [
      " 87%|████████▋ | 174/200 [00:34<00:05,  4.87it/s]"
     ]
    },
    {
     "name": "stdout",
     "output_type": "stream",
     "text": [
      "[1400] KL: loss: 20910.205\n"
     ]
    },
    {
     "name": "stderr",
     "output_type": "stream",
     "text": [
      "224it [00:44,  5.21it/s]                         "
     ]
    },
    {
     "name": "stdout",
     "output_type": "stream",
     "text": [
      "[1450] KL: loss: 20603.796\n"
     ]
    },
    {
     "name": "stderr",
     "output_type": "stream",
     "text": [
      "245it [00:49,  4.97it/s]\n",
      " 14%|█▍        | 29/200 [00:05<00:33,  5.09it/s]"
     ]
    },
    {
     "name": "stdout",
     "output_type": "stream",
     "text": [
      "[1500] KL: loss: 20388.427\n"
     ]
    },
    {
     "name": "stderr",
     "output_type": "stream",
     "text": [
      " 40%|███▉      | 79/200 [00:16<00:22,  5.32it/s]"
     ]
    },
    {
     "name": "stdout",
     "output_type": "stream",
     "text": [
      "[1550] KL: loss: 20223.172\n"
     ]
    },
    {
     "name": "stderr",
     "output_type": "stream",
     "text": [
      " 64%|██████▍   | 129/200 [00:26<00:14,  5.04it/s]"
     ]
    },
    {
     "name": "stdout",
     "output_type": "stream",
     "text": [
      "[1600] KL: loss: 19652.487\n"
     ]
    },
    {
     "name": "stderr",
     "output_type": "stream",
     "text": [
      " 90%|████████▉ | 179/200 [00:35<00:04,  5.14it/s]"
     ]
    },
    {
     "name": "stdout",
     "output_type": "stream",
     "text": [
      "[1650] KL: loss: 19203.091\n"
     ]
    },
    {
     "name": "stderr",
     "output_type": "stream",
     "text": [
      "229it [00:46,  5.03it/s]                         "
     ]
    },
    {
     "name": "stdout",
     "output_type": "stream",
     "text": [
      "[1700] KL: loss: 18978.948\n"
     ]
    },
    {
     "name": "stderr",
     "output_type": "stream",
     "text": [
      "245it [00:49,  4.96it/s]\n",
      " 17%|█▋        | 34/200 [00:07<00:33,  4.96it/s]"
     ]
    },
    {
     "name": "stdout",
     "output_type": "stream",
     "text": [
      "[1750] KL: loss: 18952.498\n"
     ]
    },
    {
     "name": "stderr",
     "output_type": "stream",
     "text": [
      " 42%|████▏     | 84/200 [00:16<00:22,  5.19it/s]"
     ]
    },
    {
     "name": "stdout",
     "output_type": "stream",
     "text": [
      "[1800] KL: loss: 18465.655\n"
     ]
    },
    {
     "name": "stderr",
     "output_type": "stream",
     "text": [
      " 67%|██████▋   | 134/200 [00:27<00:12,  5.40it/s]"
     ]
    },
    {
     "name": "stdout",
     "output_type": "stream",
     "text": [
      "[1850] KL: loss: 18441.688\n"
     ]
    },
    {
     "name": "stderr",
     "output_type": "stream",
     "text": [
      " 92%|█████████▏| 184/200 [00:37<00:06,  2.52it/s]"
     ]
    },
    {
     "name": "stdout",
     "output_type": "stream",
     "text": [
      "[1900] KL: loss: 18121.203\n"
     ]
    },
    {
     "name": "stderr",
     "output_type": "stream",
     "text": [
      "234it [00:47,  5.36it/s]                         "
     ]
    },
    {
     "name": "stdout",
     "output_type": "stream",
     "text": [
      "[1950] KL: loss: 17979.032\n"
     ]
    },
    {
     "name": "stderr",
     "output_type": "stream",
     "text": [
      "245it [00:49,  4.93it/s]\n",
      " 20%|█▉        | 39/200 [00:07<00:31,  5.16it/s]"
     ]
    },
    {
     "name": "stdout",
     "output_type": "stream",
     "text": [
      "[2000] KL: loss: 17720.836\n"
     ]
    },
    {
     "name": "stderr",
     "output_type": "stream",
     "text": [
      " 44%|████▍     | 89/200 [00:17<00:20,  5.34it/s]"
     ]
    },
    {
     "name": "stdout",
     "output_type": "stream",
     "text": [
      "[2050] KL: loss: 17628.522\n"
     ]
    },
    {
     "name": "stderr",
     "output_type": "stream",
     "text": [
      " 70%|██████▉   | 139/200 [00:28<00:10,  5.56it/s]"
     ]
    },
    {
     "name": "stdout",
     "output_type": "stream",
     "text": [
      "[2100] KL: loss: 17046.915\n"
     ]
    },
    {
     "name": "stderr",
     "output_type": "stream",
     "text": [
      " 94%|█████████▍| 189/200 [00:38<00:02,  4.46it/s]"
     ]
    },
    {
     "name": "stdout",
     "output_type": "stream",
     "text": [
      "[2150] KL: loss: 17147.146\n"
     ]
    },
    {
     "name": "stderr",
     "output_type": "stream",
     "text": [
      "239it [00:48,  4.84it/s]                         "
     ]
    },
    {
     "name": "stdout",
     "output_type": "stream",
     "text": [
      "[2200] KL: loss: 16906.157\n"
     ]
    },
    {
     "name": "stderr",
     "output_type": "stream",
     "text": [
      "245it [00:49,  4.95it/s]\n",
      " 22%|██▏       | 44/200 [00:08<00:30,  5.13it/s]"
     ]
    },
    {
     "name": "stdout",
     "output_type": "stream",
     "text": [
      "[2250] KL: loss: 16699.071\n"
     ]
    },
    {
     "name": "stderr",
     "output_type": "stream",
     "text": [
      " 47%|████▋     | 94/200 [00:18<00:21,  4.96it/s]"
     ]
    },
    {
     "name": "stdout",
     "output_type": "stream",
     "text": [
      "[2300] KL: loss: 16651.907\n"
     ]
    },
    {
     "name": "stderr",
     "output_type": "stream",
     "text": [
      " 72%|███████▏  | 144/200 [00:29<00:10,  5.51it/s]"
     ]
    },
    {
     "name": "stdout",
     "output_type": "stream",
     "text": [
      "[2350] KL: loss: 16325.635\n"
     ]
    },
    {
     "name": "stderr",
     "output_type": "stream",
     "text": [
      " 97%|█████████▋| 194/200 [00:39<00:01,  5.31it/s]"
     ]
    },
    {
     "name": "stdout",
     "output_type": "stream",
     "text": [
      "[2400] KL: loss: 16087.209\n"
     ]
    },
    {
     "name": "stderr",
     "output_type": "stream",
     "text": [
      "244it [00:49,  5.17it/s]                         "
     ]
    },
    {
     "name": "stdout",
     "output_type": "stream",
     "text": [
      "[2450] KL: loss: 16173.945\n"
     ]
    },
    {
     "name": "stderr",
     "output_type": "stream",
     "text": [
      "245it [00:49,  4.96it/s]\n",
      " 24%|██▍       | 49/200 [00:09<00:29,  5.08it/s]"
     ]
    },
    {
     "name": "stdout",
     "output_type": "stream",
     "text": [
      "[2500] KL: loss: 15919.018\n"
     ]
    },
    {
     "name": "stderr",
     "output_type": "stream",
     "text": [
      " 50%|████▉     | 99/200 [00:20<00:19,  5.07it/s]"
     ]
    },
    {
     "name": "stdout",
     "output_type": "stream",
     "text": [
      "[2550] KL: loss: 15722.376\n"
     ]
    },
    {
     "name": "stderr",
     "output_type": "stream",
     "text": [
      " 74%|███████▍  | 149/200 [00:30<00:09,  5.18it/s]"
     ]
    },
    {
     "name": "stdout",
     "output_type": "stream",
     "text": [
      "[2600] KL: loss: 15874.764\n"
     ]
    },
    {
     "name": "stderr",
     "output_type": "stream",
     "text": [
      "100%|█████████▉| 199/200 [00:40<00:00,  5.42it/s]"
     ]
    },
    {
     "name": "stdout",
     "output_type": "stream",
     "text": [
      "[2650] KL: loss: 15411.560\n"
     ]
    },
    {
     "name": "stderr",
     "output_type": "stream",
     "text": [
      "245it [00:48,  5.01it/s]                         \n",
      "  2%|▏         | 4/200 [00:01<00:50,  3.88it/s]"
     ]
    },
    {
     "name": "stdout",
     "output_type": "stream",
     "text": [
      "[2700] KL: loss: 15648.081\n"
     ]
    },
    {
     "name": "stderr",
     "output_type": "stream",
     "text": [
      " 27%|██▋       | 54/200 [00:10<00:27,  5.41it/s]"
     ]
    },
    {
     "name": "stdout",
     "output_type": "stream",
     "text": [
      "[2750] KL: loss: 15107.784\n"
     ]
    },
    {
     "name": "stderr",
     "output_type": "stream",
     "text": [
      " 52%|█████▏    | 104/200 [00:20<00:18,  5.08it/s]"
     ]
    },
    {
     "name": "stdout",
     "output_type": "stream",
     "text": [
      "[2800] KL: loss: 15272.413\n"
     ]
    },
    {
     "name": "stderr",
     "output_type": "stream",
     "text": [
      " 77%|███████▋  | 154/200 [00:31<00:08,  5.33it/s]"
     ]
    },
    {
     "name": "stdout",
     "output_type": "stream",
     "text": [
      "[2850] KL: loss: 15104.729\n"
     ]
    },
    {
     "name": "stderr",
     "output_type": "stream",
     "text": [
      "204it [00:41,  5.51it/s]                         "
     ]
    },
    {
     "name": "stdout",
     "output_type": "stream",
     "text": [
      "[2900] KL: loss: 14948.318\n"
     ]
    },
    {
     "name": "stderr",
     "output_type": "stream",
     "text": [
      "245it [00:48,  5.02it/s]\n",
      "  4%|▍         | 9/200 [00:02<00:36,  5.24it/s]"
     ]
    },
    {
     "name": "stdout",
     "output_type": "stream",
     "text": [
      "[2950] KL: loss: 14961.644\n"
     ]
    },
    {
     "name": "stderr",
     "output_type": "stream",
     "text": [
      " 30%|██▉       | 59/200 [00:11<00:26,  5.41it/s]"
     ]
    },
    {
     "name": "stdout",
     "output_type": "stream",
     "text": [
      "[3000] KL: loss: 14596.683\n"
     ]
    },
    {
     "name": "stderr",
     "output_type": "stream",
     "text": [
      " 55%|█████▍    | 109/200 [00:21<00:18,  4.95it/s]"
     ]
    },
    {
     "name": "stdout",
     "output_type": "stream",
     "text": [
      "[3050] KL: loss: 14721.758\n"
     ]
    },
    {
     "name": "stderr",
     "output_type": "stream",
     "text": [
      " 80%|███████▉  | 159/200 [00:32<00:08,  4.98it/s]"
     ]
    },
    {
     "name": "stdout",
     "output_type": "stream",
     "text": [
      "[3100] KL: loss: 14506.791\n"
     ]
    },
    {
     "name": "stderr",
     "output_type": "stream",
     "text": [
      "209it [00:42,  5.58it/s]                         "
     ]
    },
    {
     "name": "stdout",
     "output_type": "stream",
     "text": [
      "[3150] KL: loss: 14584.994\n"
     ]
    },
    {
     "name": "stderr",
     "output_type": "stream",
     "text": [
      "245it [00:50,  4.88it/s]\n",
      "  7%|▋         | 14/200 [00:03<00:35,  5.24it/s]"
     ]
    },
    {
     "name": "stdout",
     "output_type": "stream",
     "text": [
      "[3200] KL: loss: 14258.527\n"
     ]
    },
    {
     "name": "stderr",
     "output_type": "stream",
     "text": [
      " 32%|███▏      | 64/200 [00:13<00:30,  4.39it/s]"
     ]
    },
    {
     "name": "stdout",
     "output_type": "stream",
     "text": [
      "[3250] KL: loss: 14137.169\n"
     ]
    },
    {
     "name": "stderr",
     "output_type": "stream",
     "text": [
      " 57%|█████▋    | 114/200 [00:22<00:16,  5.07it/s]"
     ]
    },
    {
     "name": "stdout",
     "output_type": "stream",
     "text": [
      "[3300] KL: loss: 14258.106\n"
     ]
    },
    {
     "name": "stderr",
     "output_type": "stream",
     "text": [
      " 82%|████████▏ | 164/200 [00:33<00:07,  5.07it/s]"
     ]
    },
    {
     "name": "stdout",
     "output_type": "stream",
     "text": [
      "[3350] KL: loss: 14134.579\n"
     ]
    },
    {
     "name": "stderr",
     "output_type": "stream",
     "text": [
      "214it [00:43,  5.37it/s]                         "
     ]
    },
    {
     "name": "stdout",
     "output_type": "stream",
     "text": [
      "[3400] KL: loss: 14016.578\n"
     ]
    },
    {
     "name": "stderr",
     "output_type": "stream",
     "text": [
      "245it [00:49,  5.00it/s]\n",
      " 10%|▉         | 19/200 [00:03<00:32,  5.54it/s]"
     ]
    },
    {
     "name": "stdout",
     "output_type": "stream",
     "text": [
      "[3450] KL: loss: 13810.775\n"
     ]
    },
    {
     "name": "stderr",
     "output_type": "stream",
     "text": [
      " 34%|███▍      | 69/200 [00:13<00:24,  5.36it/s]"
     ]
    },
    {
     "name": "stdout",
     "output_type": "stream",
     "text": [
      "[3500] KL: loss: 13808.166\n"
     ]
    },
    {
     "name": "stderr",
     "output_type": "stream",
     "text": [
      " 60%|█████▉    | 119/200 [00:23<00:14,  5.49it/s]"
     ]
    },
    {
     "name": "stdout",
     "output_type": "stream",
     "text": [
      "[3550] KL: loss: 13864.460\n"
     ]
    },
    {
     "name": "stderr",
     "output_type": "stream",
     "text": [
      " 84%|████████▍ | 169/200 [00:34<00:06,  5.00it/s]"
     ]
    },
    {
     "name": "stdout",
     "output_type": "stream",
     "text": [
      "[3600] KL: loss: 13726.614\n"
     ]
    },
    {
     "name": "stderr",
     "output_type": "stream",
     "text": [
      "219it [00:44,  5.24it/s]                         "
     ]
    },
    {
     "name": "stdout",
     "output_type": "stream",
     "text": [
      "[3650] KL: loss: 13719.541\n"
     ]
    },
    {
     "name": "stderr",
     "output_type": "stream",
     "text": [
      "245it [00:49,  4.98it/s]\n",
      " 12%|█▏        | 24/200 [00:05<00:34,  5.12it/s]"
     ]
    },
    {
     "name": "stdout",
     "output_type": "stream",
     "text": [
      "[3700] KL: loss: 13647.904\n"
     ]
    },
    {
     "name": "stderr",
     "output_type": "stream",
     "text": [
      " 37%|███▋      | 74/200 [00:15<00:24,  5.07it/s]"
     ]
    },
    {
     "name": "stdout",
     "output_type": "stream",
     "text": [
      "[3750] KL: loss: 13341.923\n"
     ]
    },
    {
     "name": "stderr",
     "output_type": "stream",
     "text": [
      " 62%|██████▏   | 124/200 [00:25<00:23,  3.30it/s]"
     ]
    },
    {
     "name": "stdout",
     "output_type": "stream",
     "text": [
      "[3800] KL: loss: 13464.528\n"
     ]
    },
    {
     "name": "stderr",
     "output_type": "stream",
     "text": [
      " 87%|████████▋ | 174/200 [00:35<00:05,  5.07it/s]"
     ]
    },
    {
     "name": "stdout",
     "output_type": "stream",
     "text": [
      "[3850] KL: loss: 13333.379\n"
     ]
    },
    {
     "name": "stderr",
     "output_type": "stream",
     "text": [
      "224it [00:45,  5.14it/s]                         "
     ]
    },
    {
     "name": "stdout",
     "output_type": "stream",
     "text": [
      "[3900] KL: loss: 13288.749\n"
     ]
    },
    {
     "name": "stderr",
     "output_type": "stream",
     "text": [
      "245it [00:50,  4.88it/s]\n",
      " 14%|█▍        | 29/200 [00:06<00:31,  5.46it/s]"
     ]
    },
    {
     "name": "stdout",
     "output_type": "stream",
     "text": [
      "[3950] KL: loss: 13153.597\n"
     ]
    },
    {
     "name": "stderr",
     "output_type": "stream",
     "text": [
      " 40%|███▉      | 79/200 [00:15<00:23,  5.23it/s]"
     ]
    },
    {
     "name": "stdout",
     "output_type": "stream",
     "text": [
      "[4000] KL: loss: 13076.322\n"
     ]
    },
    {
     "name": "stderr",
     "output_type": "stream",
     "text": [
      " 64%|██████▍   | 129/200 [00:25<00:14,  4.95it/s]"
     ]
    },
    {
     "name": "stdout",
     "output_type": "stream",
     "text": [
      "[4050] KL: loss: 13175.998\n"
     ]
    },
    {
     "name": "stderr",
     "output_type": "stream",
     "text": [
      " 90%|████████▉ | 179/200 [00:35<00:04,  4.97it/s]"
     ]
    },
    {
     "name": "stdout",
     "output_type": "stream",
     "text": [
      "[4100] KL: loss: 13036.190\n"
     ]
    },
    {
     "name": "stderr",
     "output_type": "stream",
     "text": [
      "229it [00:45,  5.05it/s]                         "
     ]
    },
    {
     "name": "stdout",
     "output_type": "stream",
     "text": [
      "[4150] KL: loss: 12971.094\n"
     ]
    },
    {
     "name": "stderr",
     "output_type": "stream",
     "text": [
      "245it [00:49,  4.98it/s]\n",
      " 17%|█▋        | 34/200 [00:06<00:33,  5.02it/s]"
     ]
    },
    {
     "name": "stdout",
     "output_type": "stream",
     "text": [
      "[4200] KL: loss: 12774.095\n"
     ]
    },
    {
     "name": "stderr",
     "output_type": "stream",
     "text": [
      " 42%|████▏     | 84/200 [00:17<00:23,  5.02it/s]"
     ]
    },
    {
     "name": "stdout",
     "output_type": "stream",
     "text": [
      "[4250] KL: loss: 12947.860\n"
     ]
    },
    {
     "name": "stderr",
     "output_type": "stream",
     "text": [
      " 67%|██████▋   | 134/200 [00:27<00:13,  5.00it/s]"
     ]
    },
    {
     "name": "stdout",
     "output_type": "stream",
     "text": [
      "[4300] KL: loss: 12936.975\n"
     ]
    },
    {
     "name": "stderr",
     "output_type": "stream",
     "text": [
      " 92%|█████████▏| 184/200 [00:37<00:06,  2.44it/s]"
     ]
    },
    {
     "name": "stdout",
     "output_type": "stream",
     "text": [
      "[4350] KL: loss: 12772.173\n"
     ]
    },
    {
     "name": "stderr",
     "output_type": "stream",
     "text": [
      "234it [00:46,  5.14it/s]                         "
     ]
    },
    {
     "name": "stdout",
     "output_type": "stream",
     "text": [
      "[4400] KL: loss: 12780.486\n"
     ]
    },
    {
     "name": "stderr",
     "output_type": "stream",
     "text": [
      "245it [00:48,  5.00it/s]\n",
      " 20%|█▉        | 39/200 [00:08<00:31,  5.04it/s]"
     ]
    },
    {
     "name": "stdout",
     "output_type": "stream",
     "text": [
      "[4450] KL: loss: 12759.638\n"
     ]
    },
    {
     "name": "stderr",
     "output_type": "stream",
     "text": [
      " 44%|████▍     | 89/200 [00:18<00:21,  5.11it/s]"
     ]
    },
    {
     "name": "stdout",
     "output_type": "stream",
     "text": [
      "[4500] KL: loss: 13427.392\n"
     ]
    },
    {
     "name": "stderr",
     "output_type": "stream",
     "text": [
      " 70%|██████▉   | 139/200 [00:28<00:11,  5.49it/s]"
     ]
    },
    {
     "name": "stdout",
     "output_type": "stream",
     "text": [
      "[4550] KL: loss: 13398.419\n"
     ]
    },
    {
     "name": "stderr",
     "output_type": "stream",
     "text": [
      " 94%|█████████▍| 189/200 [00:38<00:02,  4.58it/s]"
     ]
    },
    {
     "name": "stdout",
     "output_type": "stream",
     "text": [
      "[4600] KL: loss: 13057.318\n"
     ]
    },
    {
     "name": "stderr",
     "output_type": "stream",
     "text": [
      "239it [00:48,  5.08it/s]                         "
     ]
    },
    {
     "name": "stdout",
     "output_type": "stream",
     "text": [
      "[4650] KL: loss: 13011.198\n"
     ]
    },
    {
     "name": "stderr",
     "output_type": "stream",
     "text": [
      "245it [00:49,  4.91it/s]\n",
      " 22%|██▏       | 44/200 [00:09<00:30,  5.07it/s]"
     ]
    },
    {
     "name": "stdout",
     "output_type": "stream",
     "text": [
      "[4700] KL: loss: 12757.615\n"
     ]
    },
    {
     "name": "stderr",
     "output_type": "stream",
     "text": [
      " 47%|████▋     | 94/200 [00:19<00:19,  5.50it/s]"
     ]
    },
    {
     "name": "stdout",
     "output_type": "stream",
     "text": [
      "[4750] KL: loss: 12737.320\n"
     ]
    },
    {
     "name": "stderr",
     "output_type": "stream",
     "text": [
      " 72%|███████▏  | 144/200 [00:29<00:10,  5.47it/s]"
     ]
    },
    {
     "name": "stdout",
     "output_type": "stream",
     "text": [
      "[4800] KL: loss: 12534.748\n"
     ]
    },
    {
     "name": "stderr",
     "output_type": "stream",
     "text": [
      " 97%|█████████▋| 194/200 [00:39<00:01,  5.22it/s]"
     ]
    },
    {
     "name": "stdout",
     "output_type": "stream",
     "text": [
      "[4850] KL: loss: 12472.723\n"
     ]
    },
    {
     "name": "stderr",
     "output_type": "stream",
     "text": [
      "244it [00:48,  5.07it/s]                         "
     ]
    },
    {
     "name": "stdout",
     "output_type": "stream",
     "text": [
      "[4900] KL: loss: 12484.207\n"
     ]
    },
    {
     "name": "stderr",
     "output_type": "stream",
     "text": [
      "245it [00:49,  5.00it/s]\n"
     ]
    }
   ],
   "source": [
    "total_step = 0\n",
    "meters = np.zeros(1)\n",
    "for epoch in range(args.epoch):\n",
    "    dataset = DataFolder_ver3_BMS(args.train, '/home/quang/working/Theory_of_ML/hgraph2graph/train_processed_bms_ver2/ids', args.batch_size, transform, '/home/quang/working/Theory_of_ML/mbs-molecular-captioning/images/train/')\n",
    "    for batch, images_list, labels, v_ds in tqdm(dataset):\n",
    "        total_step += 1\n",
    "#         images_list, tree_batch, jtenc_holder, mpn_holder, (jtmpn_holder,batch_idx) = batch_t\n",
    "#         batch = tree_batch, jtenc_holder, mpn_holder, (jtmpn_holder,batch_idx)\n",
    "        images_list = images_list.to(device)\n",
    "        v_ds = v_ds.to(device)\n",
    "        optimizer.zero_grad()\n",
    "        mu_vec, var_vec = model_cnn(images_list)\n",
    "        z = model_vae.reparametrize_ver2(mu_vec, var_vec)\n",
    "        output = model_vae.decode(z)\n",
    "#         print (output.shape, v_ds.shape)\n",
    "        loss = vae_loss(output, v_ds.transpose(1,2), mu_vec, var_vec)\n",
    "        loss.backward()\n",
    "        optimizer.step()\n",
    "        \n",
    "#         try:\n",
    "#             optimizer.zero_grad()\n",
    "#             tree_vec, mol_vec = model_cnn(images_list)\n",
    "#             loss, kl_div, wacc, iacc, tacc, sacc = model.forward_edit(*batch, mol_vec, beta=beta)\n",
    "# #             loss, kl_div, wacc, tacc, sacc = model.forward_edit(batch, beta, tree_vec, mol_vec)\n",
    "#             loss.backward()\n",
    "#             optimizer.step()\n",
    "#         except Exception as e:\n",
    "#             print (e)\n",
    "#             continue\n",
    "\n",
    "        meters = meters + np.array([loss.item()])\n",
    "\n",
    "        if total_step % args.print_iter == 0:\n",
    "            meters /= args.print_iter\n",
    "            print(\"[%d] KL: loss: %.3f\" % (total_step, meters[0]))\n",
    "            sys.stdout.flush()\n",
    "            meters *= 0\n",
    "\n",
    "#         if total_step % args.save_iter == 0:\n",
    "#             torch.save(model.state_dict(), args.save_dir + \"/model.iter-\" + str(total_step))\n",
    "\n",
    "#         if total_step % args.anneal_iter == 0:\n",
    "#             scheduler.step()\n",
    "#             print (\"learning rate: %.6f\" % scheduler.get_lr()[0])\n",
    "\n",
    "#         if total_step % args.kl_anneal_iter == 0 and total_step >= args.warmup:\n",
    "#             beta = min(args.max_beta, beta + args.step_beta)\n",
    "            \n",
    "torch.save(model_cnn.state_dict(),  \"./model_cnn/model_cnn_CNNRNN_ver5.iter-\" + str(total_step))"
   ]
  },
  {
   "cell_type": "markdown",
   "id": "451c3e96-fe64-4315-adca-6b0e61064dd9",
   "metadata": {},
   "source": [
    "## Validation"
   ]
  },
  {
   "cell_type": "code",
   "execution_count": 17,
   "id": "43911aff-3a8e-4413-96d9-22601744bd5d",
   "metadata": {},
   "outputs": [
    {
     "data": {
      "text/plain": [
       "<All keys matched successfully>"
      ]
     },
     "execution_count": 17,
     "metadata": {},
     "output_type": "execute_result"
    }
   ],
   "source": [
    "model_cnn.load_state_dict(torch.load('./model_cnn/model_cnn_CNNRNN_ver1.iter-4900'))"
   ]
  },
  {
   "cell_type": "code",
   "execution_count": null,
   "id": "94976fe7-dfae-4e51-94db-df6d47265e5f",
   "metadata": {},
   "outputs": [],
   "source": [
    "# from sklearn.utils import shuffle as skutils \n",
    "# import cv2\n",
    "dataset = DataFolder_ver3_BMS(args.train, '/home/quang/working/Theory_of_ML/hgraph2graph/train_processed_bms_ver2/ids', args.batch_size, transform, '/home/quang/working/Theory_of_ML/mbs-molecular-captioning/images/train/')\n"
   ]
  },
  {
   "cell_type": "code",
   "execution_count": 32,
   "id": "10e00ae0-4c58-4e26-9822-abd537489bac",
   "metadata": {},
   "outputs": [
    {
     "name": "stderr",
     "output_type": "stream",
     "text": [
      "114it [00:21,  5.27it/s]                         \n"
     ]
    }
   ],
   "source": [
    "dataset_val = DataFolder_ver3_BMS('./val_processed_bms/mol/', '/home/quang/working/Theory_of_ML/hgraph2graph/val_processed_bms/ids', args.batch_size, transform, '/home/quang/working/Theory_of_ML/mbs-molecular-captioning/images/val/')\n",
    "total_labels = []\n",
    "total_preds = []\n",
    "for batch, images_list, labels, _ in tqdm(dataset_val):\n",
    "    images_list = images_list.to(device)\n",
    "    with torch.no_grad():\n",
    "        mu_vec, var_vec = model_cnn(images_list)\n",
    "        z = model_vae.reparametrize_ver2(mu_vec, var_vec)\n",
    "        outputs = model_vae.decode(z)\n",
    "        for i in range(len(outputs)):\n",
    "            sampled = outputs[i].reshape(1, 100, len(charset)).argmax(axis=2)[0].cpu()\n",
    "            total_preds.append(decode_smiles_from_indexes_new(sampled, enc_drug))\n",
    "    total_labels.extend(labels)\n",
    "#     total_preds.extend(outputs)"
   ]
  },
  {
   "cell_type": "markdown",
   "id": "0180f90b-d220-4ea1-bfe1-c0ff085eaf2a",
   "metadata": {},
   "source": [
    "## Levenshtein distance for SMILES code"
   ]
  },
  {
   "cell_type": "code",
   "execution_count": 33,
   "id": "a057332c-dbdb-4d8e-964c-d2f32ceafaa8",
   "metadata": {},
   "outputs": [
    {
     "name": "stdout",
     "output_type": "stream",
     "text": [
      "42.912527593818986\n"
     ]
    }
   ],
   "source": [
    "import Levenshtein\n",
    "def get_score(y_true, y_pred):\n",
    "    scores = []\n",
    "    for true, pred in zip(y_true, y_pred):\n",
    "        score = Levenshtein.distance(true, pred)\n",
    "        scores.append(score)\n",
    "    avg_score = np.mean(scores)\n",
    "    return avg_score\n",
    "\n",
    "score = get_score(total_labels, total_preds)\n",
    "print (score)"
   ]
  },
  {
   "cell_type": "markdown",
   "id": "79c3d888-463d-47f4-9e7b-0c72605cfb98",
   "metadata": {},
   "source": [
    "## Validity score"
   ]
  },
  {
   "cell_type": "code",
   "execution_count": 37,
   "id": "b8434855-c947-44da-852c-c35cc15493ac",
   "metadata": {},
   "outputs": [
    {
     "name": "stderr",
     "output_type": "stream",
     "text": [
      "100%|██████████| 3624/3624 [00:00<00:00, 37121.27it/s]"
     ]
    },
    {
     "name": "stdout",
     "output_type": "stream",
     "text": [
      "0.003863134657836609\n"
     ]
    },
    {
     "name": "stderr",
     "output_type": "stream",
     "text": [
      "\n"
     ]
    }
   ],
   "source": [
    "invalid_smiles = 0\n",
    "for smile_temp in tqdm(total_preds):\n",
    "    m = Chem.MolFromSmiles(smile_temp)\n",
    "    if m is None:\n",
    "        invalid_smiles += 1\n",
    "        \n",
    "print (1 - invalid_smiles/len(total_preds))"
   ]
  },
  {
   "cell_type": "markdown",
   "id": "34d05b3f-7aed-4857-a8fd-4abd07f37b1a",
   "metadata": {},
   "source": [
    "## Visualization"
   ]
  },
  {
   "cell_type": "code",
   "execution_count": 38,
   "id": "b2700c34-d0c2-4dce-81c1-4a6bbb5352ea",
   "metadata": {},
   "outputs": [
    {
     "name": "stdout",
     "output_type": "stream",
     "text": [
      "GT:  CN1C(=O)CCN(C(=O)c2cnsn2)c2ccccc21\n",
      "Pred:  CCc1(C=)OOOOO3CC33333CCC[[[CC\n",
      "GT:  C#CCCCNCc1cccc(C(F)(F)F)c1\n",
      "Pred:  CCcc((C=N)OOOO??CCCC[[[[[\n",
      "GT:  c1ccc2c3c(ccc2c1)ONC3\n",
      "Pred:  CC(C)OC?C???CCCCCCCC[[[\n",
      "GT:  COCCNCC(=O)N1CCCN(Cc2ccc(Cl)cc2)CC1\n",
      "Pred:  CC11(C=OOO2CCC???[[C\n",
      "GT:  COCOc1ccc(-c2ccc3cc(O)ccc3c2Cc2ccc(O)cc2)cc1\n",
      "Pred:  CCcc((C=))OO)))))))))))))))OO???CCCCCCCCCCCCCCC[[[[[[[[[[[[[[[[[[[[[[[[[[---------------------------\n",
      "GT:  COc1ccc(/C=C/C(=O)OCCC(C)C)cc1\n",
      "Pred:  CCc((C=))OCCCCCCCCCCCCCCCCCCC?????[[[[[[[\n",
      "GT:  CS(=O)(=O)C1CCCC(Nc2cnn(-c3cccc(C(F)(F)F)c3)c(=O)c2Cl)C1\n",
      "Pred:  CCcc(CCC)C)))))CCCCCCCCCCCC????CCCCCCCCCCCCCCCC????????????????[[[[??????????????????????????[O??[O\n",
      "GT:  OC(=Nc1cnc(Oc2ccccc2)nc1)c1ccc(F)cc1F\n",
      "Pred:  CC11(C)CCCCCCCCCCCCCCCCCCCCCCCCCCCCCC[[[[[[[[\n",
      "GT:  O=S(=O)(c1cc(Cl)ccc1Cl)N1CC[C@H](n2ccnn2)C1\n",
      "Pred:  CC(C)O))C?2C2222CCCCCCCCC??????CCC[[[\n",
      "GT:  CC(C)(C)C(CCN)CCC(O)=NCCc1cccs1\n",
      "Pred:  CC(CCCCCCC33333CCCCCCC[[[[[[[C\n",
      "GT:  CCC(C#N)Oc1ccc(C)cc1CNCCOC\n",
      "Pred:  CCc(CC)CC)CC?CCCCCCCCCCCCCCC??CC[[[[[[C?????[\n",
      "GT:  NCC1CN(C(=O)c2c(F)c(F)c(F)c(F)c2F)C1\n",
      "Pred:  CCc1(C=)OO)CCCCCCC)==2CCCCCC[[C\n",
      "GT:  OC(CN1CCC[C@H](c2ccccc2)C1)=NCCc1nc(-c2cccnc2)no1\n",
      "Pred:  CC1c(CC)))))??2CCC???[[?????[[[[\n",
      "GT:  CCN(CC)S(=O)(=O)c1cccc(C(O)=NC2CCCOC2c2ccc(C)cc2)c1\n",
      "Pred:  CCcc(CC)))O)CCO????????????OO?????????????[[[[[[[\n",
      "GT:  Cc1ccc(S(=O)(=O)n2ccn(CC(O)=Nc3cccc(C)c3C)c2=O)cc1C\n",
      "Pred:  CCO1(C)))))))C33CCCC333??C[[[[[\n",
      "GT:  CC(O)=Nc1cccc(N=C(O)COC(=O)CN=C(O)c2ccc3c(c2)OCO3)c1\n",
      "Pred:  CCc((C=))C2CC2CCCCCCCC++++++++CC+++(([[[[[[[[##[#\n",
      "GT:  C[C@@H](NCC(C)(C)C)c1cccnc1\n",
      "Pred:  CCCCOCCCCCCCC33CCCCCCCC[CCCC\n",
      "GT:  O=C(O)CC[C@@H](NC(=O)c1ccc(-n2nc3ccc(O)cc3nc2=O)cc1)C(=O)O\n",
      "Pred:  CCcc1(C)))))))OOOOOOCCCCCCCCCCCCCCCCCCCCCCCCCCC\n",
      "GT:  Cc1nc2ccccc2n1C1CC2CCC(C1)N2CCC1(c2ccccc2)CCN(C(=O)C2(O)CCC(C)CC2)CC1\n",
      "Pred:  CCOO)C1CCCCCCCCCCCCCCCCCCCCCCCCCCCCCCCCCCCCCCCCCCCCCCCCCCCCCCCCC[CCC[[CC[[CC[[CC?[[C?[[CC[[CC[[CC?[[\n",
      "GT:  CCOc1ccccc1OCC(=O)N1CCC(N=C(O)CCC2CCCCC2)CC1\n",
      "Pred:  CC(O)C(CCCCCCCCCCCCCCC)))\n",
      "GT:  CC(C)[C@H](N)C(O)=NCC(=O)N(C)CC(=O)N1CCOCC1\n",
      "Pred:  CCcc(CC=O)OO)OOCC))OOCCC[[C\n",
      "GT:  CC(NCC(C)N1CCCC1)c1cccc(S(N)(=O)=O)c1\n",
      "Pred:  CC(O)CCCCCCCCCCCCCCCC????[[[[[[[\n",
      "GT:  COC(c1nc(O)cc(C2CCCC2)n1)C1CC1\n",
      "Pred:  CCc1(C))OO)COCCCCCCCCC[[[[[[[[[[\n",
      "GT:  C#CCN=C(O)c1ccc(-n2ccnc2)nc1\n",
      "Pred:  CCcc(C=))OO)CO?CCC??CC?????????????????????????[[[[[[[[[[[[[[\n",
      "GT:  O=Pc1ccc(COCNN(C(=O)c2ccc(Cl)s2)c2ccc(Oc3ccccc3)cc2)o1\n",
      "Pred:  CCOcc(C==)=C)C)OOOOOOOOOOOOOOOOOOCCCCCCCCC[[[[[[[\n",
      "GT:  N#CCc1cc(C(F)F)c(CN)nc1O\n",
      "Pred:  CC(C)OC2C22CCCCCCCCCC+++[[C\n",
      "GT:  Cc1n[nH]c(C)c1CNC(=O)c1cc2ccc(F)cc2[nH]1\n",
      "Pred:  CC1(CC)CCCC?333C?33?CC[[[[[[[\n",
      "GT:  CCc1nn(Cc2c(Cl)cccc2Cl)c(CC)c1CCl\n",
      "Pred:  CCc((C))OCCC?CCCCCCC?[CC\n",
      "GT:  CC1CC1NCc1ccc(Cl)c2cccnc12\n",
      "Pred:  CC11=C))CCCCCCC[?+[[O--??????][C-???][O-[OO-[OO-\n",
      "GT:  CC(C)C(N=C(O)c1ccc(F)cc1Cl)C(=O)O\n",
      "Pred:  CCcc(CC)O2233333CCCCCCCCCCCCCCCCCCC\n",
      "GT:  COc1ccc(C(=O)N2CCC(Cc3noc(C4CCOCC4)n3)C2)c(OC)c1\n",
      "Pred:  CCO1c(C=CCCCCCCCCCCCCCCCCCCCCCCCCCCC)))))))3333333CCCCCCCCCCCCC[CCC??C????C\n",
      "GT:  CNC(C)C(=O)Oc1c(C)ccc(C)c1C(C)(C)CC(=O)Br\n",
      "Pred:  CCcc(CC)))))))OOOCCCCCCCCCCCCCC????????????????????????????????????????????????????????????[????][[\n"
     ]
    }
   ],
   "source": [
    "for i in range(len(labels)):\n",
    "    print ('GT: ',labels[i])\n",
    "    sampled = output[i].reshape(1, 100, len(charset)).argmax(axis=2)[0].cpu()\n",
    "    print ('Pred: ', decode_smiles_from_indexes_new(sampled, enc_drug))"
   ]
  },
  {
   "cell_type": "code",
   "execution_count": null,
   "id": "cfaa2bfc-065f-456d-90ac-240f22aa5f88",
   "metadata": {},
   "outputs": [],
   "source": [
    "from IPython.display import SVG\n",
    "from rdkit import Chem\n",
    "from rdkit.Chem import Draw"
   ]
  },
  {
   "cell_type": "code",
   "execution_count": null,
   "id": "e6444133-727e-4ac2-9059-dcfcb883005a",
   "metadata": {},
   "outputs": [],
   "source": [
    "m = Chem.MolFromSmiles('Cc1ccc(C(=O)NCC2(CO)CC2)cc1C')\n",
    "print (Chem.MolToInchi(m))\n",
    "# SVG(Draw.MolsToGridImage([m], molsPerRow=4, subImgSize=(180, 150), useSVG=True))"
   ]
  },
  {
   "cell_type": "code",
   "execution_count": null,
   "id": "d91242e8-e584-4782-a4eb-6978fa81b1a1",
   "metadata": {},
   "outputs": [],
   "source": [
    "smiles_code = 'C1#CCCC[CH2:1]C#CCC1'\n",
    "m = Chem.MolFromSmiles(smiles_code)\n",
    "print (Chem.MolToInchi(m))\n",
    "SVG(Draw.MolsToGridImage([m], molsPerRow=4, subImgSize=(180, 150), useSVG=True))"
   ]
  },
  {
   "cell_type": "code",
   "execution_count": null,
   "id": "5731f46e-02f7-438c-9f4e-91db435016d4",
   "metadata": {},
   "outputs": [],
   "source": [
    "smiles_code = 'C1#CCC[CH2:1]CC#CCC1'\n",
    "m = Chem.MolFromSmiles(smiles_code)\n",
    "print (Chem.MolToInchi(m))\n",
    "SVG(Draw.MolsToGridImage([m], molsPerRow=4, subImgSize=(180, 150), useSVG=True))"
   ]
  },
  {
   "cell_type": "code",
   "execution_count": null,
   "id": "d279ebc4-818f-4624-9ec2-3a1dcbfac7aa",
   "metadata": {},
   "outputs": [],
   "source": [
    "smiles_code = 'C1#CC[CH2:1][CH2:1][CH2:1]C#CCC1'\n",
    "m = Chem.MolFromSmiles(smiles_code)\n",
    "print (Chem.MolToInchi(m))\n",
    "SVG(Draw.MolsToGridImage([m], molsPerRow=4, subImgSize=(180, 150), useSVG=True))"
   ]
  },
  {
   "cell_type": "code",
   "execution_count": null,
   "id": "cf6693f2-729c-4a7f-9d4a-d597f7600fdb",
   "metadata": {},
   "outputs": [],
   "source": []
  }
 ],
 "metadata": {
  "kernelspec": {
   "display_name": "Python 3",
   "language": "python",
   "name": "python3"
  },
  "language_info": {
   "codemirror_mode": {
    "name": "ipython",
    "version": 3
   },
   "file_extension": ".py",
   "mimetype": "text/x-python",
   "name": "python",
   "nbconvert_exporter": "python",
   "pygments_lexer": "ipython3",
   "version": "3.6.13"
  }
 },
 "nbformat": 4,
 "nbformat_minor": 5
}
