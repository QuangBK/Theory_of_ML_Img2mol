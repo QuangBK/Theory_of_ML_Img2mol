{
 "cells": [
  {
   "cell_type": "code",
   "execution_count": 1,
   "id": "cafdf096-de6d-42f6-a170-25d0be186f5e",
   "metadata": {},
   "outputs": [],
   "source": [
    "import os \n",
    "os.environ[\"CUDA_DEVICE_ORDER\"]=\"PCI_BUS_ID\"\n",
    "os.environ['CUDA_VISIBLE_DEVICES'] = '2'\n",
    "\n",
    "import torch\n",
    "import torch.nn as nn\n",
    "import torch.optim as optim\n",
    "import torch.optim.lr_scheduler as lr_scheduler\n",
    "from torch.utils.data import DataLoader\n",
    "from torch.autograd import Variable\n",
    "\n",
    "import math, random, sys\n",
    "import numpy as np\n",
    "import argparse\n",
    "from collections import deque\n",
    "# import cPickle as pickle\n",
    "import pickle\n",
    "\n",
    "# from fast_jtnn import *\n",
    "from hgraph import *\n",
    "import rdkit\n",
    "\n",
    "from cnn_finetune import make_model\n",
    "import torch.nn as nn\n",
    "\n",
    "from albumentations.pytorch import ToTensorV2\n",
    "import albumentations as A\n",
    "from albumentations import (\n",
    "    HorizontalFlip, IAAPerspective, ShiftScaleRotate, CLAHE, RandomRotate90,\n",
    "    Transpose, ShiftScaleRotate, Blur, OpticalDistortion, GridDistortion, HueSaturationValue,\n",
    "    IAAAdditiveGaussianNoise, GaussNoise, MotionBlur, MedianBlur, IAAPiecewiseAffine,\n",
    "    IAASharpen, IAAEmboss, RandomContrast, RandomBrightness, Flip, OneOf, Compose,\n",
    "    RandomCrop, Normalize, Resize\n",
    ")\n",
    "import cv2\n",
    "from tqdm import tqdm\n",
    "\n",
    "lg = rdkit.RDLogger.logger() \n",
    "lg.setLevel(rdkit.RDLogger.CRITICAL)"
   ]
  },
  {
   "cell_type": "code",
   "execution_count": 2,
   "id": "586f67fb-78c5-4b31-847f-dea8bb0c1fd5",
   "metadata": {},
   "outputs": [],
   "source": [
    "class ARGS:\n",
    "    def __init__(self):\n",
    "        self.train = './train_processed_bms_ver2/mol/'\n",
    "        self.vocab = 'data/chembl/vocab.txt'\n",
    "        self.atom_vocab = common_atom_vocab\n",
    "        self.save_dir = 'vae_model/'\n",
    "        self.load_model = None\n",
    "        self.seed = 7\n",
    "        \n",
    "        self.rnn_type = 'LSTM'\n",
    "        self.hidden_size = 250\n",
    "        self.embed_size = 250\n",
    "        self.batch_size = 32\n",
    "        self.latent_size = 32\n",
    "        self.depthT = 15\n",
    "        self.depthG = 15\n",
    "        self.diterT = 1\n",
    "        self.diterG = 3\n",
    "        self.dropout = 0.0\n",
    "        \n",
    "        self.lr = 1e-3\n",
    "        self.clip_norm = 5.0\n",
    "#         self.beta = 0.0\n",
    "        self.step_beta = 0.001\n",
    "        self.max_beta = 1.0\n",
    "        self.warmup = 10000\n",
    "        self.kl_anneal_iter = 2000\n",
    "        \n",
    "        self.epoch = 100\n",
    "        self.anneal_rate = 0.9\n",
    "        self.anneal_iter = 25000\n",
    "        self.kl_anneal_iter = 2000\n",
    "        self.print_iter = 50\n",
    "        self.save_iter = 5000\n",
    "        \n",
    "        \n",
    "args = ARGS()"
   ]
  },
  {
   "cell_type": "markdown",
   "id": "1dd2cdbc-7082-46f6-816b-c9baebab3ce7",
   "metadata": {},
   "source": [
    "## Model"
   ]
  },
  {
   "cell_type": "code",
   "execution_count": 3,
   "id": "14b63682-00bd-43fb-bafc-6a4ef02875fa",
   "metadata": {},
   "outputs": [
    {
     "name": "stdout",
     "output_type": "stream",
     "text": [
      "cuda:0\n"
     ]
    }
   ],
   "source": [
    "if not torch.cuda.is_available():\n",
    "    device = torch.device('cpu')\n",
    "else:\n",
    "    device = torch.device('cuda:0')\n",
    "    \n",
    "print (device)"
   ]
  },
  {
   "cell_type": "code",
   "execution_count": 4,
   "id": "1ebe5156-4ba8-4fa5-b82e-b8b2c1eb173a",
   "metadata": {},
   "outputs": [],
   "source": [
    "# class JTNNVAE_edit(JTNNVAE):\n",
    "#     def __init__(self, vocab, hidden_size, latent_size, depthT, depthG):\n",
    "#         super().__init__(vocab, hidden_size, latent_size, depthT, depthG)\n",
    "    \n",
    "#     def forward_edit(self, x_batch, beta, x_tree_vecs, x_mol_vecs):\n",
    "#         x_batch, x_jtenc_holder, x_mpn_holder, x_jtmpn_holder = x_batch\n",
    "#         _, x_tree_mess, _ = self.encode(x_jtenc_holder, x_mpn_holder)\n",
    "#         z_tree_vecs,tree_kl = self.rsample(x_tree_vecs, self.T_mean, self.T_var)\n",
    "#         z_mol_vecs,mol_kl = self.rsample(x_mol_vecs, self.G_mean, self.G_var)\n",
    "\n",
    "#         kl_div = tree_kl + mol_kl\n",
    "#         word_loss, topo_loss, word_acc, topo_acc = self.decoder(x_batch, z_tree_vecs)\n",
    "#         assm_loss, assm_acc = self.assm(x_batch, x_jtmpn_holder, z_mol_vecs, x_tree_mess)\n",
    "\n",
    "#         return word_loss + topo_loss + assm_loss + beta * kl_div, kl_div.item(), word_acc, topo_acc, assm_acc\n",
    "\n",
    "def make_cuda(tensors):\n",
    "    tree_tensors, graph_tensors = tensors\n",
    "    make_tensor = lambda x: x if type(x) is torch.Tensor else torch.tensor(x)\n",
    "    tree_tensors = [make_tensor(x).cuda().long() for x in tree_tensors[:-1]] + [tree_tensors[-1]]\n",
    "    graph_tensors = [make_tensor(x).cuda().long() for x in graph_tensors[:-1]] + [graph_tensors[-1]]\n",
    "    return tree_tensors, graph_tensors\n",
    "\n",
    "class HierVAE_edit(HierVAE):\n",
    "\n",
    "    def __init__(self, args):\n",
    "        super().__init__(args)\n",
    "\n",
    "#     def rsample(self, z_vecs, W_mean, W_var, perturb=True):\n",
    "#         batch_size = z_vecs.size(0)\n",
    "#         z_mean = W_mean(z_vecs)\n",
    "#         z_log_var = -torch.abs( W_var(z_vecs) )\n",
    "#         kl_loss = -0.5 * torch.sum(1.0 + z_log_var - z_mean * z_mean - torch.exp(z_log_var)) / batch_size\n",
    "#         epsilon = torch.randn_like(z_mean).cuda()\n",
    "#         z_vecs = z_mean + torch.exp(z_log_var / 2) * epsilon if perturb else z_mean\n",
    "#         return z_vecs, kl_loss\n",
    "\n",
    "#     def sample(self, batch_size, greedy):\n",
    "#         root_vecs = torch.randn(batch_size, self.latent_size).cuda()\n",
    "#         return self.decoder.decode((root_vecs, root_vecs, root_vecs), greedy=greedy, max_decode_step=150)\n",
    "\n",
    "#     def reconstruct(self, batch):\n",
    "#         graphs, tensors, _ = batch\n",
    "#         tree_tensors, graph_tensors = tensors = make_cuda(tensors)\n",
    "#         root_vecs, tree_vecs, _, graph_vecs = self.encoder(tree_tensors, graph_tensors)\n",
    "\n",
    "#         root_vecs, root_kl = self.rsample(root_vecs, self.R_mean, self.R_var, perturb=False)\n",
    "#         return self.decoder.decode((root_vecs, root_vecs, root_vecs), greedy=True, max_decode_step=150)\n",
    "       \n",
    "    def forward(self, graphs, tensors, orders, beta, perturb_z=True):\n",
    "        tree_tensors, graph_tensors = tensors = make_cuda(tensors)\n",
    "\n",
    "        root_vecs, tree_vecs, _, graph_vecs = self.encoder(tree_tensors, graph_tensors)\n",
    "        root_vecs, root_kl = self.rsample(root_vecs, self.R_mean, self.R_var, perturb_z)\n",
    "        kl_div = root_kl\n",
    "\n",
    "        loss, wacc, iacc, tacc, sacc = self.decoder((root_vecs, root_vecs, root_vecs), graphs, tensors, orders)\n",
    "        return loss + beta * kl_div, kl_div.item(), wacc, iacc, tacc, sacc\n",
    "    \n",
    "    def forward_edit(self, graphs, tensors, orders, root_vecs, beta, perturb_z=True):\n",
    "        tree_tensors, graph_tensors = tensors = make_cuda(tensors)\n",
    "\n",
    "#         root_vecs, tree_vecs, _, graph_vecs = self.encoder(tree_tensors, graph_tensors)\n",
    "        root_vecs, root_kl = self.rsample(root_vecs, self.R_mean, self.R_var, perturb_z)\n",
    "        kl_div = root_kl\n",
    "\n",
    "        loss, wacc, iacc, tacc, sacc = self.decoder((root_vecs, root_vecs, root_vecs), graphs, tensors, orders)\n",
    "        return loss + beta * kl_div, kl_div.item(), wacc, iacc, tacc, sacc"
   ]
  },
  {
   "cell_type": "code",
   "execution_count": 5,
   "id": "6947bb7f-4cd4-4405-9215-cbe23a722959",
   "metadata": {},
   "outputs": [
    {
     "name": "stdout",
     "output_type": "stream",
     "text": [
      "Model #Params: 7964K\n"
     ]
    },
    {
     "name": "stderr",
     "output_type": "stream",
     "text": [
      "/home/quang/anaconda3/envs/denovo/lib/python3.6/site-packages/torch/nn/_reduction.py:42: UserWarning: size_average and reduce args will be deprecated, please use reduction='sum' instead.\n",
      "  warnings.warn(warning.format(ret))\n"
     ]
    }
   ],
   "source": [
    "vocab = [x.strip(\"\\r\\n \").split() for x in open(args.vocab)] \n",
    "args.vocab = PairVocab(vocab)\n",
    "\n",
    "model = HierVAE_edit(args).cuda()\n",
    "# print (model)\n",
    "\n",
    "print(\"Model #Params: %dK\" % (sum([x.nelement() for x in model.parameters()]) / 1000,))\n",
    "\n",
    "for param in model.parameters():\n",
    "    if param.dim() == 1:\n",
    "        nn.init.constant_(param, 0)\n",
    "    else:\n",
    "        nn.init.xavier_normal_(param)\n",
    "\n",
    "optimizer = optim.Adam(model.parameters(), lr=args.lr)\n",
    "scheduler = lr_scheduler.ExponentialLR(optimizer, args.anneal_rate)\n",
    "\n",
    "if args.load_model:\n",
    "    print('continuing from checkpoint ' + args.load_model)\n",
    "    model_state, optimizer_state, total_step, beta = torch.load(args.load_model)\n",
    "    model.load_state_dict(model_state)\n",
    "    optimizer.load_state_dict(optimizer_state)\n",
    "else:\n",
    "    total_step = beta = 0\n",
    "\n",
    "param_norm = lambda m: math.sqrt(sum([p.norm().item() ** 2 for p in m.parameters()]))\n",
    "grad_norm = lambda m: math.sqrt(sum([p.grad.norm().item() ** 2 for p in m.parameters() if p.grad is not None]))\n",
    "\n",
    "meters = np.zeros(6)"
   ]
  },
  {
   "cell_type": "code",
   "execution_count": 6,
   "id": "09e897c6-7b19-42d1-853f-8f6d1170ca6b",
   "metadata": {},
   "outputs": [],
   "source": [
    "# model.load_state_dict(torch.load('./fast_molvae/vae_model/model.iter-1980'))\n",
    "# model.load_state_dict(torch.load('./ckpt/chembl-pretrained/model.ckpt'))\n",
    "model_state, optimizer_state, total_step, beta = torch.load('./ckpt/bms-pretrained/model.ckpt.5160')\n",
    "model.load_state_dict(model_state)\n",
    "model = model.to(device)\n",
    "\n",
    "optimizer_vae = optim.Adam(model.parameters(), lr=args.lr)\n",
    "scheduler = lr_scheduler.ExponentialLR(optimizer_vae, args.anneal_rate)\n",
    "\n",
    "# model.eval()\n",
    "# for param in model.parameters():\n",
    "#     param.requires_grad = False"
   ]
  },
  {
   "cell_type": "code",
   "execution_count": 7,
   "id": "c98d6f4e-463d-48a9-b921-801f0955d888",
   "metadata": {},
   "outputs": [],
   "source": [
    "model_K = make_model('inception_v4', num_classes=10, pretrained=True)\n",
    "\n",
    "for param in model_K.parameters():\n",
    "    param.requires_grad = False\n",
    "\n",
    "model_K._classifier.weight.requires_grad = True\n",
    "model_K._classifier.bias.requires_grad = True\n",
    "\n",
    "\n",
    "class InceptionV4Bottom(nn.Module):\n",
    "            def __init__(self, original_model):\n",
    "                super(InceptionV4Bottom, self).__init__()\n",
    "                self.features = nn.Sequential(\n",
    "                    # stop at conv4\n",
    "                    *list(original_model.children())[:-1]\n",
    "                )\n",
    "#                 self.features = nn.Sequential(\n",
    "#                     # stop at conv4\n",
    "#                     *list(original_model.children())\n",
    "#                 )\n",
    "                dim1 = 512\n",
    "                dim2 = 250\n",
    "                self.num_ftrs = original_model._classifier.in_features\n",
    "                self.classifier1 = nn.Sequential(nn.Linear(self.num_ftrs, dim1), nn.BatchNorm1d(dim1), nn.ReLU(), \n",
    "                                                nn.Linear(dim1, dim2))\n",
    "\n",
    "            def forward(self, x1):\n",
    "                x1 = self.features(x1)\n",
    "#                 print (x1.shape)\n",
    "                x1 = x1.view(-1, self.num_ftrs)\n",
    "#                 x2 = self.dense1(x2)\n",
    "#                 print (x2.shape, x1.shape)\n",
    "#                 x = torch.cat((x1, x2), dim=1)\n",
    "                o1 = self.classifier1(x1)\n",
    "                return o1\n",
    "\n",
    "model_cnn = InceptionV4Bottom(model_K)"
   ]
  },
  {
   "cell_type": "code",
   "execution_count": 8,
   "id": "29b47099-cf5f-4133-88a4-0a3d7a87bb80",
   "metadata": {},
   "outputs": [],
   "source": [
    "def unfreeze(model, ct_c = 7):\n",
    "    for param in model.parameters():\n",
    "        param.requires_grad = True\n",
    "\n",
    "    ct = 0\n",
    "    for child in model.features[0].children():\n",
    "        ct += 1\n",
    "        if ct < ct_c:\n",
    "            for param in child.parameters():\n",
    "                param.requires_grad = False\n",
    "                \n",
    "# unfreeze(model_cnn,3)"
   ]
  },
  {
   "cell_type": "code",
   "execution_count": 9,
   "id": "5baba277-3025-467f-8f2b-c2f398155697",
   "metadata": {},
   "outputs": [],
   "source": [
    "model_cnn = model_cnn.to(device)\n",
    "\n",
    "# Observe that all parameters are being optimized\n",
    "optimizer = optim.Adam(model_cnn.parameters(), lr=0.001)"
   ]
  },
  {
   "cell_type": "code",
   "execution_count": 10,
   "id": "107a7f2d-2f3d-40df-9390-95863e243e44",
   "metadata": {},
   "outputs": [],
   "source": [
    "IMG_SIZE = 512\n",
    "transform = A.Compose([\n",
    "    A.Resize(int(IMG_SIZE), int(IMG_SIZE)),\n",
    "    A.Normalize(mean=(0.485, 0.456, 0.406), std=(0.229, 0.224, 0.225)),\n",
    "    ToTensorV2()\n",
    "])"
   ]
  },
  {
   "cell_type": "code",
   "execution_count": 11,
   "id": "894c7d6d-7245-4cf3-a283-800ed486f680",
   "metadata": {},
   "outputs": [
    {
     "name": "stderr",
     "output_type": "stream",
     "text": [
      "  0%|          | 0/200 [00:00<?, ?it/s]\n"
     ]
    }
   ],
   "source": [
    "dataset = DataFolder_ver2_BMS(args.train, '/home/quang/working/Theory_of_ML/hgraph2graph/train_processed_bms_ver2/ids', args.batch_size, transform, '/home/quang/working/Theory_of_ML/mbs-molecular-captioning/images/train/')\n",
    "for batch, images_list, labels in tqdm(dataset):\n",
    "    break"
   ]
  },
  {
   "cell_type": "code",
   "execution_count": 12,
   "id": "46fa5a25-9761-4d32-ad8e-bc8009d09cb6",
   "metadata": {},
   "outputs": [
    {
     "data": {
      "text/plain": [
       "<Figure size 1200x1200 with 1 Axes>"
      ]
     },
     "metadata": {},
     "output_type": "display_data"
    },
    {
     "name": "stdout",
     "output_type": "stream",
     "text": [
      "InChI=1S/C10H20N2/c1-9-4-6-12(7-5-9)8-10(2)11-3/h10-11H,1,4-8H2,2-3H3/t10-/m0/s1\n"
     ]
    },
    {
     "data": {
      "image/svg+xml": [
       "<svg baseProfile=\"full\" height=\"150px\" version=\"1.1\" width=\"720px\" xml:space=\"preserve\" xmlns=\"http://www.w3.org/2000/svg\" xmlns:rdkit=\"http://www.rdkit.org/xml\" xmlns:xlink=\"http://www.w3.org/1999/xlink\">\n",
       "<rect height=\"150\" style=\"opacity:1.0;fill:#FFFFFF;stroke:none\" width=\"720\" x=\"0\" y=\"0\"> </rect>\n",
       "<path d=\"M 9.3516,94.5626 37.2617,82.8647\" style=\"fill:none;fill-rule:evenodd;stroke:#000000;stroke-width:2px;stroke-linecap:butt;stroke-linejoin:miter;stroke-opacity:1\"/>\n",
       "<path d=\"M 7.01203,88.9805 34.9222,77.2827\" style=\"fill:none;fill-rule:evenodd;stroke:#000000;stroke-width:2px;stroke-linecap:butt;stroke-linejoin:miter;stroke-opacity:1\"/>\n",
       "<path d=\"M 36.092,80.0737 39.9164,50.0539\" style=\"fill:none;fill-rule:evenodd;stroke:#000000;stroke-width:2px;stroke-linecap:butt;stroke-linejoin:miter;stroke-opacity:1\"/>\n",
       "<path d=\"M 36.092,80.0737 60.1776,98.3957\" style=\"fill:none;fill-rule:evenodd;stroke:#000000;stroke-width:2px;stroke-linecap:butt;stroke-linejoin:miter;stroke-opacity:1\"/>\n",
       "<path d=\"M 39.9164,50.0539 67.8265,38.3561\" style=\"fill:none;fill-rule:evenodd;stroke:#000000;stroke-width:2px;stroke-linecap:butt;stroke-linejoin:miter;stroke-opacity:1\"/>\n",
       "<path d=\"M 67.8265,38.3561 77.6836,45.8543\" style=\"fill:none;fill-rule:evenodd;stroke:#000000;stroke-width:2px;stroke-linecap:butt;stroke-linejoin:miter;stroke-opacity:1\"/>\n",
       "<path d=\"M 77.6836,45.8543 87.5406,53.3525\" style=\"fill:none;fill-rule:evenodd;stroke:#0000FF;stroke-width:2px;stroke-linecap:butt;stroke-linejoin:miter;stroke-opacity:1\"/>\n",
       "<path d=\"M 96.2839,54.8458 108.053,49.913\" style=\"fill:none;fill-rule:evenodd;stroke:#0000FF;stroke-width:2px;stroke-linecap:butt;stroke-linejoin:miter;stroke-opacity:1\"/>\n",
       "<path d=\"M 108.053,49.913 119.822,44.9802\" style=\"fill:none;fill-rule:evenodd;stroke:#000000;stroke-width:2px;stroke-linecap:butt;stroke-linejoin:miter;stroke-opacity:1\"/>\n",
       "<path d=\"M 91.2697,61.7218 89.6787,74.2098\" style=\"fill:none;fill-rule:evenodd;stroke:#0000FF;stroke-width:2px;stroke-linecap:butt;stroke-linejoin:miter;stroke-opacity:1\"/>\n",
       "<path d=\"M 89.6787,74.2098 88.0878,86.6978\" style=\"fill:none;fill-rule:evenodd;stroke:#000000;stroke-width:2px;stroke-linecap:butt;stroke-linejoin:miter;stroke-opacity:1\"/>\n",
       "<path d=\"M 119.822,44.9802 143.908,63.3022\" style=\"fill:none;fill-rule:evenodd;stroke:#000000;stroke-width:2px;stroke-linecap:butt;stroke-linejoin:miter;stroke-opacity:1\"/>\n",
       "<path d=\"M 146.816,62.4115 146.582,61.8533\" style=\"fill:none;fill-rule:evenodd;stroke:#000000;stroke-width:1px;stroke-linecap:butt;stroke-linejoin:miter;stroke-opacity:1\"/>\n",
       "<path d=\"M 149.724,61.5208 149.256,60.4044\" style=\"fill:none;fill-rule:evenodd;stroke:#000000;stroke-width:1px;stroke-linecap:butt;stroke-linejoin:miter;stroke-opacity:1\"/>\n",
       "<path d=\"M 152.632,60.6301 151.93,58.9555\" style=\"fill:none;fill-rule:evenodd;stroke:#000000;stroke-width:1px;stroke-linecap:butt;stroke-linejoin:miter;stroke-opacity:1\"/>\n",
       "<path d=\"M 155.54,59.7394 154.604,57.5066\" style=\"fill:none;fill-rule:evenodd;stroke:#000000;stroke-width:1px;stroke-linecap:butt;stroke-linejoin:miter;stroke-opacity:1\"/>\n",
       "<path d=\"M 158.448,58.8488 157.278,56.0577\" style=\"fill:none;fill-rule:evenodd;stroke:#000000;stroke-width:1px;stroke-linecap:butt;stroke-linejoin:miter;stroke-opacity:1\"/>\n",
       "<path d=\"M 161.356,57.9581 159.952,54.6089\" style=\"fill:none;fill-rule:evenodd;stroke:#000000;stroke-width:1px;stroke-linecap:butt;stroke-linejoin:miter;stroke-opacity:1\"/>\n",
       "<path d=\"M 164.264,57.0674 162.626,53.16\" style=\"fill:none;fill-rule:evenodd;stroke:#000000;stroke-width:1px;stroke-linecap:butt;stroke-linejoin:miter;stroke-opacity:1\"/>\n",
       "<path d=\"M 167.172,56.1767 165.3,51.7111\" style=\"fill:none;fill-rule:evenodd;stroke:#000000;stroke-width:1px;stroke-linecap:butt;stroke-linejoin:miter;stroke-opacity:1\"/>\n",
       "<path d=\"M 170.08,55.286 167.974,50.2622\" style=\"fill:none;fill-rule:evenodd;stroke:#000000;stroke-width:1px;stroke-linecap:butt;stroke-linejoin:miter;stroke-opacity:1\"/>\n",
       "<path d=\"M 172.988,54.3953 170.648,48.8133\" style=\"fill:none;fill-rule:evenodd;stroke:#000000;stroke-width:1px;stroke-linecap:butt;stroke-linejoin:miter;stroke-opacity:1\"/>\n",
       "<path d=\"M 143.908,63.3022 142.317,75.7902\" style=\"fill:none;fill-rule:evenodd;stroke:#000000;stroke-width:2px;stroke-linecap:butt;stroke-linejoin:miter;stroke-opacity:1\"/>\n",
       "<path d=\"M 142.317,75.7902 140.726,88.2782\" style=\"fill:none;fill-rule:evenodd;stroke:#0000FF;stroke-width:2px;stroke-linecap:butt;stroke-linejoin:miter;stroke-opacity:1\"/>\n",
       "<path d=\"M 146.714,98.3657 155.442,105.005\" style=\"fill:none;fill-rule:evenodd;stroke:#0000FF;stroke-width:2px;stroke-linecap:butt;stroke-linejoin:miter;stroke-opacity:1\"/>\n",
       "<path d=\"M 155.442,105.005 164.169,111.644\" style=\"fill:none;fill-rule:evenodd;stroke:#000000;stroke-width:2px;stroke-linecap:butt;stroke-linejoin:miter;stroke-opacity:1\"/>\n",
       "<path d=\"M 88.0878,86.6978 60.1776,98.3957\" style=\"fill:none;fill-rule:evenodd;stroke:#000000;stroke-width:2px;stroke-linecap:butt;stroke-linejoin:miter;stroke-opacity:1\"/>\n",
       "<text style=\"font-size:10px;font-style:normal;font-weight:normal;fill-opacity:1;stroke:none;font-family:sans-serif;text-anchor:start;fill:#0000FF\" x=\"87.5406\" y=\"61.7218\"><tspan>N</tspan></text>\n",
       "<text style=\"font-size:10px;font-style:normal;font-weight:normal;fill-opacity:1;stroke:none;font-family:sans-serif;text-anchor:start;fill:#0000FF\" x=\"131.34\" y=\"98.3657\"><tspan>NH</tspan></text>\n",
       "</svg>"
      ],
      "text/plain": [
       "<IPython.core.display.SVG object>"
      ]
     },
     "execution_count": 12,
     "metadata": {},
     "output_type": "execute_result"
    }
   ],
   "source": [
    "import matplotlib.pyplot as plt\n",
    "import torchvision.utils as vutils\n",
    "\n",
    "from IPython.display import SVG\n",
    "from rdkit import Chem\n",
    "from rdkit.Chem import Draw\n",
    "\n",
    "def show(img, size = 8):\n",
    "    plt.figure(figsize=(size,size))\n",
    "    npimg = img.numpy()\n",
    "    plt.imshow(np.transpose(npimg, (1,2,0)), interpolation='nearest')\n",
    "    plt.show()\n",
    "\n",
    "show(vutils.make_grid(images_list[:8], padding=10, normalize=True), size = 12)\n",
    "plt.show()\n",
    "\n",
    "smiles_code = labels[7]\n",
    "m = Chem.MolFromSmiles(smiles_code)\n",
    "print (Chem.MolToInchi(m))\n",
    "SVG(Draw.MolsToGridImage([m], molsPerRow=4, subImgSize=(180, 150), useSVG=True))"
   ]
  },
  {
   "cell_type": "markdown",
   "id": "37942b65-2617-4466-8d7f-2101742c4145",
   "metadata": {},
   "source": [
    "## Training"
   ]
  },
  {
   "cell_type": "code",
   "execution_count": 13,
   "id": "00f292a5-1751-4052-b891-d121b4ff4798",
   "metadata": {},
   "outputs": [
    {
     "name": "stderr",
     "output_type": "stream",
     "text": [
      " 20%|█▉        | 39/200 [01:08<04:54,  1.83s/it]"
     ]
    },
    {
     "name": "stdout",
     "output_type": "stream",
     "text": [
      "[5200] Beta: 0.000, KL: 53.07, loss: 27.392, Word: 44.05, 77.66, Topo: 74.59, Assm: 56.41, PNorm: 230.23, GNorm: 15.93\n"
     ]
    },
    {
     "name": "stderr",
     "output_type": "stream",
     "text": [
      " 44%|████▍     | 89/200 [02:36<02:59,  1.61s/it]"
     ]
    },
    {
     "name": "stdout",
     "output_type": "stream",
     "text": [
      "[5250] Beta: 0.000, KL: 103.18, loss: 31.507, Word: 55.75, 97.03, Topo: 94.43, Assm: 70.16, PNorm: 234.02, GNorm: 10.93\n"
     ]
    },
    {
     "name": "stderr",
     "output_type": "stream",
     "text": [
      " 70%|██████▉   | 139/200 [04:06<01:44,  1.71s/it]"
     ]
    },
    {
     "name": "stdout",
     "output_type": "stream",
     "text": [
      "[5300] Beta: 0.000, KL: 122.11, loss: 30.252, Word: 56.93, 97.15, Topo: 94.44, Assm: 70.93, PNorm: 236.37, GNorm: 13.05\n"
     ]
    },
    {
     "name": "stderr",
     "output_type": "stream",
     "text": [
      " 94%|█████████▍| 189/200 [05:34<00:18,  1.72s/it]"
     ]
    },
    {
     "name": "stdout",
     "output_type": "stream",
     "text": [
      "[5350] Beta: 0.000, KL: 122.65, loss: 30.770, Word: 57.09, 96.91, Topo: 94.44, Assm: 71.40, PNorm: 238.61, GNorm: 10.94\n"
     ]
    },
    {
     "name": "stderr",
     "output_type": "stream",
     "text": [
      "239it [07:03,  1.76s/it]                         "
     ]
    },
    {
     "name": "stdout",
     "output_type": "stream",
     "text": [
      "[5400] Beta: 0.000, KL: 127.43, loss: 30.254, Word: 57.40, 97.06, Topo: 94.59, Assm: 71.84, PNorm: 241.16, GNorm: 15.95\n"
     ]
    },
    {
     "name": "stderr",
     "output_type": "stream",
     "text": [
      "245it [07:14,  1.77s/it]\n",
      " 22%|██▏       | 44/200 [01:17<04:42,  1.81s/it]"
     ]
    },
    {
     "name": "stdout",
     "output_type": "stream",
     "text": [
      "[5450] Beta: 0.000, KL: 136.46, loss: 28.361, Word: 59.52, 97.55, Topo: 95.16, Assm: 72.48, PNorm: 243.25, GNorm: 13.43\n"
     ]
    },
    {
     "name": "stderr",
     "output_type": "stream",
     "text": [
      " 47%|████▋     | 94/200 [02:46<02:55,  1.65s/it]"
     ]
    },
    {
     "name": "stdout",
     "output_type": "stream",
     "text": [
      "[5500] Beta: 0.000, KL: 136.68, loss: 27.838, Word: 59.16, 97.50, Topo: 95.15, Assm: 73.48, PNorm: 245.00, GNorm: 13.19\n"
     ]
    },
    {
     "name": "stderr",
     "output_type": "stream",
     "text": [
      " 72%|███████▏  | 144/200 [04:13<01:45,  1.89s/it]"
     ]
    },
    {
     "name": "stdout",
     "output_type": "stream",
     "text": [
      "[5550] Beta: 0.000, KL: 139.54, loss: 27.408, Word: 59.31, 97.64, Topo: 95.13, Assm: 73.51, PNorm: 246.55, GNorm: 13.26\n"
     ]
    },
    {
     "name": "stderr",
     "output_type": "stream",
     "text": [
      " 97%|█████████▋| 194/200 [05:41<00:10,  1.79s/it]"
     ]
    },
    {
     "name": "stdout",
     "output_type": "stream",
     "text": [
      "[5600] Beta: 0.000, KL: 140.20, loss: 27.567, Word: 59.91, 97.44, Topo: 95.43, Assm: 73.86, PNorm: 248.22, GNorm: 11.22\n"
     ]
    },
    {
     "name": "stderr",
     "output_type": "stream",
     "text": [
      "244it [07:11,  1.83s/it]                         "
     ]
    },
    {
     "name": "stdout",
     "output_type": "stream",
     "text": [
      "[5650] Beta: 0.000, KL: 144.18, loss: 27.927, Word: 59.92, 97.44, Topo: 95.26, Assm: 73.67, PNorm: 250.10, GNorm: 13.91\n"
     ]
    },
    {
     "name": "stderr",
     "output_type": "stream",
     "text": [
      "245it [07:13,  1.77s/it]\n",
      " 24%|██▍       | 49/200 [01:27<04:33,  1.81s/it]"
     ]
    },
    {
     "name": "stdout",
     "output_type": "stream",
     "text": [
      "[5700] Beta: 0.000, KL: 146.01, loss: 25.923, Word: 61.61, 97.97, Topo: 95.72, Assm: 74.62, PNorm: 252.04, GNorm: 15.09\n"
     ]
    },
    {
     "name": "stderr",
     "output_type": "stream",
     "text": [
      " 50%|████▉     | 99/200 [02:55<02:56,  1.75s/it]"
     ]
    },
    {
     "name": "stdout",
     "output_type": "stream",
     "text": [
      "[5750] Beta: 0.000, KL: 147.82, loss: 25.599, Word: 60.96, 97.96, Topo: 95.86, Assm: 74.98, PNorm: 253.72, GNorm: 12.96\n"
     ]
    },
    {
     "name": "stderr",
     "output_type": "stream",
     "text": [
      " 74%|███████▍  | 149/200 [04:23<01:24,  1.66s/it]"
     ]
    },
    {
     "name": "stdout",
     "output_type": "stream",
     "text": [
      "[5800] Beta: 0.000, KL: 158.78, loss: 25.656, Word: 61.14, 97.95, Topo: 95.86, Assm: 76.61, PNorm: 255.10, GNorm: 14.69\n"
     ]
    },
    {
     "name": "stderr",
     "output_type": "stream",
     "text": [
      "100%|█████████▉| 199/200 [05:52<00:01,  1.71s/it]"
     ]
    },
    {
     "name": "stdout",
     "output_type": "stream",
     "text": [
      "[5850] Beta: 0.000, KL: 159.13, loss: 25.829, Word: 61.09, 97.94, Topo: 95.84, Assm: 75.80, PNorm: 256.89, GNorm: 13.05\n"
     ]
    },
    {
     "name": "stderr",
     "output_type": "stream",
     "text": [
      "245it [07:15,  1.78s/it]                         \n",
      "  2%|▏         | 4/200 [00:07<06:18,  1.93s/it]"
     ]
    },
    {
     "name": "stdout",
     "output_type": "stream",
     "text": [
      "[5900] Beta: 0.000, KL: 164.03, loss: 25.764, Word: 61.82, 97.97, Topo: 96.07, Assm: 75.50, PNorm: 258.81, GNorm: 14.15\n"
     ]
    },
    {
     "name": "stderr",
     "output_type": "stream",
     "text": [
      " 27%|██▋       | 54/200 [01:33<03:55,  1.61s/it]"
     ]
    },
    {
     "name": "stdout",
     "output_type": "stream",
     "text": [
      "[5950] Beta: 0.000, KL: 166.99, loss: 24.015, Word: 63.04, 98.23, Topo: 96.28, Assm: 76.47, PNorm: 260.59, GNorm: 14.11\n"
     ]
    },
    {
     "name": "stderr",
     "output_type": "stream",
     "text": [
      " 52%|█████▏    | 104/200 [03:03<02:51,  1.79s/it]"
     ]
    },
    {
     "name": "stdout",
     "output_type": "stream",
     "text": [
      "[6000] Beta: 0.000, KL: 169.38, loss: 23.997, Word: 62.95, 98.44, Topo: 96.26, Assm: 76.88, PNorm: 262.31, GNorm: 13.63\n"
     ]
    },
    {
     "name": "stderr",
     "output_type": "stream",
     "text": [
      " 77%|███████▋  | 154/200 [04:31<01:16,  1.66s/it]"
     ]
    },
    {
     "name": "stdout",
     "output_type": "stream",
     "text": [
      "[6050] Beta: 0.000, KL: 172.29, loss: 23.945, Word: 63.56, 98.20, Topo: 96.19, Assm: 78.65, PNorm: 263.62, GNorm: 14.95\n"
     ]
    },
    {
     "name": "stderr",
     "output_type": "stream",
     "text": [
      "204it [06:00,  1.79s/it]                         "
     ]
    },
    {
     "name": "stdout",
     "output_type": "stream",
     "text": [
      "[6100] Beta: 0.000, KL: 176.41, loss: 24.049, Word: 63.07, 98.35, Topo: 96.36, Assm: 77.33, PNorm: 265.31, GNorm: 15.18\n"
     ]
    },
    {
     "name": "stderr",
     "output_type": "stream",
     "text": [
      "245it [07:13,  1.77s/it]\n",
      "  4%|▍         | 9/200 [00:15<05:16,  1.66s/it]"
     ]
    },
    {
     "name": "stdout",
     "output_type": "stream",
     "text": [
      "[6150] Beta: 0.000, KL: 177.11, loss: 24.073, Word: 63.04, 98.26, Topo: 96.45, Assm: 77.50, PNorm: 266.81, GNorm: 11.99\n"
     ]
    },
    {
     "name": "stderr",
     "output_type": "stream",
     "text": [
      " 30%|██▉       | 59/200 [01:43<04:23,  1.87s/it]"
     ]
    },
    {
     "name": "stdout",
     "output_type": "stream",
     "text": [
      "[6200] Beta: 0.000, KL: 180.83, loss: 22.586, Word: 65.28, 98.73, Topo: 96.66, Assm: 78.31, PNorm: 268.41, GNorm: 13.72\n"
     ]
    },
    {
     "name": "stderr",
     "output_type": "stream",
     "text": [
      " 55%|█████▍    | 109/200 [03:11<02:31,  1.67s/it]"
     ]
    },
    {
     "name": "stdout",
     "output_type": "stream",
     "text": [
      "[6250] Beta: 0.000, KL: 187.77, loss: 22.219, Word: 65.27, 98.75, Topo: 96.81, Assm: 79.74, PNorm: 269.74, GNorm: 14.00\n"
     ]
    },
    {
     "name": "stderr",
     "output_type": "stream",
     "text": [
      " 80%|███████▉  | 159/200 [04:37<01:05,  1.59s/it]"
     ]
    },
    {
     "name": "stdout",
     "output_type": "stream",
     "text": [
      "[6300] Beta: 0.000, KL: 183.82, loss: 22.396, Word: 64.45, 98.62, Topo: 96.67, Assm: 79.57, PNorm: 271.12, GNorm: 15.42\n"
     ]
    },
    {
     "name": "stderr",
     "output_type": "stream",
     "text": [
      "209it [06:00,  1.62s/it]                         "
     ]
    },
    {
     "name": "stdout",
     "output_type": "stream",
     "text": [
      "[6350] Beta: 0.000, KL: 190.11, loss: 22.547, Word: 64.66, 98.57, Topo: 96.68, Assm: 79.22, PNorm: 272.38, GNorm: 14.60\n"
     ]
    },
    {
     "name": "stderr",
     "output_type": "stream",
     "text": [
      "245it [07:04,  1.73s/it]\n",
      "  7%|▋         | 14/200 [00:24<04:52,  1.57s/it]"
     ]
    },
    {
     "name": "stdout",
     "output_type": "stream",
     "text": [
      "[6400] Beta: 0.000, KL: 196.05, loss: 22.085, Word: 65.06, 98.85, Topo: 96.92, Assm: 80.82, PNorm: 273.73, GNorm: 13.37\n"
     ]
    },
    {
     "name": "stderr",
     "output_type": "stream",
     "text": [
      " 32%|███▏      | 64/200 [01:49<04:01,  1.78s/it]"
     ]
    },
    {
     "name": "stdout",
     "output_type": "stream",
     "text": [
      "[6450] Beta: 0.000, KL: 202.42, loss: 20.841, Word: 67.04, 99.01, Topo: 97.22, Assm: 80.58, PNorm: 274.94, GNorm: 14.00\n"
     ]
    },
    {
     "name": "stderr",
     "output_type": "stream",
     "text": [
      " 57%|█████▋    | 114/200 [03:14<02:27,  1.72s/it]"
     ]
    },
    {
     "name": "stdout",
     "output_type": "stream",
     "text": [
      "[6500] Beta: 0.000, KL: 208.00, loss: 20.371, Word: 67.24, 99.04, Topo: 97.34, Assm: 80.89, PNorm: 276.55, GNorm: 15.72\n"
     ]
    },
    {
     "name": "stderr",
     "output_type": "stream",
     "text": [
      " 82%|████████▏ | 164/200 [04:40<00:58,  1.63s/it]"
     ]
    },
    {
     "name": "stdout",
     "output_type": "stream",
     "text": [
      "[6550] Beta: 0.000, KL: 207.25, loss: 20.804, Word: 66.80, 98.90, Topo: 97.03, Assm: 81.49, PNorm: 277.71, GNorm: 22.35\n"
     ]
    },
    {
     "name": "stderr",
     "output_type": "stream",
     "text": [
      "214it [06:05,  1.79s/it]                         "
     ]
    },
    {
     "name": "stdout",
     "output_type": "stream",
     "text": [
      "[6600] Beta: 0.000, KL: 199.81, loss: 21.143, Word: 65.62, 98.96, Topo: 96.91, Assm: 81.19, PNorm: 278.98, GNorm: 15.93\n"
     ]
    },
    {
     "name": "stderr",
     "output_type": "stream",
     "text": [
      "245it [06:58,  1.71s/it]\n",
      " 10%|▉         | 19/200 [00:34<05:32,  1.84s/it]"
     ]
    },
    {
     "name": "stdout",
     "output_type": "stream",
     "text": [
      "[6650] Beta: 0.000, KL: 201.54, loss: 20.423, Word: 67.14, 99.05, Topo: 97.19, Assm: 80.57, PNorm: 280.43, GNorm: 14.44\n"
     ]
    },
    {
     "name": "stderr",
     "output_type": "stream",
     "text": [
      " 34%|███▍      | 69/200 [01:59<03:53,  1.78s/it]"
     ]
    },
    {
     "name": "stdout",
     "output_type": "stream",
     "text": [
      "[6700] Beta: 0.000, KL: 213.57, loss: 19.425, Word: 68.73, 99.15, Topo: 97.31, Assm: 82.37, PNorm: 281.55, GNorm: 18.71\n"
     ]
    },
    {
     "name": "stderr",
     "output_type": "stream",
     "text": [
      " 60%|█████▉    | 119/200 [03:23<02:16,  1.68s/it]"
     ]
    },
    {
     "name": "stdout",
     "output_type": "stream",
     "text": [
      "[6750] Beta: 0.000, KL: 223.94, loss: 18.982, Word: 68.59, 99.26, Topo: 97.49, Assm: 82.96, PNorm: 282.62, GNorm: 17.77\n"
     ]
    },
    {
     "name": "stderr",
     "output_type": "stream",
     "text": [
      " 84%|████████▍ | 169/200 [04:48<00:56,  1.82s/it]"
     ]
    },
    {
     "name": "stdout",
     "output_type": "stream",
     "text": [
      "[6800] Beta: 0.000, KL: 227.81, loss: 19.377, Word: 67.85, 99.08, Topo: 97.42, Assm: 83.04, PNorm: 283.76, GNorm: 18.40\n"
     ]
    },
    {
     "name": "stderr",
     "output_type": "stream",
     "text": [
      "219it [06:15,  1.67s/it]                         "
     ]
    },
    {
     "name": "stdout",
     "output_type": "stream",
     "text": [
      "[6850] Beta: 0.000, KL: 217.40, loss: 19.616, Word: 67.70, 99.12, Topo: 97.40, Assm: 83.25, PNorm: 285.29, GNorm: 19.16\n"
     ]
    },
    {
     "name": "stderr",
     "output_type": "stream",
     "text": [
      "245it [06:59,  1.71s/it]\n",
      " 12%|█▏        | 24/200 [00:41<04:57,  1.69s/it]"
     ]
    },
    {
     "name": "stdout",
     "output_type": "stream",
     "text": [
      "[6900] Beta: 0.000, KL: 222.81, loss: 18.603, Word: 69.45, 99.35, Topo: 97.53, Assm: 83.10, PNorm: 286.63, GNorm: 15.92\n"
     ]
    },
    {
     "name": "stderr",
     "output_type": "stream",
     "text": [
      " 37%|███▋      | 74/200 [02:07<04:05,  1.95s/it]"
     ]
    },
    {
     "name": "stdout",
     "output_type": "stream",
     "text": [
      "[6950] Beta: 0.000, KL: 238.40, loss: 17.946, Word: 70.67, 99.36, Topo: 97.70, Assm: 84.04, PNorm: 287.74, GNorm: 16.03\n"
     ]
    },
    {
     "name": "stderr",
     "output_type": "stream",
     "text": [
      " 62%|██████▏   | 124/200 [03:32<02:12,  1.74s/it]"
     ]
    },
    {
     "name": "stdout",
     "output_type": "stream",
     "text": [
      "[7000] Beta: 0.000, KL: 238.57, loss: 17.380, Word: 70.61, 99.45, Topo: 97.78, Assm: 84.53, PNorm: 288.72, GNorm: 15.80\n"
     ]
    },
    {
     "name": "stderr",
     "output_type": "stream",
     "text": [
      " 87%|████████▋ | 174/200 [04:57<00:46,  1.79s/it]"
     ]
    },
    {
     "name": "stdout",
     "output_type": "stream",
     "text": [
      "[7050] Beta: 0.000, KL: 240.51, loss: 17.778, Word: 70.29, 99.37, Topo: 97.63, Assm: 85.31, PNorm: 289.69, GNorm: 16.98\n"
     ]
    },
    {
     "name": "stderr",
     "output_type": "stream",
     "text": [
      "224it [06:23,  1.71s/it]                         "
     ]
    },
    {
     "name": "stdout",
     "output_type": "stream",
     "text": [
      "[7100] Beta: 0.000, KL: 235.47, loss: 18.011, Word: 70.19, 99.34, Topo: 97.74, Assm: 85.40, PNorm: 290.77, GNorm: 15.05\n"
     ]
    },
    {
     "name": "stderr",
     "output_type": "stream",
     "text": [
      "245it [06:59,  1.71s/it]\n",
      " 14%|█▍        | 29/200 [00:49<04:49,  1.69s/it]"
     ]
    },
    {
     "name": "stdout",
     "output_type": "stream",
     "text": [
      "[7150] Beta: 0.000, KL: 235.24, loss: 17.320, Word: 71.29, 99.47, Topo: 97.96, Assm: 84.56, PNorm: 291.81, GNorm: 18.48\n"
     ]
    },
    {
     "name": "stderr",
     "output_type": "stream",
     "text": [
      " 40%|███▉      | 79/200 [02:16<03:25,  1.70s/it]"
     ]
    },
    {
     "name": "stdout",
     "output_type": "stream",
     "text": [
      "[7200] Beta: 0.000, KL: 242.27, loss: 16.297, Word: 72.45, 99.52, Topo: 98.03, Assm: 85.67, PNorm: 292.69, GNorm: 18.96\n"
     ]
    },
    {
     "name": "stderr",
     "output_type": "stream",
     "text": [
      " 64%|██████▍   | 129/200 [03:42<02:00,  1.70s/it]"
     ]
    },
    {
     "name": "stdout",
     "output_type": "stream",
     "text": [
      "[7250] Beta: 0.000, KL: 244.43, loss: 16.435, Word: 71.94, 99.44, Topo: 98.03, Assm: 85.82, PNorm: 293.63, GNorm: 18.43\n"
     ]
    },
    {
     "name": "stderr",
     "output_type": "stream",
     "text": [
      " 90%|████████▉ | 179/200 [05:07<00:35,  1.70s/it]"
     ]
    },
    {
     "name": "stdout",
     "output_type": "stream",
     "text": [
      "[7300] Beta: 0.000, KL: 252.45, loss: 16.360, Word: 72.07, 99.50, Topo: 97.86, Assm: 86.90, PNorm: 294.65, GNorm: 15.20\n"
     ]
    },
    {
     "name": "stderr",
     "output_type": "stream",
     "text": [
      "229it [06:31,  1.65s/it]                         "
     ]
    },
    {
     "name": "stdout",
     "output_type": "stream",
     "text": [
      "[7350] Beta: 0.000, KL: 251.54, loss: 16.564, Word: 71.90, 99.53, Topo: 98.02, Assm: 85.39, PNorm: 295.83, GNorm: 15.01\n"
     ]
    },
    {
     "name": "stderr",
     "output_type": "stream",
     "text": [
      "245it [06:59,  1.71s/it]\n",
      " 17%|█▋        | 34/200 [00:58<04:53,  1.77s/it]"
     ]
    },
    {
     "name": "stdout",
     "output_type": "stream",
     "text": [
      "[7400] Beta: 0.000, KL: 255.95, loss: 15.780, Word: 73.49, 99.60, Topo: 98.12, Assm: 87.32, PNorm: 296.74, GNorm: 18.55\n"
     ]
    },
    {
     "name": "stderr",
     "output_type": "stream",
     "text": [
      " 42%|████▏     | 84/200 [02:24<03:18,  1.71s/it]"
     ]
    },
    {
     "name": "stdout",
     "output_type": "stream",
     "text": [
      "[7450] Beta: 0.000, KL: 266.96, loss: 14.959, Word: 74.53, 99.65, Topo: 98.19, Assm: 87.50, PNorm: 297.67, GNorm: 16.04\n"
     ]
    },
    {
     "name": "stderr",
     "output_type": "stream",
     "text": [
      " 67%|██████▋   | 134/200 [03:49<01:44,  1.59s/it]"
     ]
    },
    {
     "name": "stdout",
     "output_type": "stream",
     "text": [
      "[7500] Beta: 0.000, KL: 263.23, loss: 14.935, Word: 74.22, 99.68, Topo: 98.20, Assm: 87.70, PNorm: 298.54, GNorm: 24.61\n"
     ]
    },
    {
     "name": "stderr",
     "output_type": "stream",
     "text": [
      " 92%|█████████▏| 184/200 [05:14<00:28,  1.80s/it]"
     ]
    },
    {
     "name": "stdout",
     "output_type": "stream",
     "text": [
      "[7550] Beta: 0.000, KL: 263.77, loss: 14.812, Word: 73.78, 99.59, Topo: 98.33, Assm: 87.94, PNorm: 299.37, GNorm: 19.05\n"
     ]
    },
    {
     "name": "stderr",
     "output_type": "stream",
     "text": [
      "234it [06:39,  1.99s/it]                         "
     ]
    },
    {
     "name": "stdout",
     "output_type": "stream",
     "text": [
      "[7600] Beta: 0.000, KL: 266.24, loss: 15.072, Word: 74.05, 99.62, Topo: 98.28, Assm: 88.10, PNorm: 300.26, GNorm: 23.68\n"
     ]
    },
    {
     "name": "stderr",
     "output_type": "stream",
     "text": [
      "245it [06:59,  1.71s/it]\n",
      " 20%|█▉        | 39/200 [01:06<04:31,  1.69s/it]"
     ]
    },
    {
     "name": "stdout",
     "output_type": "stream",
     "text": [
      "[7650] Beta: 0.000, KL: 266.51, loss: 14.155, Word: 75.89, 99.64, Topo: 98.37, Assm: 88.99, PNorm: 301.08, GNorm: 16.38\n"
     ]
    },
    {
     "name": "stderr",
     "output_type": "stream",
     "text": [
      " 44%|████▍     | 89/200 [02:32<03:10,  1.72s/it]"
     ]
    },
    {
     "name": "stdout",
     "output_type": "stream",
     "text": [
      "[7700] Beta: 0.000, KL: 267.30, loss: 14.035, Word: 75.99, 99.64, Topo: 98.30, Assm: 88.05, PNorm: 301.90, GNorm: 18.83\n"
     ]
    },
    {
     "name": "stderr",
     "output_type": "stream",
     "text": [
      " 70%|██████▉   | 139/200 [03:56<01:41,  1.66s/it]"
     ]
    },
    {
     "name": "stdout",
     "output_type": "stream",
     "text": [
      "[7750] Beta: 0.000, KL: 273.09, loss: 13.740, Word: 75.79, 99.71, Topo: 98.30, Assm: 89.11, PNorm: 302.72, GNorm: 18.18\n"
     ]
    },
    {
     "name": "stderr",
     "output_type": "stream",
     "text": [
      " 94%|█████████▍| 189/200 [05:22<00:19,  1.74s/it]"
     ]
    },
    {
     "name": "stdout",
     "output_type": "stream",
     "text": [
      "[7800] Beta: 0.000, KL: 273.53, loss: 13.630, Word: 75.84, 99.72, Topo: 98.48, Assm: 89.39, PNorm: 303.55, GNorm: 18.26\n"
     ]
    },
    {
     "name": "stderr",
     "output_type": "stream",
     "text": [
      "239it [06:49,  1.72s/it]                         "
     ]
    },
    {
     "name": "stdout",
     "output_type": "stream",
     "text": [
      "[7850] Beta: 0.000, KL: 280.79, loss: 13.594, Word: 76.31, 99.73, Topo: 98.48, Assm: 90.13, PNorm: 304.33, GNorm: 15.53\n"
     ]
    },
    {
     "name": "stderr",
     "output_type": "stream",
     "text": [
      "245it [06:59,  1.71s/it]\n",
      " 22%|██▏       | 44/200 [01:14<04:32,  1.75s/it]"
     ]
    },
    {
     "name": "stdout",
     "output_type": "stream",
     "text": [
      "[7900] Beta: 0.000, KL: 286.01, loss: 12.839, Word: 77.88, 99.70, Topo: 98.59, Assm: 88.72, PNorm: 305.05, GNorm: 16.81\n"
     ]
    },
    {
     "name": "stderr",
     "output_type": "stream",
     "text": [
      " 47%|████▋     | 94/200 [02:41<03:06,  1.76s/it]"
     ]
    },
    {
     "name": "stdout",
     "output_type": "stream",
     "text": [
      "[7950] Beta: 0.000, KL: 287.97, loss: 12.570, Word: 78.17, 99.75, Topo: 98.61, Assm: 89.42, PNorm: 305.86, GNorm: 18.11\n"
     ]
    },
    {
     "name": "stderr",
     "output_type": "stream",
     "text": [
      " 72%|███████▏  | 144/200 [04:07<01:29,  1.61s/it]"
     ]
    },
    {
     "name": "stdout",
     "output_type": "stream",
     "text": [
      "[8000] Beta: 0.000, KL: 299.27, loss: 12.438, Word: 77.63, 99.80, Topo: 98.52, Assm: 90.08, PNorm: 306.60, GNorm: 17.83\n"
     ]
    },
    {
     "name": "stderr",
     "output_type": "stream",
     "text": [
      " 97%|█████████▋| 194/200 [05:33<00:10,  1.78s/it]"
     ]
    },
    {
     "name": "stdout",
     "output_type": "stream",
     "text": [
      "[8050] Beta: 0.000, KL: 304.61, loss: 12.594, Word: 77.69, 99.77, Topo: 98.64, Assm: 90.41, PNorm: 307.34, GNorm: 22.62\n"
     ]
    },
    {
     "name": "stderr",
     "output_type": "stream",
     "text": [
      "244it [06:57,  1.73s/it]                         "
     ]
    },
    {
     "name": "stdout",
     "output_type": "stream",
     "text": [
      "[8100] Beta: 0.000, KL: 292.67, loss: 12.425, Word: 77.77, 99.82, Topo: 98.61, Assm: 90.94, PNorm: 308.09, GNorm: 15.73\n"
     ]
    },
    {
     "name": "stderr",
     "output_type": "stream",
     "text": [
      "245it [06:59,  1.71s/it]\n",
      " 24%|██▍       | 49/200 [01:23<04:21,  1.73s/it]"
     ]
    },
    {
     "name": "stdout",
     "output_type": "stream",
     "text": [
      "[8150] Beta: 0.000, KL: 297.82, loss: 11.616, Word: 79.69, 99.81, Topo: 98.73, Assm: 91.15, PNorm: 308.73, GNorm: 19.24\n"
     ]
    },
    {
     "name": "stderr",
     "output_type": "stream",
     "text": [
      " 50%|████▉     | 99/200 [02:49<03:08,  1.87s/it]"
     ]
    },
    {
     "name": "stdout",
     "output_type": "stream",
     "text": [
      "[8200] Beta: 0.000, KL: 309.22, loss: 11.123, Word: 80.17, 99.82, Topo: 98.79, Assm: 91.39, PNorm: 309.39, GNorm: 17.58\n"
     ]
    },
    {
     "name": "stderr",
     "output_type": "stream",
     "text": [
      " 74%|███████▍  | 149/200 [04:12<01:22,  1.62s/it]"
     ]
    },
    {
     "name": "stdout",
     "output_type": "stream",
     "text": [
      "[8250] Beta: 0.000, KL: 305.84, loss: 11.517, Word: 79.03, 99.80, Topo: 98.79, Assm: 91.48, PNorm: 310.10, GNorm: 23.29\n"
     ]
    },
    {
     "name": "stderr",
     "output_type": "stream",
     "text": [
      "100%|█████████▉| 199/200 [05:38<00:01,  1.66s/it]"
     ]
    },
    {
     "name": "stdout",
     "output_type": "stream",
     "text": [
      "[8300] Beta: 0.000, KL: 309.31, loss: 11.428, Word: 79.46, 99.78, Topo: 98.76, Assm: 91.40, PNorm: 310.82, GNorm: 18.06\n"
     ]
    },
    {
     "name": "stderr",
     "output_type": "stream",
     "text": [
      "245it [06:56,  1.70s/it]                         \n",
      "  2%|▏         | 4/200 [00:07<05:03,  1.55s/it]"
     ]
    },
    {
     "name": "stdout",
     "output_type": "stream",
     "text": [
      "[8350] Beta: 0.000, KL: 303.34, loss: 11.138, Word: 80.32, 99.86, Topo: 98.95, Assm: 91.71, PNorm: 311.51, GNorm: 17.86\n"
     ]
    },
    {
     "name": "stderr",
     "output_type": "stream",
     "text": [
      " 27%|██▋       | 54/200 [01:31<04:15,  1.75s/it]"
     ]
    },
    {
     "name": "stdout",
     "output_type": "stream",
     "text": [
      "[8400] Beta: 0.000, KL: 311.02, loss: 10.358, Word: 81.53, 99.86, Topo: 98.87, Assm: 91.81, PNorm: 312.12, GNorm: 21.60\n"
     ]
    },
    {
     "name": "stderr",
     "output_type": "stream",
     "text": [
      " 52%|█████▏    | 104/200 [02:58<02:39,  1.67s/it]"
     ]
    },
    {
     "name": "stdout",
     "output_type": "stream",
     "text": [
      "[8450] Beta: 0.000, KL: 313.30, loss: 10.538, Word: 81.14, 99.84, Topo: 98.85, Assm: 91.64, PNorm: 312.75, GNorm: 18.84\n"
     ]
    },
    {
     "name": "stderr",
     "output_type": "stream",
     "text": [
      " 77%|███████▋  | 154/200 [04:24<01:13,  1.60s/it]"
     ]
    },
    {
     "name": "stdout",
     "output_type": "stream",
     "text": [
      "[8500] Beta: 0.000, KL: 310.69, loss: 11.367, Word: 79.41, 99.78, Topo: 98.81, Assm: 91.22, PNorm: 313.46, GNorm: 17.95\n"
     ]
    },
    {
     "name": "stderr",
     "output_type": "stream",
     "text": [
      "204it [05:50,  1.68s/it]                         "
     ]
    },
    {
     "name": "stdout",
     "output_type": "stream",
     "text": [
      "[8550] Beta: 0.000, KL: 319.46, loss: 10.676, Word: 80.99, 99.83, Topo: 98.81, Assm: 91.81, PNorm: 314.16, GNorm: 16.38\n"
     ]
    },
    {
     "name": "stderr",
     "output_type": "stream",
     "text": [
      "245it [07:00,  1.72s/it]\n",
      "  4%|▍         | 9/200 [00:16<06:20,  1.99s/it]"
     ]
    },
    {
     "name": "stdout",
     "output_type": "stream",
     "text": [
      "[8600] Beta: 0.000, KL: 314.91, loss: 10.606, Word: 80.77, 99.81, Topo: 98.95, Assm: 91.56, PNorm: 314.81, GNorm: 21.85\n"
     ]
    },
    {
     "name": "stderr",
     "output_type": "stream",
     "text": [
      " 30%|██▉       | 59/200 [01:39<03:46,  1.61s/it]"
     ]
    },
    {
     "name": "stdout",
     "output_type": "stream",
     "text": [
      "[8650] Beta: 0.000, KL: 313.72, loss: 9.429, Word: 83.10, 99.83, Topo: 99.06, Assm: 92.48, PNorm: 315.40, GNorm: 19.27\n"
     ]
    },
    {
     "name": "stderr",
     "output_type": "stream",
     "text": [
      " 55%|█████▍    | 109/200 [03:05<02:53,  1.90s/it]"
     ]
    },
    {
     "name": "stdout",
     "output_type": "stream",
     "text": [
      "[8700] Beta: 0.000, KL: 332.91, loss: 9.302, Word: 83.37, 99.87, Topo: 99.05, Assm: 92.75, PNorm: 315.97, GNorm: 23.70\n"
     ]
    },
    {
     "name": "stderr",
     "output_type": "stream",
     "text": [
      " 80%|███████▉  | 159/200 [04:31<01:16,  1.86s/it]"
     ]
    },
    {
     "name": "stdout",
     "output_type": "stream",
     "text": [
      "[8750] Beta: 0.000, KL: 331.95, loss: 9.908, Word: 82.40, 99.84, Topo: 98.92, Assm: 92.89, PNorm: 316.57, GNorm: 18.74\n"
     ]
    },
    {
     "name": "stderr",
     "output_type": "stream",
     "text": [
      "209it [05:57,  1.75s/it]                         "
     ]
    },
    {
     "name": "stdout",
     "output_type": "stream",
     "text": [
      "[8800] Beta: 0.000, KL: 323.42, loss: 9.756, Word: 82.07, 99.85, Topo: 98.99, Assm: 92.73, PNorm: 317.13, GNorm: 18.26\n"
     ]
    },
    {
     "name": "stderr",
     "output_type": "stream",
     "text": [
      "245it [06:58,  1.71s/it]\n",
      "  7%|▋         | 14/200 [00:22<04:54,  1.58s/it]"
     ]
    },
    {
     "name": "stdout",
     "output_type": "stream",
     "text": [
      "[8850] Beta: 0.000, KL: 327.87, loss: 9.063, Word: 83.46, 99.88, Topo: 99.01, Assm: 93.50, PNorm: 317.68, GNorm: 23.10\n"
     ]
    },
    {
     "name": "stderr",
     "output_type": "stream",
     "text": [
      " 32%|███▏      | 64/200 [01:49<03:55,  1.73s/it]"
     ]
    },
    {
     "name": "stdout",
     "output_type": "stream",
     "text": [
      "[8900] Beta: 0.000, KL: 335.56, loss: 8.785, Word: 84.35, 99.88, Topo: 99.12, Assm: 93.32, PNorm: 318.18, GNorm: 20.03\n"
     ]
    },
    {
     "name": "stderr",
     "output_type": "stream",
     "text": [
      " 57%|█████▋    | 114/200 [03:15<02:23,  1.67s/it]"
     ]
    },
    {
     "name": "stdout",
     "output_type": "stream",
     "text": [
      "[8950] Beta: 0.000, KL: 338.97, loss: 8.440, Word: 84.75, 99.91, Topo: 99.19, Assm: 93.63, PNorm: 318.68, GNorm: 16.98\n"
     ]
    },
    {
     "name": "stderr",
     "output_type": "stream",
     "text": [
      " 82%|████████▏ | 164/200 [04:38<00:56,  1.56s/it]"
     ]
    },
    {
     "name": "stdout",
     "output_type": "stream",
     "text": [
      "[9000] Beta: 0.000, KL: 341.36, loss: 8.563, Word: 84.18, 99.83, Topo: 99.12, Assm: 93.93, PNorm: 319.24, GNorm: 20.19\n"
     ]
    },
    {
     "name": "stderr",
     "output_type": "stream",
     "text": [
      "214it [06:06,  1.80s/it]                         "
     ]
    },
    {
     "name": "stdout",
     "output_type": "stream",
     "text": [
      "[9050] Beta: 0.000, KL: 346.02, loss: 8.943, Word: 84.04, 99.87, Topo: 99.05, Assm: 93.64, PNorm: 319.77, GNorm: 16.60\n"
     ]
    },
    {
     "name": "stderr",
     "output_type": "stream",
     "text": [
      "245it [06:58,  1.71s/it]\n",
      " 10%|▉         | 19/200 [00:33<05:05,  1.69s/it]"
     ]
    },
    {
     "name": "stdout",
     "output_type": "stream",
     "text": [
      "[9100] Beta: 0.000, KL: 338.78, loss: 8.702, Word: 84.63, 99.87, Topo: 99.11, Assm: 93.69, PNorm: 320.31, GNorm: 21.58\n"
     ]
    },
    {
     "name": "stderr",
     "output_type": "stream",
     "text": [
      " 34%|███▍      | 69/200 [01:58<03:43,  1.71s/it]"
     ]
    },
    {
     "name": "stdout",
     "output_type": "stream",
     "text": [
      "[9150] Beta: 0.000, KL: 347.45, loss: 7.908, Word: 85.68, 99.88, Topo: 99.21, Assm: 94.21, PNorm: 320.81, GNorm: 18.51\n"
     ]
    },
    {
     "name": "stderr",
     "output_type": "stream",
     "text": [
      " 60%|█████▉    | 119/200 [03:24<02:12,  1.64s/it]"
     ]
    },
    {
     "name": "stdout",
     "output_type": "stream",
     "text": [
      "[9200] Beta: 0.000, KL: 347.34, loss: 7.628, Word: 86.48, 99.87, Topo: 99.27, Assm: 94.00, PNorm: 321.30, GNorm: 19.43\n"
     ]
    },
    {
     "name": "stderr",
     "output_type": "stream",
     "text": [
      " 84%|████████▍ | 169/200 [04:49<00:50,  1.62s/it]"
     ]
    },
    {
     "name": "stdout",
     "output_type": "stream",
     "text": [
      "[9250] Beta: 0.000, KL: 343.02, loss: 8.117, Word: 85.43, 99.87, Topo: 99.20, Assm: 94.31, PNorm: 321.81, GNorm: 19.08\n"
     ]
    },
    {
     "name": "stderr",
     "output_type": "stream",
     "text": [
      "219it [06:15,  1.64s/it]                         "
     ]
    },
    {
     "name": "stdout",
     "output_type": "stream",
     "text": [
      "[9300] Beta: 0.000, KL: 355.54, loss: 7.710, Word: 85.87, 99.95, Topo: 99.29, Assm: 94.58, PNorm: 322.31, GNorm: 16.65\n"
     ]
    },
    {
     "name": "stderr",
     "output_type": "stream",
     "text": [
      "245it [07:00,  1.72s/it]\n",
      " 12%|█▏        | 24/200 [00:42<05:37,  1.92s/it]"
     ]
    },
    {
     "name": "stdout",
     "output_type": "stream",
     "text": [
      "[9350] Beta: 0.000, KL: 347.06, loss: 7.650, Word: 86.18, 99.92, Topo: 99.20, Assm: 94.34, PNorm: 322.79, GNorm: 19.52\n"
     ]
    },
    {
     "name": "stderr",
     "output_type": "stream",
     "text": [
      " 37%|███▋      | 74/200 [02:06<03:37,  1.72s/it]"
     ]
    },
    {
     "name": "stdout",
     "output_type": "stream",
     "text": [
      "[9400] Beta: 0.000, KL: 358.72, loss: 7.168, Word: 87.12, 99.94, Topo: 99.27, Assm: 94.53, PNorm: 323.26, GNorm: 18.50\n"
     ]
    },
    {
     "name": "stderr",
     "output_type": "stream",
     "text": [
      " 62%|██████▏   | 124/200 [03:32<02:15,  1.79s/it]"
     ]
    },
    {
     "name": "stdout",
     "output_type": "stream",
     "text": [
      "[9450] Beta: 0.000, KL: 362.20, loss: 7.097, Word: 87.22, 99.89, Topo: 99.20, Assm: 94.67, PNorm: 323.71, GNorm: 26.65\n"
     ]
    },
    {
     "name": "stderr",
     "output_type": "stream",
     "text": [
      " 87%|████████▋ | 174/200 [04:56<00:42,  1.62s/it]"
     ]
    },
    {
     "name": "stdout",
     "output_type": "stream",
     "text": [
      "[9500] Beta: 0.000, KL: 359.20, loss: 7.369, Word: 86.53, 99.90, Topo: 99.22, Assm: 94.92, PNorm: 324.21, GNorm: 19.43\n"
     ]
    },
    {
     "name": "stderr",
     "output_type": "stream",
     "text": [
      "224it [06:22,  1.62s/it]                         "
     ]
    },
    {
     "name": "stdout",
     "output_type": "stream",
     "text": [
      "[9550] Beta: 0.000, KL: 351.58, loss: 7.530, Word: 86.10, 99.90, Topo: 99.31, Assm: 93.91, PNorm: 324.67, GNorm: 19.53\n"
     ]
    },
    {
     "name": "stderr",
     "output_type": "stream",
     "text": [
      "245it [06:58,  1.71s/it]\n",
      " 14%|█▍        | 29/200 [00:49<05:01,  1.77s/it]"
     ]
    },
    {
     "name": "stdout",
     "output_type": "stream",
     "text": [
      "[9600] Beta: 0.000, KL: 357.14, loss: 6.857, Word: 87.91, 99.86, Topo: 99.33, Assm: 95.10, PNorm: 325.11, GNorm: 20.54\n"
     ]
    },
    {
     "name": "stderr",
     "output_type": "stream",
     "text": [
      " 40%|███▉      | 79/200 [02:15<03:16,  1.62s/it]"
     ]
    },
    {
     "name": "stdout",
     "output_type": "stream",
     "text": [
      "[9650] Beta: 0.000, KL: 357.73, loss: 6.769, Word: 87.67, 99.90, Topo: 99.32, Assm: 94.95, PNorm: 325.55, GNorm: 18.69\n"
     ]
    },
    {
     "name": "stderr",
     "output_type": "stream",
     "text": [
      " 64%|██████▍   | 129/200 [03:41<01:58,  1.66s/it]"
     ]
    },
    {
     "name": "stdout",
     "output_type": "stream",
     "text": [
      "[9700] Beta: 0.000, KL: 361.61, loss: 6.590, Word: 87.86, 99.94, Topo: 99.30, Assm: 95.25, PNorm: 325.99, GNorm: 30.28\n"
     ]
    },
    {
     "name": "stderr",
     "output_type": "stream",
     "text": [
      " 90%|████████▉ | 179/200 [05:05<00:33,  1.61s/it]"
     ]
    },
    {
     "name": "stdout",
     "output_type": "stream",
     "text": [
      "[9750] Beta: 0.000, KL: 361.40, loss: 6.569, Word: 88.04, 99.88, Topo: 99.30, Assm: 95.69, PNorm: 326.48, GNorm: 18.30\n"
     ]
    },
    {
     "name": "stderr",
     "output_type": "stream",
     "text": [
      "229it [06:34,  1.97s/it]                         "
     ]
    },
    {
     "name": "stdout",
     "output_type": "stream",
     "text": [
      "[9800] Beta: 0.000, KL: 356.21, loss: 6.943, Word: 87.75, 99.91, Topo: 99.32, Assm: 94.53, PNorm: 326.94, GNorm: 20.64\n"
     ]
    },
    {
     "name": "stderr",
     "output_type": "stream",
     "text": [
      "245it [07:02,  1.72s/it]\n",
      " 17%|█▋        | 34/200 [00:58<04:35,  1.66s/it]"
     ]
    },
    {
     "name": "stdout",
     "output_type": "stream",
     "text": [
      "[9850] Beta: 0.000, KL: 365.86, loss: 6.303, Word: 88.62, 99.90, Topo: 99.33, Assm: 95.92, PNorm: 327.36, GNorm: 20.35\n"
     ]
    },
    {
     "name": "stderr",
     "output_type": "stream",
     "text": [
      " 42%|████▏     | 84/200 [02:25<03:16,  1.70s/it]"
     ]
    },
    {
     "name": "stdout",
     "output_type": "stream",
     "text": [
      "[9900] Beta: 0.000, KL: 367.90, loss: 6.224, Word: 88.82, 99.91, Topo: 99.38, Assm: 95.74, PNorm: 327.75, GNorm: 22.07\n"
     ]
    },
    {
     "name": "stderr",
     "output_type": "stream",
     "text": [
      " 67%|██████▋   | 134/200 [03:51<01:53,  1.71s/it]"
     ]
    },
    {
     "name": "stdout",
     "output_type": "stream",
     "text": [
      "[9950] Beta: 0.000, KL: 368.05, loss: 6.152, Word: 88.87, 99.89, Topo: 99.36, Assm: 96.12, PNorm: 328.18, GNorm: 25.81\n"
     ]
    },
    {
     "name": "stderr",
     "output_type": "stream",
     "text": [
      " 92%|█████████▏| 184/200 [05:15<00:28,  1.80s/it]"
     ]
    },
    {
     "name": "stdout",
     "output_type": "stream",
     "text": [
      "[10000] Beta: 0.000, KL: 378.48, loss: 5.941, Word: 88.97, 99.88, Topo: 99.37, Assm: 95.82, PNorm: 328.57, GNorm: 23.10\n"
     ]
    },
    {
     "name": "stderr",
     "output_type": "stream",
     "text": [
      "234it [06:41,  1.92s/it]                         "
     ]
    },
    {
     "name": "stdout",
     "output_type": "stream",
     "text": [
      "[10050] Beta: 0.000, KL: 374.79, loss: 6.457, Word: 88.29, 99.92, Topo: 99.31, Assm: 95.48, PNorm: 328.98, GNorm: 17.23\n"
     ]
    },
    {
     "name": "stderr",
     "output_type": "stream",
     "text": [
      "245it [07:00,  1.72s/it]\n",
      " 20%|█▉        | 39/200 [01:05<04:40,  1.74s/it]"
     ]
    },
    {
     "name": "stdout",
     "output_type": "stream",
     "text": [
      "[10100] Beta: 0.000, KL: 372.48, loss: 5.888, Word: 89.17, 99.92, Topo: 99.40, Assm: 96.06, PNorm: 329.36, GNorm: 19.87\n"
     ]
    },
    {
     "name": "stderr",
     "output_type": "stream",
     "text": [
      " 44%|████▍     | 89/200 [02:32<03:08,  1.70s/it]"
     ]
    },
    {
     "name": "stdout",
     "output_type": "stream",
     "text": [
      "[10150] Beta: 0.000, KL: 367.49, loss: 5.763, Word: 89.43, 99.91, Topo: 99.48, Assm: 96.13, PNorm: 329.72, GNorm: 23.29\n"
     ]
    },
    {
     "name": "stderr",
     "output_type": "stream",
     "text": [
      " 70%|██████▉   | 139/200 [03:57<01:44,  1.71s/it]"
     ]
    },
    {
     "name": "stdout",
     "output_type": "stream",
     "text": [
      "[10200] Beta: 0.000, KL: 378.42, loss: 5.544, Word: 89.85, 99.93, Topo: 99.37, Assm: 96.27, PNorm: 330.11, GNorm: 18.11\n"
     ]
    },
    {
     "name": "stderr",
     "output_type": "stream",
     "text": [
      " 94%|█████████▍| 189/200 [05:22<00:19,  1.81s/it]"
     ]
    },
    {
     "name": "stdout",
     "output_type": "stream",
     "text": [
      "[10250] Beta: 0.000, KL: 385.44, loss: 5.847, Word: 89.25, 99.89, Topo: 99.44, Assm: 96.19, PNorm: 330.48, GNorm: 20.26\n"
     ]
    },
    {
     "name": "stderr",
     "output_type": "stream",
     "text": [
      "239it [06:48,  1.66s/it]                         "
     ]
    },
    {
     "name": "stdout",
     "output_type": "stream",
     "text": [
      "[10300] Beta: 0.000, KL: 378.91, loss: 5.652, Word: 89.76, 99.88, Topo: 99.46, Assm: 96.06, PNorm: 330.88, GNorm: 25.01\n"
     ]
    },
    {
     "name": "stderr",
     "output_type": "stream",
     "text": [
      "245it [06:59,  1.71s/it]\n",
      " 22%|██▏       | 44/200 [01:15<04:25,  1.70s/it]"
     ]
    },
    {
     "name": "stdout",
     "output_type": "stream",
     "text": [
      "[10350] Beta: 0.000, KL: 382.87, loss: 5.435, Word: 90.22, 99.94, Topo: 99.40, Assm: 96.57, PNorm: 331.28, GNorm: 22.64\n"
     ]
    },
    {
     "name": "stderr",
     "output_type": "stream",
     "text": [
      " 47%|████▋     | 94/200 [02:41<03:01,  1.71s/it]"
     ]
    },
    {
     "name": "stdout",
     "output_type": "stream",
     "text": [
      "[10400] Beta: 0.000, KL: 380.71, loss: 5.315, Word: 90.35, 99.90, Topo: 99.42, Assm: 96.14, PNorm: 331.64, GNorm: 21.33\n"
     ]
    },
    {
     "name": "stderr",
     "output_type": "stream",
     "text": [
      " 72%|███████▏  | 144/200 [04:06<01:44,  1.87s/it]"
     ]
    },
    {
     "name": "stdout",
     "output_type": "stream",
     "text": [
      "[10450] Beta: 0.000, KL: 387.43, loss: 5.327, Word: 90.33, 99.93, Topo: 99.30, Assm: 96.74, PNorm: 332.02, GNorm: 17.74\n"
     ]
    },
    {
     "name": "stderr",
     "output_type": "stream",
     "text": [
      " 97%|█████████▋| 194/200 [05:32<00:10,  1.75s/it]"
     ]
    },
    {
     "name": "stdout",
     "output_type": "stream",
     "text": [
      "[10500] Beta: 0.000, KL: 390.78, loss: 5.380, Word: 90.37, 99.92, Topo: 99.35, Assm: 96.42, PNorm: 332.40, GNorm: 19.06\n"
     ]
    },
    {
     "name": "stderr",
     "output_type": "stream",
     "text": [
      "244it [06:58,  1.65s/it]                         "
     ]
    },
    {
     "name": "stdout",
     "output_type": "stream",
     "text": [
      "[10550] Beta: 0.000, KL: 391.29, loss: 5.037, Word: 90.87, 99.93, Topo: 99.50, Assm: 96.95, PNorm: 332.77, GNorm: 16.40\n"
     ]
    },
    {
     "name": "stderr",
     "output_type": "stream",
     "text": [
      "245it [07:00,  1.71s/it]\n",
      " 24%|██▍       | 49/200 [01:24<04:19,  1.72s/it]"
     ]
    },
    {
     "name": "stdout",
     "output_type": "stream",
     "text": [
      "[10600] Beta: 0.000, KL: 385.30, loss: 5.003, Word: 90.91, 99.93, Topo: 99.49, Assm: 96.33, PNorm: 333.12, GNorm: 20.19\n"
     ]
    },
    {
     "name": "stderr",
     "output_type": "stream",
     "text": [
      " 50%|████▉     | 99/200 [02:50<02:41,  1.59s/it]"
     ]
    },
    {
     "name": "stdout",
     "output_type": "stream",
     "text": [
      "[10650] Beta: 0.000, KL: 376.91, loss: 5.241, Word: 90.71, 99.92, Topo: 99.40, Assm: 96.17, PNorm: 333.51, GNorm: 19.44\n"
     ]
    },
    {
     "name": "stderr",
     "output_type": "stream",
     "text": [
      " 74%|███████▍  | 149/200 [04:13<01:23,  1.64s/it]"
     ]
    },
    {
     "name": "stdout",
     "output_type": "stream",
     "text": [
      "[10700] Beta: 0.000, KL: 383.40, loss: 4.866, Word: 91.51, 99.90, Topo: 99.49, Assm: 96.10, PNorm: 333.85, GNorm: 19.08\n"
     ]
    },
    {
     "name": "stderr",
     "output_type": "stream",
     "text": [
      "100%|█████████▉| 199/200 [05:40<00:01,  1.86s/it]"
     ]
    },
    {
     "name": "stdout",
     "output_type": "stream",
     "text": [
      "[10750] Beta: 0.000, KL: 400.17, loss: 5.171, Word: 91.03, 99.91, Topo: 99.40, Assm: 96.85, PNorm: 334.23, GNorm: 17.28\n"
     ]
    },
    {
     "name": "stderr",
     "output_type": "stream",
     "text": [
      "245it [06:58,  1.71s/it]                         \n",
      "  2%|▏         | 4/200 [00:08<06:10,  1.89s/it]"
     ]
    },
    {
     "name": "stdout",
     "output_type": "stream",
     "text": [
      "[10800] Beta: 0.000, KL: 398.48, loss: 4.877, Word: 91.00, 99.94, Topo: 99.58, Assm: 96.26, PNorm: 334.59, GNorm: 20.69\n"
     ]
    },
    {
     "name": "stderr",
     "output_type": "stream",
     "text": [
      " 27%|██▋       | 54/200 [01:32<04:23,  1.81s/it]"
     ]
    },
    {
     "name": "stdout",
     "output_type": "stream",
     "text": [
      "[10850] Beta: 0.000, KL: 393.94, loss: 4.555, Word: 91.80, 99.91, Topo: 99.49, Assm: 96.72, PNorm: 334.92, GNorm: 21.49\n"
     ]
    },
    {
     "name": "stderr",
     "output_type": "stream",
     "text": [
      " 52%|█████▏    | 104/200 [02:57<02:43,  1.71s/it]"
     ]
    },
    {
     "name": "stdout",
     "output_type": "stream",
     "text": [
      "[10900] Beta: 0.000, KL: 397.05, loss: 4.756, Word: 91.21, 99.93, Topo: 99.51, Assm: 96.87, PNorm: 335.26, GNorm: 16.40\n"
     ]
    },
    {
     "name": "stderr",
     "output_type": "stream",
     "text": [
      " 77%|███████▋  | 154/200 [04:24<01:24,  1.83s/it]"
     ]
    },
    {
     "name": "stdout",
     "output_type": "stream",
     "text": [
      "[10950] Beta: 0.000, KL: 398.59, loss: 5.012, Word: 91.16, 99.90, Topo: 99.46, Assm: 96.48, PNorm: 335.65, GNorm: 16.56\n"
     ]
    },
    {
     "name": "stderr",
     "output_type": "stream",
     "text": [
      "204it [05:47,  1.61s/it]                         "
     ]
    },
    {
     "name": "stdout",
     "output_type": "stream",
     "text": [
      "[11000] Beta: 0.000, KL: 399.16, loss: 4.847, Word: 91.12, 99.93, Topo: 99.43, Assm: 96.71, PNorm: 336.04, GNorm: 25.90\n"
     ]
    },
    {
     "name": "stderr",
     "output_type": "stream",
     "text": [
      "245it [06:59,  1.71s/it]\n",
      "  4%|▍         | 9/200 [00:15<05:27,  1.71s/it]"
     ]
    },
    {
     "name": "stdout",
     "output_type": "stream",
     "text": [
      "[11050] Beta: 0.000, KL: 391.99, loss: 5.142, Word: 90.86, 99.90, Topo: 99.44, Assm: 96.32, PNorm: 336.42, GNorm: 20.74\n"
     ]
    },
    {
     "name": "stderr",
     "output_type": "stream",
     "text": [
      " 30%|██▉       | 59/200 [01:40<04:05,  1.74s/it]"
     ]
    },
    {
     "name": "stdout",
     "output_type": "stream",
     "text": [
      "[11100] Beta: 0.000, KL: 404.42, loss: 4.715, Word: 91.72, 99.89, Topo: 99.47, Assm: 96.75, PNorm: 336.79, GNorm: 26.92\n"
     ]
    },
    {
     "name": "stderr",
     "output_type": "stream",
     "text": [
      " 55%|█████▍    | 109/200 [03:07<02:34,  1.70s/it]"
     ]
    },
    {
     "name": "stdout",
     "output_type": "stream",
     "text": [
      "[11150] Beta: 0.000, KL: 397.97, loss: 4.905, Word: 91.08, 99.93, Topo: 99.40, Assm: 96.36, PNorm: 337.17, GNorm: 18.99\n"
     ]
    },
    {
     "name": "stderr",
     "output_type": "stream",
     "text": [
      " 80%|███████▉  | 159/200 [04:30<01:14,  1.81s/it]"
     ]
    },
    {
     "name": "stdout",
     "output_type": "stream",
     "text": [
      "[11200] Beta: 0.000, KL: 398.80, loss: 4.756, Word: 91.12, 99.90, Topo: 99.45, Assm: 96.57, PNorm: 337.53, GNorm: 23.46\n"
     ]
    },
    {
     "name": "stderr",
     "output_type": "stream",
     "text": [
      "209it [05:56,  1.65s/it]                         "
     ]
    },
    {
     "name": "stdout",
     "output_type": "stream",
     "text": [
      "[11250] Beta: 0.000, KL: 400.73, loss: 4.566, Word: 91.78, 99.90, Topo: 99.56, Assm: 96.87, PNorm: 337.89, GNorm: 18.09\n"
     ]
    },
    {
     "name": "stderr",
     "output_type": "stream",
     "text": [
      "245it [06:58,  1.71s/it]\n",
      "  7%|▋         | 14/200 [00:24<05:01,  1.62s/it]"
     ]
    },
    {
     "name": "stdout",
     "output_type": "stream",
     "text": [
      "[11300] Beta: 0.000, KL: 403.50, loss: 4.401, Word: 91.98, 99.92, Topo: 99.53, Assm: 97.02, PNorm: 338.21, GNorm: 38.12\n"
     ]
    },
    {
     "name": "stderr",
     "output_type": "stream",
     "text": [
      " 32%|███▏      | 64/200 [01:49<03:50,  1.70s/it]"
     ]
    },
    {
     "name": "stdout",
     "output_type": "stream",
     "text": [
      "[11350] Beta: 0.000, KL: 422.25, loss: 4.067, Word: 92.79, 99.97, Topo: 99.59, Assm: 97.21, PNorm: 338.52, GNorm: 25.51\n"
     ]
    },
    {
     "name": "stderr",
     "output_type": "stream",
     "text": [
      " 57%|█████▋    | 114/200 [03:15<02:19,  1.62s/it]"
     ]
    },
    {
     "name": "stdout",
     "output_type": "stream",
     "text": [
      "[11400] Beta: 0.000, KL: 408.58, loss: 4.118, Word: 92.81, 99.92, Topo: 99.50, Assm: 96.97, PNorm: 338.82, GNorm: 22.37\n"
     ]
    },
    {
     "name": "stderr",
     "output_type": "stream",
     "text": [
      " 82%|████████▏ | 164/200 [04:41<00:56,  1.58s/it]"
     ]
    },
    {
     "name": "stdout",
     "output_type": "stream",
     "text": [
      "[11450] Beta: 0.000, KL: 411.57, loss: 4.258, Word: 92.46, 99.93, Topo: 99.49, Assm: 97.03, PNorm: 339.15, GNorm: 19.91\n"
     ]
    },
    {
     "name": "stderr",
     "output_type": "stream",
     "text": [
      "214it [06:07,  1.63s/it]                         "
     ]
    },
    {
     "name": "stdout",
     "output_type": "stream",
     "text": [
      "[11500] Beta: 0.000, KL: 411.12, loss: 3.993, Word: 92.71, 99.92, Topo: 99.61, Assm: 97.35, PNorm: 339.44, GNorm: 18.68\n"
     ]
    },
    {
     "name": "stderr",
     "output_type": "stream",
     "text": [
      "245it [07:01,  1.72s/it]\n",
      " 10%|▉         | 19/200 [00:33<05:01,  1.67s/it]"
     ]
    },
    {
     "name": "stdout",
     "output_type": "stream",
     "text": [
      "[11550] Beta: 0.000, KL: 410.88, loss: 3.919, Word: 93.20, 99.96, Topo: 99.57, Assm: 97.15, PNorm: 339.74, GNorm: 15.14\n"
     ]
    },
    {
     "name": "stderr",
     "output_type": "stream",
     "text": [
      " 34%|███▍      | 69/200 [01:59<03:41,  1.69s/it]"
     ]
    },
    {
     "name": "stdout",
     "output_type": "stream",
     "text": [
      "[11600] Beta: 0.000, KL: 411.16, loss: 3.728, Word: 93.34, 99.93, Topo: 99.59, Assm: 97.77, PNorm: 340.04, GNorm: 25.01\n"
     ]
    },
    {
     "name": "stderr",
     "output_type": "stream",
     "text": [
      " 60%|█████▉    | 119/200 [03:25<02:16,  1.69s/it]"
     ]
    },
    {
     "name": "stdout",
     "output_type": "stream",
     "text": [
      "[11650] Beta: 0.000, KL: 411.42, loss: 3.661, Word: 93.51, 99.95, Topo: 99.56, Assm: 97.57, PNorm: 340.34, GNorm: 18.93\n"
     ]
    },
    {
     "name": "stderr",
     "output_type": "stream",
     "text": [
      " 84%|████████▍ | 169/200 [04:50<00:51,  1.65s/it]"
     ]
    },
    {
     "name": "stdout",
     "output_type": "stream",
     "text": [
      "[11700] Beta: 0.000, KL: 406.17, loss: 3.873, Word: 93.02, 99.96, Topo: 99.57, Assm: 97.44, PNorm: 340.67, GNorm: 21.70\n"
     ]
    },
    {
     "name": "stderr",
     "output_type": "stream",
     "text": [
      "219it [06:16,  1.60s/it]                         "
     ]
    },
    {
     "name": "stdout",
     "output_type": "stream",
     "text": [
      "[11750] Beta: 0.000, KL: 409.91, loss: 3.780, Word: 93.36, 99.95, Topo: 99.57, Assm: 97.59, PNorm: 340.99, GNorm: 15.99\n"
     ]
    },
    {
     "name": "stderr",
     "output_type": "stream",
     "text": [
      "245it [07:00,  1.72s/it]\n",
      " 12%|█▏        | 24/200 [00:39<04:35,  1.57s/it]"
     ]
    },
    {
     "name": "stdout",
     "output_type": "stream",
     "text": [
      "[11800] Beta: 0.000, KL: 413.11, loss: 3.684, Word: 93.35, 99.96, Topo: 99.60, Assm: 97.78, PNorm: 341.29, GNorm: 21.25\n"
     ]
    },
    {
     "name": "stderr",
     "output_type": "stream",
     "text": [
      " 37%|███▋      | 74/200 [02:08<03:53,  1.85s/it]"
     ]
    },
    {
     "name": "stdout",
     "output_type": "stream",
     "text": [
      "[11850] Beta: 0.000, KL: 414.10, loss: 3.593, Word: 93.90, 99.93, Topo: 99.56, Assm: 97.07, PNorm: 341.56, GNorm: 19.65\n"
     ]
    },
    {
     "name": "stderr",
     "output_type": "stream",
     "text": [
      " 62%|██████▏   | 124/200 [03:33<02:12,  1.74s/it]"
     ]
    },
    {
     "name": "stdout",
     "output_type": "stream",
     "text": [
      "[11900] Beta: 0.000, KL: 424.36, loss: 3.368, Word: 94.00, 99.92, Topo: 99.64, Assm: 97.89, PNorm: 341.83, GNorm: 21.94\n"
     ]
    },
    {
     "name": "stderr",
     "output_type": "stream",
     "text": [
      " 87%|████████▋ | 174/200 [04:58<00:42,  1.62s/it]"
     ]
    },
    {
     "name": "stdout",
     "output_type": "stream",
     "text": [
      "[11950] Beta: 0.000, KL: 423.21, loss: 3.570, Word: 93.71, 99.96, Topo: 99.59, Assm: 97.23, PNorm: 342.15, GNorm: 13.42\n"
     ]
    },
    {
     "name": "stderr",
     "output_type": "stream",
     "text": [
      "224it [06:24,  1.65s/it]                         "
     ]
    },
    {
     "name": "stdout",
     "output_type": "stream",
     "text": [
      "[12000] Beta: 0.000, KL: 424.45, loss: 3.558, Word: 93.66, 99.93, Topo: 99.67, Assm: 97.46, PNorm: 342.44, GNorm: 21.21\n"
     ]
    },
    {
     "name": "stderr",
     "output_type": "stream",
     "text": [
      "245it [07:00,  1.72s/it]\n",
      " 14%|█▍        | 29/200 [00:48<04:34,  1.61s/it]"
     ]
    },
    {
     "name": "stdout",
     "output_type": "stream",
     "text": [
      "[12050] Beta: 0.000, KL: 411.29, loss: 3.386, Word: 93.99, 99.96, Topo: 99.60, Assm: 97.76, PNorm: 342.73, GNorm: 23.74\n"
     ]
    },
    {
     "name": "stderr",
     "output_type": "stream",
     "text": [
      " 40%|███▉      | 79/200 [02:14<03:43,  1.85s/it]"
     ]
    },
    {
     "name": "stdout",
     "output_type": "stream",
     "text": [
      "[12100] Beta: 0.000, KL: 420.23, loss: 3.520, Word: 93.80, 99.96, Topo: 99.56, Assm: 97.26, PNorm: 343.02, GNorm: 16.82\n"
     ]
    },
    {
     "name": "stderr",
     "output_type": "stream",
     "text": [
      " 64%|██████▍   | 129/200 [03:40<01:53,  1.59s/it]"
     ]
    },
    {
     "name": "stdout",
     "output_type": "stream",
     "text": [
      "[12150] Beta: 0.000, KL: 407.80, loss: 3.459, Word: 94.02, 99.94, Topo: 99.65, Assm: 96.84, PNorm: 343.33, GNorm: 18.01\n"
     ]
    },
    {
     "name": "stderr",
     "output_type": "stream",
     "text": [
      " 90%|████████▉ | 179/200 [05:04<00:35,  1.69s/it]"
     ]
    },
    {
     "name": "stdout",
     "output_type": "stream",
     "text": [
      "[12200] Beta: 0.000, KL: 416.16, loss: 3.516, Word: 93.81, 99.94, Topo: 99.63, Assm: 97.40, PNorm: 343.64, GNorm: 16.29\n"
     ]
    },
    {
     "name": "stderr",
     "output_type": "stream",
     "text": [
      "229it [06:29,  1.69s/it]                         "
     ]
    },
    {
     "name": "stdout",
     "output_type": "stream",
     "text": [
      "[12250] Beta: 0.000, KL: 415.82, loss: 3.712, Word: 93.49, 99.95, Topo: 99.63, Assm: 97.20, PNorm: 343.95, GNorm: 19.62\n"
     ]
    },
    {
     "name": "stderr",
     "output_type": "stream",
     "text": [
      "245it [06:57,  1.70s/it]\n",
      " 17%|█▋        | 34/200 [00:57<04:31,  1.63s/it]"
     ]
    },
    {
     "name": "stdout",
     "output_type": "stream",
     "text": [
      "[12300] Beta: 0.000, KL: 419.41, loss: 3.573, Word: 93.83, 99.94, Topo: 99.55, Assm: 97.37, PNorm: 344.29, GNorm: 18.44\n"
     ]
    },
    {
     "name": "stderr",
     "output_type": "stream",
     "text": [
      " 42%|████▏     | 84/200 [02:23<03:21,  1.73s/it]"
     ]
    },
    {
     "name": "stdout",
     "output_type": "stream",
     "text": [
      "[12350] Beta: 0.000, KL: 418.09, loss: 3.288, Word: 94.10, 99.97, Topo: 99.65, Assm: 97.68, PNorm: 344.56, GNorm: 19.69\n"
     ]
    },
    {
     "name": "stderr",
     "output_type": "stream",
     "text": [
      " 67%|██████▋   | 134/200 [03:49<01:51,  1.68s/it]"
     ]
    },
    {
     "name": "stdout",
     "output_type": "stream",
     "text": [
      "[12400] Beta: 0.000, KL: 426.36, loss: 3.388, Word: 94.13, 99.93, Topo: 99.61, Assm: 97.42, PNorm: 344.84, GNorm: 18.02\n"
     ]
    },
    {
     "name": "stderr",
     "output_type": "stream",
     "text": [
      " 92%|█████████▏| 184/200 [05:15<00:34,  2.18s/it]"
     ]
    },
    {
     "name": "stdout",
     "output_type": "stream",
     "text": [
      "[12450] Beta: 0.000, KL: 424.85, loss: 3.363, Word: 94.18, 99.95, Topo: 99.60, Assm: 97.86, PNorm: 345.11, GNorm: 31.12\n"
     ]
    },
    {
     "name": "stderr",
     "output_type": "stream",
     "text": [
      "234it [06:41,  1.69s/it]                         "
     ]
    },
    {
     "name": "stdout",
     "output_type": "stream",
     "text": [
      "[12500] Beta: 0.000, KL: 425.81, loss: 3.523, Word: 93.71, 99.95, Topo: 99.61, Assm: 98.01, PNorm: 345.40, GNorm: 15.96\n"
     ]
    },
    {
     "name": "stderr",
     "output_type": "stream",
     "text": [
      "245it [06:59,  1.71s/it]\n",
      " 20%|█▉        | 39/200 [01:05<04:31,  1.69s/it]"
     ]
    },
    {
     "name": "stdout",
     "output_type": "stream",
     "text": [
      "[12550] Beta: 0.000, KL: 421.97, loss: 3.311, Word: 94.18, 99.95, Topo: 99.60, Assm: 97.84, PNorm: 345.68, GNorm: 16.95\n"
     ]
    },
    {
     "name": "stderr",
     "output_type": "stream",
     "text": [
      " 44%|████▍     | 89/200 [02:31<03:04,  1.66s/it]"
     ]
    },
    {
     "name": "stdout",
     "output_type": "stream",
     "text": [
      "[12600] Beta: 0.000, KL: 431.15, loss: 3.139, Word: 94.35, 99.94, Topo: 99.67, Assm: 97.85, PNorm: 345.95, GNorm: 17.78\n"
     ]
    },
    {
     "name": "stderr",
     "output_type": "stream",
     "text": [
      " 70%|██████▉   | 139/200 [03:58<01:53,  1.85s/it]"
     ]
    },
    {
     "name": "stdout",
     "output_type": "stream",
     "text": [
      "[12650] Beta: 0.000, KL: 425.90, loss: 3.369, Word: 94.26, 99.92, Topo: 99.54, Assm: 97.44, PNorm: 346.23, GNorm: 20.54\n"
     ]
    },
    {
     "name": "stderr",
     "output_type": "stream",
     "text": [
      " 94%|█████████▍| 189/200 [05:22<00:19,  1.79s/it]"
     ]
    },
    {
     "name": "stdout",
     "output_type": "stream",
     "text": [
      "[12700] Beta: 0.000, KL: 426.90, loss: 3.466, Word: 93.78, 99.94, Topo: 99.59, Assm: 97.83, PNorm: 346.51, GNorm: 29.92\n"
     ]
    },
    {
     "name": "stderr",
     "output_type": "stream",
     "text": [
      "239it [06:48,  1.74s/it]                         "
     ]
    },
    {
     "name": "stdout",
     "output_type": "stream",
     "text": [
      "[12750] Beta: 0.000, KL: 420.55, loss: 3.436, Word: 93.84, 99.94, Topo: 99.64, Assm: 97.68, PNorm: 346.82, GNorm: 18.01\n"
     ]
    },
    {
     "name": "stderr",
     "output_type": "stream",
     "text": [
      "245it [06:58,  1.71s/it]\n",
      " 22%|██▏       | 44/200 [01:13<04:32,  1.75s/it]"
     ]
    },
    {
     "name": "stdout",
     "output_type": "stream",
     "text": [
      "[12800] Beta: 0.000, KL: 429.07, loss: 3.025, Word: 94.74, 99.93, Topo: 99.65, Assm: 98.09, PNorm: 347.09, GNorm: 22.22\n"
     ]
    },
    {
     "name": "stderr",
     "output_type": "stream",
     "text": [
      " 47%|████▋     | 94/200 [02:41<02:59,  1.70s/it]"
     ]
    },
    {
     "name": "stdout",
     "output_type": "stream",
     "text": [
      "[12850] Beta: 0.000, KL: 424.28, loss: 3.333, Word: 94.01, 99.96, Topo: 99.65, Assm: 97.80, PNorm: 347.37, GNorm: 17.62\n"
     ]
    },
    {
     "name": "stderr",
     "output_type": "stream",
     "text": [
      " 72%|███████▏  | 144/200 [04:06<01:37,  1.74s/it]"
     ]
    },
    {
     "name": "stdout",
     "output_type": "stream",
     "text": [
      "[12900] Beta: 0.000, KL: 424.93, loss: 3.161, Word: 94.39, 99.96, Topo: 99.62, Assm: 97.74, PNorm: 347.66, GNorm: 19.45\n"
     ]
    },
    {
     "name": "stderr",
     "output_type": "stream",
     "text": [
      " 97%|█████████▋| 194/200 [05:31<00:10,  1.80s/it]"
     ]
    },
    {
     "name": "stdout",
     "output_type": "stream",
     "text": [
      "[12950] Beta: 0.000, KL: 426.36, loss: 3.250, Word: 94.28, 99.93, Topo: 99.61, Assm: 97.60, PNorm: 347.96, GNorm: 21.95\n"
     ]
    },
    {
     "name": "stderr",
     "output_type": "stream",
     "text": [
      "244it [06:56,  1.64s/it]                         "
     ]
    },
    {
     "name": "stdout",
     "output_type": "stream",
     "text": [
      "[13000] Beta: 0.000, KL: 431.61, loss: 3.071, Word: 94.57, 99.96, Topo: 99.71, Assm: 98.41, PNorm: 348.24, GNorm: 21.13\n"
     ]
    },
    {
     "name": "stderr",
     "output_type": "stream",
     "text": [
      "245it [06:58,  1.71s/it]\n",
      " 24%|██▍       | 49/200 [01:24<04:13,  1.68s/it]"
     ]
    },
    {
     "name": "stdout",
     "output_type": "stream",
     "text": [
      "[13050] Beta: 0.000, KL: 429.89, loss: 2.835, Word: 95.21, 99.97, Topo: 99.66, Assm: 98.22, PNorm: 348.47, GNorm: 15.63\n"
     ]
    },
    {
     "name": "stderr",
     "output_type": "stream",
     "text": [
      " 50%|████▉     | 99/200 [02:49<03:00,  1.79s/it]"
     ]
    },
    {
     "name": "stdout",
     "output_type": "stream",
     "text": [
      "[13100] Beta: 0.000, KL: 437.98, loss: 2.814, Word: 94.80, 99.97, Topo: 99.65, Assm: 98.23, PNorm: 348.71, GNorm: 23.19\n"
     ]
    },
    {
     "name": "stderr",
     "output_type": "stream",
     "text": [
      " 74%|███████▍  | 149/200 [04:15<01:23,  1.63s/it]"
     ]
    },
    {
     "name": "stdout",
     "output_type": "stream",
     "text": [
      "[13150] Beta: 0.000, KL: 437.58, loss: 3.076, Word: 94.73, 99.95, Topo: 99.57, Assm: 97.83, PNorm: 348.99, GNorm: 21.47\n"
     ]
    },
    {
     "name": "stderr",
     "output_type": "stream",
     "text": [
      "100%|█████████▉| 199/200 [05:38<00:01,  1.59s/it]"
     ]
    },
    {
     "name": "stdout",
     "output_type": "stream",
     "text": [
      "[13200] Beta: 0.000, KL: 435.00, loss: 3.003, Word: 94.68, 99.97, Topo: 99.64, Assm: 97.92, PNorm: 349.27, GNorm: 22.45\n"
     ]
    },
    {
     "name": "stderr",
     "output_type": "stream",
     "text": [
      "245it [06:57,  1.71s/it]                         \n",
      "  2%|▏         | 4/200 [00:06<05:20,  1.64s/it]"
     ]
    },
    {
     "name": "stdout",
     "output_type": "stream",
     "text": [
      "[13250] Beta: 0.000, KL: 431.95, loss: 2.963, Word: 94.85, 99.97, Topo: 99.66, Assm: 98.07, PNorm: 349.56, GNorm: 22.65\n"
     ]
    },
    {
     "name": "stderr",
     "output_type": "stream",
     "text": [
      " 27%|██▋       | 54/200 [01:31<03:59,  1.64s/it]"
     ]
    },
    {
     "name": "stdout",
     "output_type": "stream",
     "text": [
      "[13300] Beta: 0.000, KL: 432.31, loss: 3.112, Word: 94.83, 99.96, Topo: 99.64, Assm: 97.41, PNorm: 349.86, GNorm: 23.31\n"
     ]
    },
    {
     "name": "stderr",
     "output_type": "stream",
     "text": [
      " 52%|█████▏    | 104/200 [02:57<02:47,  1.75s/it]"
     ]
    },
    {
     "name": "stdout",
     "output_type": "stream",
     "text": [
      "[13350] Beta: 0.000, KL: 426.68, loss: 3.264, Word: 94.39, 99.95, Topo: 99.59, Assm: 97.41, PNorm: 350.16, GNorm: 22.91\n"
     ]
    },
    {
     "name": "stderr",
     "output_type": "stream",
     "text": [
      " 77%|███████▋  | 154/200 [04:21<01:18,  1.70s/it]"
     ]
    },
    {
     "name": "stdout",
     "output_type": "stream",
     "text": [
      "[13400] Beta: 0.000, KL: 425.06, loss: 3.033, Word: 94.75, 99.92, Topo: 99.56, Assm: 97.61, PNorm: 350.45, GNorm: 23.86\n"
     ]
    },
    {
     "name": "stderr",
     "output_type": "stream",
     "text": [
      "204it [05:49,  1.68s/it]                         "
     ]
    },
    {
     "name": "stdout",
     "output_type": "stream",
     "text": [
      "[13450] Beta: 0.000, KL: 431.55, loss: 3.344, Word: 94.32, 99.92, Topo: 99.55, Assm: 97.34, PNorm: 350.74, GNorm: 20.60\n"
     ]
    },
    {
     "name": "stderr",
     "output_type": "stream",
     "text": [
      "245it [06:58,  1.71s/it]\n",
      "  4%|▍         | 9/200 [00:15<05:26,  1.71s/it]"
     ]
    },
    {
     "name": "stdout",
     "output_type": "stream",
     "text": [
      "[13500] Beta: 0.000, KL: 422.40, loss: 3.292, Word: 94.39, 99.89, Topo: 99.65, Assm: 97.56, PNorm: 351.06, GNorm: 24.01\n"
     ]
    },
    {
     "name": "stderr",
     "output_type": "stream",
     "text": [
      " 30%|██▉       | 59/200 [01:39<04:20,  1.85s/it]"
     ]
    },
    {
     "name": "stdout",
     "output_type": "stream",
     "text": [
      "[13550] Beta: 0.000, KL: 430.21, loss: 3.112, Word: 94.79, 99.91, Topo: 99.61, Assm: 97.43, PNorm: 351.34, GNorm: 15.95\n"
     ]
    },
    {
     "name": "stderr",
     "output_type": "stream",
     "text": [
      " 55%|█████▍    | 109/200 [03:06<02:38,  1.74s/it]"
     ]
    },
    {
     "name": "stdout",
     "output_type": "stream",
     "text": [
      "[13600] Beta: 0.000, KL: 438.84, loss: 3.150, Word: 94.53, 99.96, Topo: 99.66, Assm: 97.51, PNorm: 351.63, GNorm: 20.38\n"
     ]
    },
    {
     "name": "stderr",
     "output_type": "stream",
     "text": [
      " 80%|███████▉  | 159/200 [04:30<01:06,  1.61s/it]"
     ]
    },
    {
     "name": "stdout",
     "output_type": "stream",
     "text": [
      "[13650] Beta: 0.000, KL: 428.49, loss: 3.158, Word: 94.48, 99.92, Topo: 99.59, Assm: 97.75, PNorm: 351.91, GNorm: 20.02\n"
     ]
    },
    {
     "name": "stderr",
     "output_type": "stream",
     "text": [
      "209it [05:56,  1.86s/it]                         "
     ]
    },
    {
     "name": "stdout",
     "output_type": "stream",
     "text": [
      "[13700] Beta: 0.000, KL: 436.55, loss: 2.950, Word: 94.82, 99.96, Topo: 99.65, Assm: 98.13, PNorm: 352.19, GNorm: 19.27\n"
     ]
    },
    {
     "name": "stderr",
     "output_type": "stream",
     "text": [
      "245it [06:57,  1.70s/it]\n",
      "  7%|▋         | 14/200 [00:23<05:09,  1.66s/it]"
     ]
    },
    {
     "name": "stdout",
     "output_type": "stream",
     "text": [
      "[13750] Beta: 0.000, KL: 432.69, loss: 3.158, Word: 94.50, 99.94, Topo: 99.55, Assm: 97.87, PNorm: 352.47, GNorm: 21.25\n"
     ]
    },
    {
     "name": "stderr",
     "output_type": "stream",
     "text": [
      " 32%|███▏      | 64/200 [01:48<04:00,  1.77s/it]"
     ]
    },
    {
     "name": "stdout",
     "output_type": "stream",
     "text": [
      "[13800] Beta: 0.000, KL: 430.50, loss: 2.878, Word: 95.18, 99.96, Topo: 99.65, Assm: 98.02, PNorm: 352.73, GNorm: 20.68\n"
     ]
    },
    {
     "name": "stderr",
     "output_type": "stream",
     "text": [
      " 57%|█████▋    | 114/200 [03:13<02:26,  1.71s/it]"
     ]
    },
    {
     "name": "stdout",
     "output_type": "stream",
     "text": [
      "[13850] Beta: 0.000, KL: 428.93, loss: 2.796, Word: 94.99, 99.97, Topo: 99.66, Assm: 97.79, PNorm: 353.00, GNorm: 21.70\n"
     ]
    },
    {
     "name": "stderr",
     "output_type": "stream",
     "text": [
      " 82%|████████▏ | 164/200 [04:37<01:00,  1.68s/it]"
     ]
    },
    {
     "name": "stdout",
     "output_type": "stream",
     "text": [
      "[13900] Beta: 0.000, KL: 425.75, loss: 3.016, Word: 94.52, 99.93, Topo: 99.70, Assm: 97.71, PNorm: 353.27, GNorm: 24.57\n"
     ]
    },
    {
     "name": "stderr",
     "output_type": "stream",
     "text": [
      "214it [06:05,  1.81s/it]                         "
     ]
    },
    {
     "name": "stdout",
     "output_type": "stream",
     "text": [
      "[13950] Beta: 0.000, KL: 432.16, loss: 3.091, Word: 94.75, 99.92, Topo: 99.62, Assm: 97.43, PNorm: 353.55, GNorm: 18.18\n"
     ]
    },
    {
     "name": "stderr",
     "output_type": "stream",
     "text": [
      "245it [06:58,  1.71s/it]\n",
      " 10%|▉         | 19/200 [00:32<05:31,  1.83s/it]"
     ]
    },
    {
     "name": "stdout",
     "output_type": "stream",
     "text": [
      "[14000] Beta: 0.000, KL: 433.36, loss: 2.742, Word: 95.23, 99.96, Topo: 99.62, Assm: 98.36, PNorm: 353.81, GNorm: 22.52\n"
     ]
    },
    {
     "name": "stderr",
     "output_type": "stream",
     "text": [
      " 34%|███▍      | 69/200 [01:58<03:35,  1.64s/it]"
     ]
    },
    {
     "name": "stdout",
     "output_type": "stream",
     "text": [
      "[14050] Beta: 0.000, KL: 432.58, loss: 2.794, Word: 95.30, 99.94, Topo: 99.67, Assm: 98.74, PNorm: 354.06, GNorm: 19.62\n"
     ]
    },
    {
     "name": "stderr",
     "output_type": "stream",
     "text": [
      " 60%|█████▉    | 119/200 [03:24<02:19,  1.72s/it]"
     ]
    },
    {
     "name": "stdout",
     "output_type": "stream",
     "text": [
      "[14100] Beta: 0.000, KL: 434.10, loss: 2.511, Word: 95.65, 99.98, Topo: 99.72, Assm: 98.65, PNorm: 354.30, GNorm: 19.18\n"
     ]
    },
    {
     "name": "stderr",
     "output_type": "stream",
     "text": [
      " 84%|████████▍ | 169/200 [04:50<00:50,  1.63s/it]"
     ]
    },
    {
     "name": "stdout",
     "output_type": "stream",
     "text": [
      "[14150] Beta: 0.000, KL: 432.54, loss: 2.619, Word: 95.40, 99.96, Topo: 99.65, Assm: 98.19, PNorm: 354.54, GNorm: 18.61\n"
     ]
    },
    {
     "name": "stderr",
     "output_type": "stream",
     "text": [
      "219it [06:17,  1.76s/it]                         "
     ]
    },
    {
     "name": "stdout",
     "output_type": "stream",
     "text": [
      "[14200] Beta: 0.000, KL: 441.39, loss: 2.475, Word: 95.68, 99.95, Topo: 99.70, Assm: 98.48, PNorm: 354.78, GNorm: 14.72\n"
     ]
    },
    {
     "name": "stderr",
     "output_type": "stream",
     "text": [
      "245it [07:00,  1.72s/it]\n",
      " 12%|█▏        | 24/200 [00:42<04:57,  1.69s/it]"
     ]
    },
    {
     "name": "stdout",
     "output_type": "stream",
     "text": [
      "[14250] Beta: 0.000, KL: 442.91, loss: 2.312, Word: 96.31, 99.96, Topo: 99.66, Assm: 98.34, PNorm: 354.98, GNorm: 16.44\n"
     ]
    },
    {
     "name": "stderr",
     "output_type": "stream",
     "text": [
      " 37%|███▋      | 74/200 [02:06<03:35,  1.71s/it]"
     ]
    },
    {
     "name": "stdout",
     "output_type": "stream",
     "text": [
      "[14300] Beta: 0.000, KL: 444.86, loss: 2.057, Word: 96.78, 99.97, Topo: 99.73, Assm: 98.77, PNorm: 355.17, GNorm: 15.70\n"
     ]
    },
    {
     "name": "stderr",
     "output_type": "stream",
     "text": [
      " 62%|██████▏   | 124/200 [03:33<02:22,  1.88s/it]"
     ]
    },
    {
     "name": "stdout",
     "output_type": "stream",
     "text": [
      "[14350] Beta: 0.000, KL: 438.27, loss: 2.220, Word: 96.21, 99.97, Topo: 99.74, Assm: 98.56, PNorm: 355.37, GNorm: 18.76\n"
     ]
    },
    {
     "name": "stderr",
     "output_type": "stream",
     "text": [
      " 87%|████████▋ | 174/200 [04:55<00:40,  1.56s/it]"
     ]
    },
    {
     "name": "stdout",
     "output_type": "stream",
     "text": [
      "[14400] Beta: 0.000, KL: 436.91, loss: 2.307, Word: 96.17, 99.94, Topo: 99.68, Assm: 98.87, PNorm: 355.59, GNorm: 18.76\n"
     ]
    },
    {
     "name": "stderr",
     "output_type": "stream",
     "text": [
      "224it [06:21,  1.75s/it]                         "
     ]
    },
    {
     "name": "stdout",
     "output_type": "stream",
     "text": [
      "[14450] Beta: 0.000, KL: 439.40, loss: 2.641, Word: 95.54, 99.94, Topo: 99.61, Assm: 98.31, PNorm: 355.84, GNorm: 17.31\n"
     ]
    },
    {
     "name": "stderr",
     "output_type": "stream",
     "text": [
      "245it [06:58,  1.71s/it]\n",
      " 14%|█▍        | 29/200 [00:49<04:55,  1.73s/it]"
     ]
    },
    {
     "name": "stdout",
     "output_type": "stream",
     "text": [
      "[14500] Beta: 0.000, KL: 441.72, loss: 2.429, Word: 96.15, 99.94, Topo: 99.66, Assm: 98.76, PNorm: 356.07, GNorm: 14.73\n"
     ]
    },
    {
     "name": "stderr",
     "output_type": "stream",
     "text": [
      " 40%|███▉      | 79/200 [02:15<03:27,  1.72s/it]"
     ]
    },
    {
     "name": "stdout",
     "output_type": "stream",
     "text": [
      "[14550] Beta: 0.000, KL: 451.33, loss: 2.416, Word: 95.89, 99.95, Topo: 99.69, Assm: 98.96, PNorm: 356.30, GNorm: 14.74\n"
     ]
    },
    {
     "name": "stderr",
     "output_type": "stream",
     "text": [
      " 64%|██████▍   | 129/200 [03:40<01:55,  1.63s/it]"
     ]
    },
    {
     "name": "stdout",
     "output_type": "stream",
     "text": [
      "[14600] Beta: 0.000, KL: 446.94, loss: 2.299, Word: 96.21, 99.94, Topo: 99.70, Assm: 98.35, PNorm: 356.53, GNorm: 21.22\n"
     ]
    },
    {
     "name": "stderr",
     "output_type": "stream",
     "text": [
      " 90%|████████▉ | 179/200 [05:05<00:34,  1.64s/it]"
     ]
    },
    {
     "name": "stdout",
     "output_type": "stream",
     "text": [
      "[14650] Beta: 0.000, KL: 441.14, loss: 2.565, Word: 95.79, 99.92, Topo: 99.61, Assm: 98.58, PNorm: 356.81, GNorm: 21.09\n"
     ]
    },
    {
     "name": "stderr",
     "output_type": "stream",
     "text": [
      "229it [06:30,  1.63s/it]                         "
     ]
    },
    {
     "name": "stdout",
     "output_type": "stream",
     "text": [
      "[14700] Beta: 0.000, KL: 442.82, loss: 2.632, Word: 95.46, 99.94, Topo: 99.66, Assm: 98.24, PNorm: 357.08, GNorm: 17.61\n"
     ]
    },
    {
     "name": "stderr",
     "output_type": "stream",
     "text": [
      "245it [06:58,  1.71s/it]\n",
      " 17%|█▋        | 34/200 [00:57<05:01,  1.82s/it]"
     ]
    },
    {
     "name": "stdout",
     "output_type": "stream",
     "text": [
      "[14750] Beta: 0.000, KL: 436.99, loss: 2.413, Word: 95.86, 99.94, Topo: 99.74, Assm: 98.75, PNorm: 357.32, GNorm: 13.58\n"
     ]
    },
    {
     "name": "stderr",
     "output_type": "stream",
     "text": [
      " 42%|████▏     | 84/200 [02:23<03:19,  1.72s/it]"
     ]
    },
    {
     "name": "stdout",
     "output_type": "stream",
     "text": [
      "[14800] Beta: 0.000, KL: 438.73, loss: 2.358, Word: 95.85, 99.91, Topo: 99.77, Assm: 98.44, PNorm: 357.55, GNorm: 21.81\n"
     ]
    },
    {
     "name": "stderr",
     "output_type": "stream",
     "text": [
      " 67%|██████▋   | 134/200 [03:49<01:52,  1.70s/it]"
     ]
    },
    {
     "name": "stdout",
     "output_type": "stream",
     "text": [
      "[14850] Beta: 0.000, KL: 434.52, loss: 2.535, Word: 95.52, 99.96, Topo: 99.77, Assm: 98.31, PNorm: 357.77, GNorm: 23.03\n"
     ]
    },
    {
     "name": "stderr",
     "output_type": "stream",
     "text": [
      " 92%|█████████▏| 184/200 [05:14<00:31,  1.96s/it]"
     ]
    },
    {
     "name": "stdout",
     "output_type": "stream",
     "text": [
      "[14900] Beta: 0.000, KL: 440.59, loss: 2.689, Word: 95.67, 99.94, Topo: 99.59, Assm: 98.42, PNorm: 358.03, GNorm: 30.97\n"
     ]
    },
    {
     "name": "stderr",
     "output_type": "stream",
     "text": [
      "234it [06:39,  1.88s/it]                         "
     ]
    },
    {
     "name": "stdout",
     "output_type": "stream",
     "text": [
      "[14950] Beta: 0.000, KL: 440.91, loss: 2.672, Word: 95.43, 99.95, Topo: 99.63, Assm: 97.77, PNorm: 358.31, GNorm: 20.55\n"
     ]
    },
    {
     "name": "stderr",
     "output_type": "stream",
     "text": [
      "245it [06:58,  1.71s/it]\n",
      " 20%|█▉        | 39/200 [01:07<04:45,  1.77s/it]"
     ]
    },
    {
     "name": "stdout",
     "output_type": "stream",
     "text": [
      "[15000] Beta: 0.000, KL: 438.92, loss: 2.465, Word: 95.85, 99.96, Topo: 99.69, Assm: 98.27, PNorm: 358.56, GNorm: 18.61\n"
     ]
    },
    {
     "name": "stderr",
     "output_type": "stream",
     "text": [
      " 44%|████▍     | 89/200 [02:30<03:07,  1.69s/it]"
     ]
    },
    {
     "name": "stdout",
     "output_type": "stream",
     "text": [
      "[15050] Beta: 0.000, KL: 440.08, loss: 2.543, Word: 95.51, 99.96, Topo: 99.69, Assm: 97.78, PNorm: 358.81, GNorm: 23.33\n"
     ]
    },
    {
     "name": "stderr",
     "output_type": "stream",
     "text": [
      " 70%|██████▉   | 139/200 [03:59<01:45,  1.72s/it]"
     ]
    },
    {
     "name": "stdout",
     "output_type": "stream",
     "text": [
      "[15100] Beta: 0.000, KL: 446.77, loss: 2.610, Word: 95.51, 99.97, Topo: 99.66, Assm: 97.74, PNorm: 359.11, GNorm: 22.35\n"
     ]
    },
    {
     "name": "stderr",
     "output_type": "stream",
     "text": [
      " 94%|█████████▍| 189/200 [05:22<00:18,  1.69s/it]"
     ]
    },
    {
     "name": "stdout",
     "output_type": "stream",
     "text": [
      "[15150] Beta: 0.000, KL: 455.30, loss: 2.521, Word: 95.50, 99.97, Topo: 99.68, Assm: 98.40, PNorm: 359.35, GNorm: 26.40\n"
     ]
    },
    {
     "name": "stderr",
     "output_type": "stream",
     "text": [
      "239it [06:48,  1.65s/it]                         "
     ]
    },
    {
     "name": "stdout",
     "output_type": "stream",
     "text": [
      "[15200] Beta: 0.000, KL: 456.84, loss: 2.826, Word: 94.96, 99.96, Topo: 99.72, Assm: 98.19, PNorm: 359.62, GNorm: 22.83\n"
     ]
    },
    {
     "name": "stderr",
     "output_type": "stream",
     "text": [
      "245it [06:58,  1.71s/it]\n",
      " 22%|██▏       | 44/200 [01:14<04:08,  1.59s/it]"
     ]
    },
    {
     "name": "stdout",
     "output_type": "stream",
     "text": [
      "[15250] Beta: 0.000, KL: 448.30, loss: 2.719, Word: 95.50, 99.94, Topo: 99.61, Assm: 98.08, PNorm: 359.89, GNorm: 16.97\n"
     ]
    },
    {
     "name": "stderr",
     "output_type": "stream",
     "text": [
      " 47%|████▋     | 94/200 [02:41<02:56,  1.66s/it]"
     ]
    },
    {
     "name": "stdout",
     "output_type": "stream",
     "text": [
      "[15300] Beta: 0.000, KL: 439.49, loss: 2.587, Word: 95.52, 99.95, Topo: 99.72, Assm: 98.45, PNorm: 360.14, GNorm: 14.48\n"
     ]
    },
    {
     "name": "stderr",
     "output_type": "stream",
     "text": [
      " 72%|███████▏  | 144/200 [04:06<01:29,  1.60s/it]"
     ]
    },
    {
     "name": "stdout",
     "output_type": "stream",
     "text": [
      "[15350] Beta: 0.000, KL: 442.82, loss: 2.547, Word: 95.61, 99.95, Topo: 99.67, Assm: 98.49, PNorm: 360.37, GNorm: 13.65\n"
     ]
    },
    {
     "name": "stderr",
     "output_type": "stream",
     "text": [
      " 97%|█████████▋| 194/200 [05:30<00:09,  1.66s/it]"
     ]
    },
    {
     "name": "stdout",
     "output_type": "stream",
     "text": [
      "[15400] Beta: 0.000, KL: 439.92, loss: 2.478, Word: 95.55, 99.96, Topo: 99.67, Assm: 98.19, PNorm: 360.61, GNorm: 21.34\n"
     ]
    },
    {
     "name": "stderr",
     "output_type": "stream",
     "text": [
      "244it [06:56,  1.72s/it]                         "
     ]
    },
    {
     "name": "stdout",
     "output_type": "stream",
     "text": [
      "[15450] Beta: 0.000, KL: 440.12, loss: 2.409, Word: 95.79, 99.96, Topo: 99.73, Assm: 98.74, PNorm: 360.85, GNorm: 17.11\n"
     ]
    },
    {
     "name": "stderr",
     "output_type": "stream",
     "text": [
      "245it [06:58,  1.71s/it]\n",
      " 24%|██▍       | 49/200 [01:24<04:15,  1.69s/it]"
     ]
    },
    {
     "name": "stdout",
     "output_type": "stream",
     "text": [
      "[15500] Beta: 0.000, KL: 434.78, loss: 2.388, Word: 95.89, 99.96, Topo: 99.72, Assm: 98.18, PNorm: 361.10, GNorm: 16.73\n"
     ]
    },
    {
     "name": "stderr",
     "output_type": "stream",
     "text": [
      " 50%|████▉     | 99/200 [02:50<02:47,  1.65s/it]"
     ]
    },
    {
     "name": "stdout",
     "output_type": "stream",
     "text": [
      "[15550] Beta: 0.000, KL: 431.51, loss: 2.341, Word: 95.99, 99.95, Topo: 99.68, Assm: 98.22, PNorm: 361.35, GNorm: 18.69\n"
     ]
    },
    {
     "name": "stderr",
     "output_type": "stream",
     "text": [
      " 74%|███████▍  | 149/200 [04:15<01:35,  1.87s/it]"
     ]
    },
    {
     "name": "stdout",
     "output_type": "stream",
     "text": [
      "[15600] Beta: 0.000, KL: 445.13, loss: 2.315, Word: 95.90, 99.95, Topo: 99.74, Assm: 98.25, PNorm: 361.60, GNorm: 21.85\n"
     ]
    },
    {
     "name": "stderr",
     "output_type": "stream",
     "text": [
      "100%|█████████▉| 199/200 [05:39<00:01,  1.64s/it]"
     ]
    },
    {
     "name": "stdout",
     "output_type": "stream",
     "text": [
      "[15650] Beta: 0.000, KL: 457.98, loss: 2.221, Word: 96.14, 99.97, Topo: 99.75, Assm: 98.60, PNorm: 361.80, GNorm: 17.82\n"
     ]
    },
    {
     "name": "stderr",
     "output_type": "stream",
     "text": [
      "245it [06:59,  1.71s/it]                         \n",
      "  2%|▏         | 4/200 [00:07<05:41,  1.74s/it]"
     ]
    },
    {
     "name": "stdout",
     "output_type": "stream",
     "text": [
      "[15700] Beta: 0.000, KL: 456.44, loss: 2.256, Word: 96.18, 99.94, Topo: 99.71, Assm: 98.51, PNorm: 362.02, GNorm: 23.92\n"
     ]
    },
    {
     "name": "stderr",
     "output_type": "stream",
     "text": [
      " 27%|██▋       | 54/200 [01:31<04:07,  1.70s/it]"
     ]
    },
    {
     "name": "stdout",
     "output_type": "stream",
     "text": [
      "[15750] Beta: 0.000, KL: 453.38, loss: 2.221, Word: 96.11, 99.96, Topo: 99.71, Assm: 98.33, PNorm: 362.26, GNorm: 17.66\n"
     ]
    },
    {
     "name": "stderr",
     "output_type": "stream",
     "text": [
      " 52%|█████▏    | 104/200 [02:56<02:38,  1.65s/it]"
     ]
    },
    {
     "name": "stdout",
     "output_type": "stream",
     "text": [
      "[15800] Beta: 0.000, KL: 455.76, loss: 2.155, Word: 96.22, 99.93, Topo: 99.76, Assm: 98.61, PNorm: 362.48, GNorm: 17.58\n"
     ]
    },
    {
     "name": "stderr",
     "output_type": "stream",
     "text": [
      " 77%|███████▋  | 154/200 [04:21<01:15,  1.63s/it]"
     ]
    },
    {
     "name": "stdout",
     "output_type": "stream",
     "text": [
      "[15850] Beta: 0.000, KL: 457.18, loss: 2.066, Word: 96.45, 99.97, Topo: 99.69, Assm: 98.47, PNorm: 362.68, GNorm: 17.84\n"
     ]
    },
    {
     "name": "stderr",
     "output_type": "stream",
     "text": [
      "204it [05:47,  1.82s/it]                         "
     ]
    },
    {
     "name": "stdout",
     "output_type": "stream",
     "text": [
      "[15900] Beta: 0.000, KL: 460.85, loss: 2.164, Word: 96.26, 99.96, Topo: 99.75, Assm: 98.54, PNorm: 362.89, GNorm: 20.73\n"
     ]
    },
    {
     "name": "stderr",
     "output_type": "stream",
     "text": [
      "245it [06:57,  1.70s/it]\n",
      "  4%|▍         | 9/200 [00:16<05:14,  1.65s/it]"
     ]
    },
    {
     "name": "stdout",
     "output_type": "stream",
     "text": [
      "[15950] Beta: 0.000, KL: 460.85, loss: 2.166, Word: 96.22, 99.96, Topo: 99.71, Assm: 98.71, PNorm: 363.10, GNorm: 18.58\n"
     ]
    },
    {
     "name": "stderr",
     "output_type": "stream",
     "text": [
      " 30%|██▉       | 59/200 [01:39<03:58,  1.69s/it]"
     ]
    },
    {
     "name": "stdout",
     "output_type": "stream",
     "text": [
      "[16000] Beta: 0.000, KL: 459.73, loss: 2.058, Word: 96.39, 99.96, Topo: 99.76, Assm: 98.67, PNorm: 363.34, GNorm: 21.96\n"
     ]
    },
    {
     "name": "stderr",
     "output_type": "stream",
     "text": [
      " 55%|█████▍    | 109/200 [03:06<02:57,  1.95s/it]"
     ]
    },
    {
     "name": "stdout",
     "output_type": "stream",
     "text": [
      "[16050] Beta: 0.000, KL: 458.93, loss: 2.169, Word: 96.21, 99.94, Topo: 99.77, Assm: 98.35, PNorm: 363.56, GNorm: 17.33\n"
     ]
    },
    {
     "name": "stderr",
     "output_type": "stream",
     "text": [
      " 80%|███████▉  | 159/200 [04:31<01:06,  1.61s/it]"
     ]
    },
    {
     "name": "stdout",
     "output_type": "stream",
     "text": [
      "[16100] Beta: 0.000, KL: 456.59, loss: 2.250, Word: 96.25, 99.91, Topo: 99.76, Assm: 98.29, PNorm: 363.80, GNorm: 18.77\n"
     ]
    },
    {
     "name": "stderr",
     "output_type": "stream",
     "text": [
      "209it [06:00,  1.89s/it]                         "
     ]
    },
    {
     "name": "stdout",
     "output_type": "stream",
     "text": [
      "[16150] Beta: 0.000, KL: 453.40, loss: 2.565, Word: 95.53, 99.95, Topo: 99.69, Assm: 97.90, PNorm: 364.05, GNorm: 15.99\n"
     ]
    },
    {
     "name": "stderr",
     "output_type": "stream",
     "text": [
      "245it [06:59,  1.71s/it]\n",
      "  7%|▋         | 14/200 [00:24<05:07,  1.66s/it]"
     ]
    },
    {
     "name": "stdout",
     "output_type": "stream",
     "text": [
      "[16200] Beta: 0.000, KL: 437.71, loss: 2.399, Word: 95.97, 99.93, Topo: 99.69, Assm: 98.39, PNorm: 364.31, GNorm: 20.91\n"
     ]
    },
    {
     "name": "stderr",
     "output_type": "stream",
     "text": [
      " 32%|███▏      | 64/200 [01:49<03:48,  1.68s/it]"
     ]
    },
    {
     "name": "stdout",
     "output_type": "stream",
     "text": [
      "[16250] Beta: 0.000, KL: 445.23, loss: 2.326, Word: 96.17, 99.94, Topo: 99.63, Assm: 98.39, PNorm: 364.56, GNorm: 18.29\n"
     ]
    },
    {
     "name": "stderr",
     "output_type": "stream",
     "text": [
      " 57%|█████▋    | 114/200 [03:16<02:30,  1.75s/it]"
     ]
    },
    {
     "name": "stdout",
     "output_type": "stream",
     "text": [
      "[16300] Beta: 0.000, KL: 450.47, loss: 2.374, Word: 96.19, 99.94, Topo: 99.57, Assm: 98.36, PNorm: 364.83, GNorm: 22.61\n"
     ]
    },
    {
     "name": "stderr",
     "output_type": "stream",
     "text": [
      " 82%|████████▏ | 164/200 [04:41<00:55,  1.55s/it]"
     ]
    },
    {
     "name": "stdout",
     "output_type": "stream",
     "text": [
      "[16350] Beta: 0.000, KL: 444.08, loss: 2.360, Word: 95.98, 99.94, Topo: 99.63, Assm: 98.47, PNorm: 365.09, GNorm: 16.58\n"
     ]
    },
    {
     "name": "stderr",
     "output_type": "stream",
     "text": [
      "214it [06:04,  1.70s/it]                         "
     ]
    },
    {
     "name": "stdout",
     "output_type": "stream",
     "text": [
      "[16400] Beta: 0.000, KL: 445.31, loss: 2.372, Word: 96.27, 99.91, Topo: 99.64, Assm: 98.17, PNorm: 365.35, GNorm: 17.47\n"
     ]
    },
    {
     "name": "stderr",
     "output_type": "stream",
     "text": [
      "245it [06:59,  1.71s/it]\n",
      " 10%|▉         | 19/200 [00:32<04:50,  1.61s/it]"
     ]
    },
    {
     "name": "stdout",
     "output_type": "stream",
     "text": [
      "[16450] Beta: 0.000, KL: 450.66, loss: 2.230, Word: 96.26, 99.94, Topo: 99.71, Assm: 98.46, PNorm: 365.58, GNorm: 15.00\n"
     ]
    },
    {
     "name": "stderr",
     "output_type": "stream",
     "text": [
      " 34%|███▍      | 69/200 [01:57<03:47,  1.73s/it]"
     ]
    },
    {
     "name": "stdout",
     "output_type": "stream",
     "text": [
      "[16500] Beta: 0.000, KL: 453.49, loss: 2.151, Word: 96.21, 99.96, Topo: 99.73, Assm: 98.71, PNorm: 365.80, GNorm: 18.86\n"
     ]
    },
    {
     "name": "stderr",
     "output_type": "stream",
     "text": [
      " 60%|█████▉    | 119/200 [03:24<02:15,  1.68s/it]"
     ]
    },
    {
     "name": "stdout",
     "output_type": "stream",
     "text": [
      "[16550] Beta: 0.000, KL: 449.82, loss: 2.018, Word: 96.76, 99.98, Topo: 99.71, Assm: 98.80, PNorm: 366.01, GNorm: 19.60\n"
     ]
    },
    {
     "name": "stderr",
     "output_type": "stream",
     "text": [
      " 84%|████████▍ | 169/200 [04:49<00:56,  1.83s/it]"
     ]
    },
    {
     "name": "stdout",
     "output_type": "stream",
     "text": [
      "[16600] Beta: 0.000, KL: 441.97, loss: 2.079, Word: 96.45, 99.97, Topo: 99.72, Assm: 98.73, PNorm: 366.22, GNorm: 18.03\n"
     ]
    },
    {
     "name": "stderr",
     "output_type": "stream",
     "text": [
      "219it [06:14,  1.64s/it]                         "
     ]
    },
    {
     "name": "stdout",
     "output_type": "stream",
     "text": [
      "[16650] Beta: 0.000, KL: 445.06, loss: 2.127, Word: 96.35, 99.94, Topo: 99.77, Assm: 98.60, PNorm: 366.43, GNorm: 22.28\n"
     ]
    },
    {
     "name": "stderr",
     "output_type": "stream",
     "text": [
      "245it [06:59,  1.71s/it]\n",
      " 12%|█▏        | 24/200 [00:39<04:37,  1.58s/it]"
     ]
    },
    {
     "name": "stdout",
     "output_type": "stream",
     "text": [
      "[16700] Beta: 0.000, KL: 439.80, loss: 2.229, Word: 96.22, 99.93, Topo: 99.76, Assm: 98.47, PNorm: 366.69, GNorm: 16.53\n"
     ]
    },
    {
     "name": "stderr",
     "output_type": "stream",
     "text": [
      " 37%|███▋      | 74/200 [02:08<03:47,  1.81s/it]"
     ]
    },
    {
     "name": "stdout",
     "output_type": "stream",
     "text": [
      "[16750] Beta: 0.000, KL: 448.42, loss: 2.153, Word: 96.37, 99.98, Topo: 99.70, Assm: 98.72, PNorm: 366.90, GNorm: 18.84\n"
     ]
    },
    {
     "name": "stderr",
     "output_type": "stream",
     "text": [
      " 62%|██████▏   | 124/200 [03:34<02:09,  1.71s/it]"
     ]
    },
    {
     "name": "stdout",
     "output_type": "stream",
     "text": [
      "[16800] Beta: 0.000, KL: 448.07, loss: 2.057, Word: 96.64, 99.96, Topo: 99.70, Assm: 98.29, PNorm: 367.10, GNorm: 23.04\n"
     ]
    },
    {
     "name": "stderr",
     "output_type": "stream",
     "text": [
      " 87%|████████▋ | 174/200 [04:58<00:42,  1.63s/it]"
     ]
    },
    {
     "name": "stdout",
     "output_type": "stream",
     "text": [
      "[16850] Beta: 0.000, KL: 442.73, loss: 2.135, Word: 96.20, 99.97, Topo: 99.73, Assm: 98.35, PNorm: 367.34, GNorm: 18.02\n"
     ]
    },
    {
     "name": "stderr",
     "output_type": "stream",
     "text": [
      "224it [06:24,  1.64s/it]                         "
     ]
    },
    {
     "name": "stdout",
     "output_type": "stream",
     "text": [
      "[16900] Beta: 0.000, KL: 434.98, loss: 2.323, Word: 95.91, 99.98, Topo: 99.74, Assm: 98.26, PNorm: 367.59, GNorm: 14.72\n"
     ]
    },
    {
     "name": "stderr",
     "output_type": "stream",
     "text": [
      "245it [07:00,  1.72s/it]\n",
      " 14%|█▍        | 29/200 [00:51<04:45,  1.67s/it]"
     ]
    },
    {
     "name": "stdout",
     "output_type": "stream",
     "text": [
      "[16950] Beta: 0.000, KL: 444.07, loss: 2.164, Word: 96.48, 99.98, Topo: 99.70, Assm: 98.46, PNorm: 367.81, GNorm: 19.09\n"
     ]
    },
    {
     "name": "stderr",
     "output_type": "stream",
     "text": [
      " 40%|███▉      | 79/200 [02:14<03:28,  1.72s/it]"
     ]
    },
    {
     "name": "stdout",
     "output_type": "stream",
     "text": [
      "[17000] Beta: 0.000, KL: 447.03, loss: 2.059, Word: 96.45, 99.97, Topo: 99.72, Assm: 98.58, PNorm: 368.02, GNorm: 21.00\n"
     ]
    },
    {
     "name": "stderr",
     "output_type": "stream",
     "text": [
      " 64%|██████▍   | 129/200 [03:41<01:57,  1.65s/it]"
     ]
    },
    {
     "name": "stdout",
     "output_type": "stream",
     "text": [
      "[17050] Beta: 0.000, KL: 453.52, loss: 2.020, Word: 96.54, 99.97, Topo: 99.76, Assm: 98.35, PNorm: 368.24, GNorm: 22.19\n"
     ]
    },
    {
     "name": "stderr",
     "output_type": "stream",
     "text": [
      " 90%|████████▉ | 179/200 [05:03<00:33,  1.58s/it]"
     ]
    },
    {
     "name": "stdout",
     "output_type": "stream",
     "text": [
      "[17100] Beta: 0.000, KL: 447.11, loss: 2.059, Word: 96.52, 99.96, Topo: 99.68, Assm: 98.87, PNorm: 368.46, GNorm: 17.13\n"
     ]
    },
    {
     "name": "stderr",
     "output_type": "stream",
     "text": [
      "229it [06:30,  1.75s/it]                         "
     ]
    },
    {
     "name": "stdout",
     "output_type": "stream",
     "text": [
      "[17150] Beta: 0.000, KL: 453.12, loss: 2.144, Word: 96.49, 99.92, Topo: 99.70, Assm: 98.52, PNorm: 368.68, GNorm: 23.23\n"
     ]
    },
    {
     "name": "stderr",
     "output_type": "stream",
     "text": [
      "245it [06:57,  1.71s/it]\n",
      " 17%|█▋        | 34/200 [00:56<04:23,  1.59s/it]"
     ]
    },
    {
     "name": "stdout",
     "output_type": "stream",
     "text": [
      "[17200] Beta: 0.000, KL: 451.31, loss: 2.092, Word: 96.48, 99.95, Topo: 99.74, Assm: 98.51, PNorm: 368.89, GNorm: 18.75\n"
     ]
    },
    {
     "name": "stderr",
     "output_type": "stream",
     "text": [
      " 42%|████▏     | 84/200 [02:22<03:19,  1.72s/it]"
     ]
    },
    {
     "name": "stdout",
     "output_type": "stream",
     "text": [
      "[17250] Beta: 0.000, KL: 445.02, loss: 1.941, Word: 96.80, 99.96, Topo: 99.74, Assm: 98.59, PNorm: 369.10, GNorm: 18.05\n"
     ]
    },
    {
     "name": "stderr",
     "output_type": "stream",
     "text": [
      " 67%|██████▋   | 134/200 [03:47<01:44,  1.59s/it]"
     ]
    },
    {
     "name": "stdout",
     "output_type": "stream",
     "text": [
      "[17300] Beta: 0.000, KL: 453.79, loss: 1.958, Word: 96.91, 99.96, Topo: 99.76, Assm: 98.46, PNorm: 369.30, GNorm: 20.01\n"
     ]
    },
    {
     "name": "stderr",
     "output_type": "stream",
     "text": [
      " 92%|█████████▏| 184/200 [05:14<00:31,  1.99s/it]"
     ]
    },
    {
     "name": "stdout",
     "output_type": "stream",
     "text": [
      "[17350] Beta: 0.000, KL: 449.63, loss: 2.010, Word: 96.90, 99.98, Topo: 99.68, Assm: 98.31, PNorm: 369.53, GNorm: 22.90\n"
     ]
    },
    {
     "name": "stderr",
     "output_type": "stream",
     "text": [
      "234it [06:39,  1.65s/it]                         "
     ]
    },
    {
     "name": "stdout",
     "output_type": "stream",
     "text": [
      "[17400] Beta: 0.000, KL: 446.11, loss: 2.131, Word: 96.40, 99.98, Topo: 99.75, Assm: 98.41, PNorm: 369.76, GNorm: 19.36\n"
     ]
    },
    {
     "name": "stderr",
     "output_type": "stream",
     "text": [
      "245it [06:58,  1.71s/it]\n",
      " 20%|█▉        | 39/200 [01:06<04:19,  1.61s/it]"
     ]
    },
    {
     "name": "stdout",
     "output_type": "stream",
     "text": [
      "[17450] Beta: 0.000, KL: 444.20, loss: 1.988, Word: 96.65, 99.98, Topo: 99.77, Assm: 98.57, PNorm: 369.98, GNorm: 17.34\n"
     ]
    },
    {
     "name": "stderr",
     "output_type": "stream",
     "text": [
      " 44%|████▍     | 89/200 [02:31<03:05,  1.67s/it]"
     ]
    },
    {
     "name": "stdout",
     "output_type": "stream",
     "text": [
      "[17500] Beta: 0.000, KL: 445.13, loss: 1.858, Word: 96.75, 99.97, Topo: 99.79, Assm: 98.75, PNorm: 370.15, GNorm: 14.66\n"
     ]
    },
    {
     "name": "stderr",
     "output_type": "stream",
     "text": [
      " 70%|██████▉   | 139/200 [04:00<01:48,  1.77s/it]"
     ]
    },
    {
     "name": "stdout",
     "output_type": "stream",
     "text": [
      "[17550] Beta: 0.000, KL: 437.75, loss: 2.009, Word: 96.64, 99.98, Topo: 99.74, Assm: 98.72, PNorm: 370.37, GNorm: 17.37\n"
     ]
    },
    {
     "name": "stderr",
     "output_type": "stream",
     "text": [
      " 94%|█████████▍| 189/200 [05:24<00:18,  1.72s/it]"
     ]
    },
    {
     "name": "stdout",
     "output_type": "stream",
     "text": [
      "[17600] Beta: 0.000, KL: 444.13, loss: 1.855, Word: 96.72, 99.98, Topo: 99.78, Assm: 98.77, PNorm: 370.55, GNorm: 21.39\n"
     ]
    },
    {
     "name": "stderr",
     "output_type": "stream",
     "text": [
      "239it [06:49,  1.70s/it]                         "
     ]
    },
    {
     "name": "stdout",
     "output_type": "stream",
     "text": [
      "[17650] Beta: 0.000, KL: 452.58, loss: 1.939, Word: 96.72, 99.97, Topo: 99.78, Assm: 98.65, PNorm: 370.78, GNorm: 20.54\n"
     ]
    },
    {
     "name": "stderr",
     "output_type": "stream",
     "text": [
      "245it [07:00,  1.72s/it]\n",
      " 22%|██▏       | 44/200 [01:14<04:24,  1.69s/it]"
     ]
    },
    {
     "name": "stdout",
     "output_type": "stream",
     "text": [
      "[17700] Beta: 0.000, KL: 446.31, loss: 1.871, Word: 96.85, 99.98, Topo: 99.69, Assm: 99.08, PNorm: 370.99, GNorm: 15.24\n"
     ]
    },
    {
     "name": "stderr",
     "output_type": "stream",
     "text": [
      " 47%|████▋     | 94/200 [02:40<02:49,  1.60s/it]"
     ]
    },
    {
     "name": "stdout",
     "output_type": "stream",
     "text": [
      "[17750] Beta: 0.000, KL: 440.75, loss: 2.033, Word: 96.51, 99.96, Topo: 99.74, Assm: 98.63, PNorm: 371.19, GNorm: 19.16\n"
     ]
    },
    {
     "name": "stderr",
     "output_type": "stream",
     "text": [
      " 72%|███████▏  | 144/200 [04:06<01:29,  1.60s/it]"
     ]
    },
    {
     "name": "stdout",
     "output_type": "stream",
     "text": [
      "[17800] Beta: 0.000, KL: 440.27, loss: 2.119, Word: 96.53, 99.96, Topo: 99.73, Assm: 98.52, PNorm: 371.41, GNorm: 17.15\n"
     ]
    },
    {
     "name": "stderr",
     "output_type": "stream",
     "text": [
      " 97%|█████████▋| 194/200 [05:31<00:10,  1.75s/it]"
     ]
    },
    {
     "name": "stdout",
     "output_type": "stream",
     "text": [
      "[17850] Beta: 0.000, KL: 443.96, loss: 2.070, Word: 96.50, 99.95, Topo: 99.74, Assm: 98.90, PNorm: 371.65, GNorm: 22.75\n"
     ]
    },
    {
     "name": "stderr",
     "output_type": "stream",
     "text": [
      "244it [06:56,  1.65s/it]                         "
     ]
    },
    {
     "name": "stdout",
     "output_type": "stream",
     "text": [
      "[17900] Beta: 0.000, KL: 443.65, loss: 2.053, Word: 96.60, 99.95, Topo: 99.73, Assm: 98.61, PNorm: 371.88, GNorm: 21.87\n"
     ]
    },
    {
     "name": "stderr",
     "output_type": "stream",
     "text": [
      "245it [06:58,  1.71s/it]\n",
      " 24%|██▍       | 49/200 [01:23<04:11,  1.66s/it]"
     ]
    },
    {
     "name": "stdout",
     "output_type": "stream",
     "text": [
      "[17950] Beta: 0.000, KL: 446.24, loss: 2.067, Word: 96.35, 99.95, Topo: 99.78, Assm: 98.61, PNorm: 372.10, GNorm: 16.06\n"
     ]
    },
    {
     "name": "stderr",
     "output_type": "stream",
     "text": [
      " 50%|████▉     | 99/200 [02:49<02:52,  1.71s/it]"
     ]
    },
    {
     "name": "stdout",
     "output_type": "stream",
     "text": [
      "[18000] Beta: 0.000, KL: 445.75, loss: 2.122, Word: 96.32, 99.96, Topo: 99.73, Assm: 98.57, PNorm: 372.31, GNorm: 18.07\n"
     ]
    },
    {
     "name": "stderr",
     "output_type": "stream",
     "text": [
      " 74%|███████▍  | 149/200 [04:15<01:25,  1.68s/it]"
     ]
    },
    {
     "name": "stdout",
     "output_type": "stream",
     "text": [
      "[18050] Beta: 0.000, KL: 439.75, loss: 2.329, Word: 95.96, 99.94, Topo: 99.66, Assm: 98.74, PNorm: 372.57, GNorm: 22.96\n"
     ]
    },
    {
     "name": "stderr",
     "output_type": "stream",
     "text": [
      "100%|█████████▉| 199/200 [05:41<00:01,  1.67s/it]"
     ]
    },
    {
     "name": "stdout",
     "output_type": "stream",
     "text": [
      "[18100] Beta: 0.000, KL: 431.26, loss: 2.136, Word: 96.30, 99.94, Topo: 99.70, Assm: 98.66, PNorm: 372.82, GNorm: 23.64\n"
     ]
    },
    {
     "name": "stderr",
     "output_type": "stream",
     "text": [
      "245it [06:59,  1.71s/it]                         \n",
      "  2%|▏         | 4/200 [00:07<06:14,  1.91s/it]"
     ]
    },
    {
     "name": "stdout",
     "output_type": "stream",
     "text": [
      "[18150] Beta: 0.000, KL: 433.24, loss: 2.180, Word: 96.38, 99.94, Topo: 99.70, Assm: 98.78, PNorm: 373.07, GNorm: 17.35\n"
     ]
    },
    {
     "name": "stderr",
     "output_type": "stream",
     "text": [
      " 27%|██▋       | 54/200 [01:31<04:41,  1.93s/it]"
     ]
    },
    {
     "name": "stdout",
     "output_type": "stream",
     "text": [
      "[18200] Beta: 0.000, KL: 436.82, loss: 1.907, Word: 96.90, 99.95, Topo: 99.69, Assm: 98.39, PNorm: 373.28, GNorm: 20.16\n"
     ]
    },
    {
     "name": "stderr",
     "output_type": "stream",
     "text": [
      " 52%|█████▏    | 104/200 [02:57<02:47,  1.75s/it]"
     ]
    },
    {
     "name": "stdout",
     "output_type": "stream",
     "text": [
      "[18250] Beta: 0.000, KL: 436.12, loss: 2.027, Word: 96.63, 99.96, Topo: 99.67, Assm: 98.56, PNorm: 373.50, GNorm: 22.43\n"
     ]
    },
    {
     "name": "stderr",
     "output_type": "stream",
     "text": [
      " 77%|███████▋  | 154/200 [04:23<01:11,  1.56s/it]"
     ]
    },
    {
     "name": "stdout",
     "output_type": "stream",
     "text": [
      "[18300] Beta: 0.000, KL: 435.07, loss: 2.222, Word: 96.31, 99.94, Topo: 99.70, Assm: 98.59, PNorm: 373.75, GNorm: 20.12\n"
     ]
    },
    {
     "name": "stderr",
     "output_type": "stream",
     "text": [
      "204it [05:50,  1.77s/it]                         "
     ]
    },
    {
     "name": "stdout",
     "output_type": "stream",
     "text": [
      "[18350] Beta: 0.000, KL: 438.30, loss: 2.093, Word: 96.46, 99.96, Topo: 99.74, Assm: 98.73, PNorm: 373.94, GNorm: 18.03\n"
     ]
    },
    {
     "name": "stderr",
     "output_type": "stream",
     "text": [
      "245it [07:00,  1.72s/it]\n",
      "  4%|▍         | 9/200 [00:16<05:24,  1.70s/it]"
     ]
    },
    {
     "name": "stdout",
     "output_type": "stream",
     "text": [
      "[18400] Beta: 0.000, KL: 450.21, loss: 1.878, Word: 96.78, 99.98, Topo: 99.78, Assm: 99.01, PNorm: 374.14, GNorm: 26.53\n"
     ]
    },
    {
     "name": "stderr",
     "output_type": "stream",
     "text": [
      " 30%|██▉       | 59/200 [01:40<03:46,  1.60s/it]"
     ]
    },
    {
     "name": "stdout",
     "output_type": "stream",
     "text": [
      "[18450] Beta: 0.000, KL: 451.41, loss: 1.718, Word: 97.09, 99.95, Topo: 99.78, Assm: 98.90, PNorm: 374.33, GNorm: 21.61\n"
     ]
    },
    {
     "name": "stderr",
     "output_type": "stream",
     "text": [
      " 55%|█████▍    | 109/200 [03:07<02:48,  1.85s/it]"
     ]
    },
    {
     "name": "stdout",
     "output_type": "stream",
     "text": [
      "[18500] Beta: 0.000, KL: 445.40, loss: 1.882, Word: 96.80, 99.96, Topo: 99.73, Assm: 98.69, PNorm: 374.54, GNorm: 15.39\n"
     ]
    },
    {
     "name": "stderr",
     "output_type": "stream",
     "text": [
      " 80%|███████▉  | 159/200 [04:31<01:07,  1.65s/it]"
     ]
    },
    {
     "name": "stdout",
     "output_type": "stream",
     "text": [
      "[18550] Beta: 0.000, KL: 455.26, loss: 1.776, Word: 97.03, 99.96, Topo: 99.76, Assm: 98.92, PNorm: 374.73, GNorm: 22.87\n"
     ]
    },
    {
     "name": "stderr",
     "output_type": "stream",
     "text": [
      "209it [05:58,  1.79s/it]                         "
     ]
    },
    {
     "name": "stdout",
     "output_type": "stream",
     "text": [
      "[18600] Beta: 0.000, KL: 446.66, loss: 2.046, Word: 96.56, 99.95, Topo: 99.71, Assm: 98.94, PNorm: 374.95, GNorm: 17.77\n"
     ]
    },
    {
     "name": "stderr",
     "output_type": "stream",
     "text": [
      "245it [07:01,  1.72s/it]\n",
      "  7%|▋         | 14/200 [00:23<05:18,  1.71s/it]"
     ]
    },
    {
     "name": "stdout",
     "output_type": "stream",
     "text": [
      "[18650] Beta: 0.000, KL: 456.10, loss: 1.735, Word: 97.01, 99.98, Topo: 99.79, Assm: 99.07, PNorm: 375.14, GNorm: 14.81\n"
     ]
    },
    {
     "name": "stderr",
     "output_type": "stream",
     "text": [
      " 32%|███▏      | 64/200 [01:50<03:56,  1.74s/it]"
     ]
    },
    {
     "name": "stdout",
     "output_type": "stream",
     "text": [
      "[18700] Beta: 0.000, KL: 458.66, loss: 1.616, Word: 97.28, 99.97, Topo: 99.83, Assm: 98.96, PNorm: 375.31, GNorm: 18.26\n"
     ]
    },
    {
     "name": "stderr",
     "output_type": "stream",
     "text": [
      " 57%|█████▋    | 114/200 [03:15<02:29,  1.74s/it]"
     ]
    },
    {
     "name": "stdout",
     "output_type": "stream",
     "text": [
      "[18750] Beta: 0.000, KL: 459.83, loss: 1.555, Word: 97.46, 99.95, Topo: 99.84, Assm: 98.86, PNorm: 375.47, GNorm: 18.13\n"
     ]
    },
    {
     "name": "stderr",
     "output_type": "stream",
     "text": [
      " 82%|████████▏ | 164/200 [04:41<01:01,  1.71s/it]"
     ]
    },
    {
     "name": "stdout",
     "output_type": "stream",
     "text": [
      "[18800] Beta: 0.000, KL: 458.79, loss: 1.697, Word: 97.30, 99.96, Topo: 99.77, Assm: 98.92, PNorm: 375.66, GNorm: 16.23\n"
     ]
    },
    {
     "name": "stderr",
     "output_type": "stream",
     "text": [
      "214it [06:04,  1.70s/it]                         "
     ]
    },
    {
     "name": "stdout",
     "output_type": "stream",
     "text": [
      "[18850] Beta: 0.000, KL: 458.44, loss: 1.792, Word: 97.07, 99.97, Topo: 99.76, Assm: 98.63, PNorm: 375.88, GNorm: 15.73\n"
     ]
    },
    {
     "name": "stderr",
     "output_type": "stream",
     "text": [
      "245it [06:59,  1.71s/it]\n",
      " 10%|▉         | 19/200 [00:31<04:58,  1.65s/it]"
     ]
    },
    {
     "name": "stdout",
     "output_type": "stream",
     "text": [
      "[18900] Beta: 0.000, KL: 452.86, loss: 1.805, Word: 97.09, 99.96, Topo: 99.74, Assm: 99.03, PNorm: 376.07, GNorm: 21.28\n"
     ]
    },
    {
     "name": "stderr",
     "output_type": "stream",
     "text": [
      " 34%|███▍      | 69/200 [01:59<03:39,  1.68s/it]"
     ]
    },
    {
     "name": "stdout",
     "output_type": "stream",
     "text": [
      "[18950] Beta: 0.000, KL: 459.94, loss: 1.802, Word: 97.07, 99.94, Topo: 99.77, Assm: 98.98, PNorm: 376.27, GNorm: 17.79\n"
     ]
    },
    {
     "name": "stderr",
     "output_type": "stream",
     "text": [
      " 60%|█████▉    | 119/200 [03:24<02:12,  1.63s/it]"
     ]
    },
    {
     "name": "stdout",
     "output_type": "stream",
     "text": [
      "[19000] Beta: 0.000, KL: 450.72, loss: 1.734, Word: 97.14, 99.96, Topo: 99.81, Assm: 98.88, PNorm: 376.47, GNorm: 19.96\n"
     ]
    },
    {
     "name": "stderr",
     "output_type": "stream",
     "text": [
      " 84%|████████▍ | 169/200 [04:49<00:57,  1.87s/it]"
     ]
    },
    {
     "name": "stdout",
     "output_type": "stream",
     "text": [
      "[19050] Beta: 0.000, KL: 446.89, loss: 1.794, Word: 96.94, 99.99, Topo: 99.77, Assm: 98.89, PNorm: 376.69, GNorm: 16.29\n"
     ]
    },
    {
     "name": "stderr",
     "output_type": "stream",
     "text": [
      "219it [06:14,  1.81s/it]                         "
     ]
    },
    {
     "name": "stdout",
     "output_type": "stream",
     "text": [
      "[19100] Beta: 0.000, KL: 454.20, loss: 2.184, Word: 96.40, 99.96, Topo: 99.72, Assm: 98.71, PNorm: 376.93, GNorm: 24.40\n"
     ]
    },
    {
     "name": "stderr",
     "output_type": "stream",
     "text": [
      "245it [06:59,  1.71s/it]\n",
      " 12%|█▏        | 24/200 [00:42<04:54,  1.67s/it]"
     ]
    },
    {
     "name": "stdout",
     "output_type": "stream",
     "text": [
      "[19150] Beta: 0.000, KL: 442.34, loss: 2.015, Word: 96.89, 99.95, Topo: 99.74, Assm: 98.34, PNorm: 377.18, GNorm: 19.95\n"
     ]
    },
    {
     "name": "stderr",
     "output_type": "stream",
     "text": [
      " 37%|███▋      | 74/200 [02:05<03:29,  1.66s/it]"
     ]
    },
    {
     "name": "stdout",
     "output_type": "stream",
     "text": [
      "[19200] Beta: 0.000, KL: 448.52, loss: 1.828, Word: 96.82, 99.95, Topo: 99.74, Assm: 98.61, PNorm: 377.39, GNorm: 16.29\n"
     ]
    },
    {
     "name": "stderr",
     "output_type": "stream",
     "text": [
      " 62%|██████▏   | 124/200 [03:33<02:10,  1.72s/it]"
     ]
    },
    {
     "name": "stdout",
     "output_type": "stream",
     "text": [
      "[19250] Beta: 0.000, KL: 439.40, loss: 1.788, Word: 96.89, 99.95, Topo: 99.83, Assm: 98.41, PNorm: 377.56, GNorm: 15.52\n"
     ]
    },
    {
     "name": "stderr",
     "output_type": "stream",
     "text": [
      " 87%|████████▋ | 174/200 [04:56<00:43,  1.66s/it]"
     ]
    },
    {
     "name": "stdout",
     "output_type": "stream",
     "text": [
      "[19300] Beta: 0.000, KL: 433.99, loss: 1.912, Word: 96.76, 99.97, Topo: 99.79, Assm: 98.51, PNorm: 377.77, GNorm: 17.16\n"
     ]
    },
    {
     "name": "stderr",
     "output_type": "stream",
     "text": [
      "224it [06:21,  1.70s/it]                         "
     ]
    },
    {
     "name": "stdout",
     "output_type": "stream",
     "text": [
      "[19350] Beta: 0.000, KL: 435.96, loss: 2.024, Word: 96.56, 99.98, Topo: 99.74, Assm: 98.47, PNorm: 377.99, GNorm: 16.01\n"
     ]
    },
    {
     "name": "stderr",
     "output_type": "stream",
     "text": [
      "245it [06:58,  1.71s/it]\n",
      " 14%|█▍        | 29/200 [00:49<04:44,  1.66s/it]"
     ]
    },
    {
     "name": "stdout",
     "output_type": "stream",
     "text": [
      "[19400] Beta: 0.000, KL: 441.03, loss: 1.952, Word: 96.79, 99.95, Topo: 99.74, Assm: 98.69, PNorm: 378.22, GNorm: 15.06\n"
     ]
    },
    {
     "name": "stderr",
     "output_type": "stream",
     "text": [
      " 40%|███▉      | 79/200 [02:14<03:21,  1.66s/it]"
     ]
    },
    {
     "name": "stdout",
     "output_type": "stream",
     "text": [
      "[19450] Beta: 0.000, KL: 442.90, loss: 1.908, Word: 96.66, 99.96, Topo: 99.78, Assm: 98.81, PNorm: 378.42, GNorm: 20.67\n"
     ]
    },
    {
     "name": "stderr",
     "output_type": "stream",
     "text": [
      " 64%|██████▍   | 129/200 [03:43<02:34,  2.17s/it]"
     ]
    },
    {
     "name": "stdout",
     "output_type": "stream",
     "text": [
      "[19500] Beta: 0.000, KL: 431.90, loss: 1.944, Word: 96.79, 99.96, Topo: 99.75, Assm: 98.72, PNorm: 378.65, GNorm: 19.21\n"
     ]
    },
    {
     "name": "stderr",
     "output_type": "stream",
     "text": [
      " 90%|████████▉ | 179/200 [05:04<00:34,  1.64s/it]"
     ]
    },
    {
     "name": "stdout",
     "output_type": "stream",
     "text": [
      "[19550] Beta: 0.000, KL: 434.02, loss: 1.896, Word: 96.84, 99.98, Topo: 99.75, Assm: 98.28, PNorm: 378.87, GNorm: 16.82\n"
     ]
    },
    {
     "name": "stderr",
     "output_type": "stream",
     "text": [
      "229it [06:30,  1.87s/it]                         "
     ]
    },
    {
     "name": "stdout",
     "output_type": "stream",
     "text": [
      "[19600] Beta: 0.000, KL: 439.97, loss: 1.909, Word: 96.98, 99.98, Topo: 99.76, Assm: 98.67, PNorm: 379.08, GNorm: 16.83\n"
     ]
    },
    {
     "name": "stderr",
     "output_type": "stream",
     "text": [
      "245it [06:58,  1.71s/it]\n",
      " 17%|█▋        | 34/200 [00:59<04:52,  1.76s/it]"
     ]
    },
    {
     "name": "stdout",
     "output_type": "stream",
     "text": [
      "[19650] Beta: 0.000, KL: 436.47, loss: 1.788, Word: 97.17, 99.96, Topo: 99.73, Assm: 98.58, PNorm: 379.30, GNorm: 18.35\n"
     ]
    },
    {
     "name": "stderr",
     "output_type": "stream",
     "text": [
      " 42%|████▏     | 84/200 [02:23<03:29,  1.81s/it]"
     ]
    },
    {
     "name": "stdout",
     "output_type": "stream",
     "text": [
      "[19700] Beta: 0.000, KL: 438.56, loss: 1.730, Word: 96.99, 99.95, Topo: 99.80, Assm: 98.99, PNorm: 379.50, GNorm: 20.29\n"
     ]
    },
    {
     "name": "stderr",
     "output_type": "stream",
     "text": [
      " 67%|██████▋   | 134/200 [03:50<01:51,  1.69s/it]"
     ]
    },
    {
     "name": "stdout",
     "output_type": "stream",
     "text": [
      "[19750] Beta: 0.000, KL: 437.29, loss: 1.801, Word: 96.78, 99.97, Topo: 99.81, Assm: 98.57, PNorm: 379.68, GNorm: 19.26\n"
     ]
    },
    {
     "name": "stderr",
     "output_type": "stream",
     "text": [
      " 92%|█████████▏| 184/200 [05:14<00:30,  1.90s/it]"
     ]
    },
    {
     "name": "stdout",
     "output_type": "stream",
     "text": [
      "[19800] Beta: 0.000, KL: 437.07, loss: 1.890, Word: 96.91, 99.95, Topo: 99.75, Assm: 98.43, PNorm: 379.88, GNorm: 20.88\n"
     ]
    },
    {
     "name": "stderr",
     "output_type": "stream",
     "text": [
      "234it [06:40,  1.72s/it]                         "
     ]
    },
    {
     "name": "stdout",
     "output_type": "stream",
     "text": [
      "[19850] Beta: 0.000, KL: 436.76, loss: 1.873, Word: 96.85, 99.93, Topo: 99.78, Assm: 98.61, PNorm: 380.11, GNorm: 15.79\n"
     ]
    },
    {
     "name": "stderr",
     "output_type": "stream",
     "text": [
      "245it [06:59,  1.71s/it]\n",
      " 20%|█▉        | 39/200 [01:05<04:20,  1.62s/it]"
     ]
    },
    {
     "name": "stdout",
     "output_type": "stream",
     "text": [
      "[19900] Beta: 0.000, KL: 438.26, loss: 1.868, Word: 96.88, 99.95, Topo: 99.74, Assm: 98.81, PNorm: 380.29, GNorm: 16.32\n"
     ]
    },
    {
     "name": "stderr",
     "output_type": "stream",
     "text": [
      " 44%|████▍     | 89/200 [02:33<03:09,  1.71s/it]"
     ]
    },
    {
     "name": "stdout",
     "output_type": "stream",
     "text": [
      "[19950] Beta: 0.000, KL: 441.54, loss: 1.956, Word: 96.83, 99.97, Topo: 99.74, Assm: 98.76, PNorm: 380.52, GNorm: 18.43\n"
     ]
    },
    {
     "name": "stderr",
     "output_type": "stream",
     "text": [
      " 70%|██████▉   | 139/200 [03:59<01:39,  1.63s/it]"
     ]
    },
    {
     "name": "stdout",
     "output_type": "stream",
     "text": [
      "[20000] Beta: 0.000, KL: 452.43, loss: 1.768, Word: 97.16, 99.97, Topo: 99.74, Assm: 98.57, PNorm: 380.71, GNorm: 16.09\n"
     ]
    },
    {
     "name": "stderr",
     "output_type": "stream",
     "text": [
      " 94%|█████████▍| 189/200 [05:25<00:21,  1.93s/it]"
     ]
    },
    {
     "name": "stdout",
     "output_type": "stream",
     "text": [
      "[20050] Beta: 0.000, KL: 448.39, loss: 1.648, Word: 97.29, 99.96, Topo: 99.75, Assm: 98.91, PNorm: 380.88, GNorm: 23.24\n"
     ]
    },
    {
     "name": "stderr",
     "output_type": "stream",
     "text": [
      "239it [06:50,  1.74s/it]                         "
     ]
    },
    {
     "name": "stdout",
     "output_type": "stream",
     "text": [
      "[20100] Beta: 0.000, KL: 457.21, loss: 1.626, Word: 97.38, 99.95, Topo: 99.79, Assm: 99.01, PNorm: 381.08, GNorm: 17.70\n"
     ]
    },
    {
     "name": "stderr",
     "output_type": "stream",
     "text": [
      "245it [07:00,  1.72s/it]\n",
      " 22%|██▏       | 44/200 [01:13<04:43,  1.82s/it]"
     ]
    },
    {
     "name": "stdout",
     "output_type": "stream",
     "text": [
      "[20150] Beta: 0.000, KL: 456.37, loss: 1.693, Word: 97.29, 99.96, Topo: 99.77, Assm: 99.01, PNorm: 381.28, GNorm: 14.78\n"
     ]
    },
    {
     "name": "stderr",
     "output_type": "stream",
     "text": [
      " 47%|████▋     | 94/200 [02:41<03:00,  1.70s/it]"
     ]
    },
    {
     "name": "stdout",
     "output_type": "stream",
     "text": [
      "[20200] Beta: 0.000, KL: 448.57, loss: 1.630, Word: 97.43, 99.97, Topo: 99.74, Assm: 98.76, PNorm: 381.47, GNorm: 16.98\n"
     ]
    },
    {
     "name": "stderr",
     "output_type": "stream",
     "text": [
      " 72%|███████▏  | 144/200 [04:08<01:33,  1.67s/it]"
     ]
    },
    {
     "name": "stdout",
     "output_type": "stream",
     "text": [
      "[20250] Beta: 0.000, KL: 449.19, loss: 1.691, Word: 97.31, 99.93, Topo: 99.77, Assm: 98.83, PNorm: 381.68, GNorm: 17.45\n"
     ]
    },
    {
     "name": "stderr",
     "output_type": "stream",
     "text": [
      " 97%|█████████▋| 194/200 [05:32<00:10,  1.67s/it]"
     ]
    },
    {
     "name": "stdout",
     "output_type": "stream",
     "text": [
      "[20300] Beta: 0.000, KL: 451.47, loss: 1.694, Word: 97.20, 99.98, Topo: 99.76, Assm: 98.83, PNorm: 381.87, GNorm: 16.02\n"
     ]
    },
    {
     "name": "stderr",
     "output_type": "stream",
     "text": [
      "244it [06:58,  1.66s/it]                         "
     ]
    },
    {
     "name": "stdout",
     "output_type": "stream",
     "text": [
      "[20350] Beta: 0.000, KL: 448.81, loss: 1.722, Word: 97.29, 99.97, Topo: 99.73, Assm: 98.84, PNorm: 382.10, GNorm: 19.46\n"
     ]
    },
    {
     "name": "stderr",
     "output_type": "stream",
     "text": [
      "245it [07:00,  1.72s/it]\n",
      " 24%|██▍       | 49/200 [01:22<04:51,  1.93s/it]"
     ]
    },
    {
     "name": "stdout",
     "output_type": "stream",
     "text": [
      "[20400] Beta: 0.000, KL: 457.61, loss: 1.621, Word: 97.19, 99.94, Topo: 99.79, Assm: 99.05, PNorm: 382.28, GNorm: 13.08\n"
     ]
    },
    {
     "name": "stderr",
     "output_type": "stream",
     "text": [
      " 50%|████▉     | 99/200 [02:48<02:49,  1.68s/it]"
     ]
    },
    {
     "name": "stdout",
     "output_type": "stream",
     "text": [
      "[20450] Beta: 0.000, KL: 456.63, loss: 1.648, Word: 97.26, 99.96, Topo: 99.80, Assm: 98.67, PNorm: 382.47, GNorm: 14.97\n"
     ]
    },
    {
     "name": "stderr",
     "output_type": "stream",
     "text": [
      " 74%|███████▍  | 149/200 [04:15<01:21,  1.59s/it]"
     ]
    },
    {
     "name": "stdout",
     "output_type": "stream",
     "text": [
      "[20500] Beta: 0.000, KL: 453.19, loss: 1.615, Word: 97.27, 99.96, Topo: 99.77, Assm: 98.87, PNorm: 382.66, GNorm: 21.30\n"
     ]
    },
    {
     "name": "stderr",
     "output_type": "stream",
     "text": [
      "100%|█████████▉| 199/200 [05:41<00:01,  1.68s/it]"
     ]
    },
    {
     "name": "stdout",
     "output_type": "stream",
     "text": [
      "[20550] Beta: 0.000, KL: 453.86, loss: 1.636, Word: 97.21, 99.97, Topo: 99.76, Assm: 98.90, PNorm: 382.87, GNorm: 15.74\n"
     ]
    },
    {
     "name": "stderr",
     "output_type": "stream",
     "text": [
      "245it [07:00,  1.72s/it]                         \n",
      "  2%|▏         | 4/200 [00:06<05:23,  1.65s/it]"
     ]
    },
    {
     "name": "stdout",
     "output_type": "stream",
     "text": [
      "[20600] Beta: 0.000, KL: 454.62, loss: 1.820, Word: 96.93, 99.95, Topo: 99.77, Assm: 98.66, PNorm: 383.09, GNorm: 21.57\n"
     ]
    },
    {
     "name": "stderr",
     "output_type": "stream",
     "text": [
      " 27%|██▋       | 54/200 [01:32<04:00,  1.65s/it]"
     ]
    },
    {
     "name": "stdout",
     "output_type": "stream",
     "text": [
      "[20650] Beta: 0.000, KL: 458.77, loss: 1.897, Word: 96.93, 99.95, Topo: 99.78, Assm: 98.58, PNorm: 383.34, GNorm: 16.97\n"
     ]
    },
    {
     "name": "stderr",
     "output_type": "stream",
     "text": [
      " 52%|█████▏    | 104/200 [02:57<02:42,  1.69s/it]"
     ]
    },
    {
     "name": "stdout",
     "output_type": "stream",
     "text": [
      "[20700] Beta: 0.000, KL: 447.21, loss: 1.810, Word: 96.99, 99.97, Topo: 99.77, Assm: 98.27, PNorm: 383.58, GNorm: 17.92\n"
     ]
    },
    {
     "name": "stderr",
     "output_type": "stream",
     "text": [
      " 77%|███████▋  | 154/200 [04:23<01:17,  1.69s/it]"
     ]
    },
    {
     "name": "stdout",
     "output_type": "stream",
     "text": [
      "[20750] Beta: 0.000, KL: 439.48, loss: 1.872, Word: 96.99, 99.94, Topo: 99.70, Assm: 98.30, PNorm: 383.80, GNorm: 19.31\n"
     ]
    },
    {
     "name": "stderr",
     "output_type": "stream",
     "text": [
      "204it [05:48,  1.71s/it]                         "
     ]
    },
    {
     "name": "stdout",
     "output_type": "stream",
     "text": [
      "[20800] Beta: 0.000, KL: 450.91, loss: 1.893, Word: 96.85, 99.95, Topo: 99.73, Assm: 98.60, PNorm: 384.02, GNorm: 20.59\n"
     ]
    },
    {
     "name": "stderr",
     "output_type": "stream",
     "text": [
      "245it [06:59,  1.71s/it]\n",
      "  4%|▍         | 9/200 [00:16<05:14,  1.64s/it]"
     ]
    },
    {
     "name": "stdout",
     "output_type": "stream",
     "text": [
      "[20850] Beta: 0.000, KL: 461.05, loss: 1.874, Word: 96.78, 99.96, Topo: 99.77, Assm: 98.87, PNorm: 384.23, GNorm: 17.11\n"
     ]
    },
    {
     "name": "stderr",
     "output_type": "stream",
     "text": [
      " 30%|██▉       | 59/200 [01:39<04:03,  1.72s/it]"
     ]
    },
    {
     "name": "stdout",
     "output_type": "stream",
     "text": [
      "[20900] Beta: 0.000, KL: 463.78, loss: 1.763, Word: 97.12, 99.96, Topo: 99.75, Assm: 98.85, PNorm: 384.43, GNorm: 23.01\n"
     ]
    },
    {
     "name": "stderr",
     "output_type": "stream",
     "text": [
      " 55%|█████▍    | 109/200 [03:06<02:26,  1.61s/it]"
     ]
    },
    {
     "name": "stdout",
     "output_type": "stream",
     "text": [
      "[20950] Beta: 0.000, KL: 458.70, loss: 1.797, Word: 97.03, 99.96, Topo: 99.75, Assm: 98.79, PNorm: 384.65, GNorm: 19.50\n"
     ]
    },
    {
     "name": "stderr",
     "output_type": "stream",
     "text": [
      " 80%|███████▉  | 159/200 [04:30<01:09,  1.69s/it]"
     ]
    },
    {
     "name": "stdout",
     "output_type": "stream",
     "text": [
      "[21000] Beta: 0.000, KL: 453.54, loss: 1.877, Word: 96.87, 99.93, Topo: 99.73, Assm: 99.09, PNorm: 384.84, GNorm: 18.58\n"
     ]
    },
    {
     "name": "stderr",
     "output_type": "stream",
     "text": [
      "209it [05:55,  1.82s/it]                         "
     ]
    },
    {
     "name": "stdout",
     "output_type": "stream",
     "text": [
      "[21050] Beta: 0.000, KL: 451.01, loss: 1.859, Word: 96.86, 99.96, Topo: 99.71, Assm: 99.03, PNorm: 385.06, GNorm: 18.00\n"
     ]
    },
    {
     "name": "stderr",
     "output_type": "stream",
     "text": [
      "245it [06:57,  1.70s/it]\n",
      "  7%|▋         | 14/200 [00:24<05:16,  1.70s/it]"
     ]
    },
    {
     "name": "stdout",
     "output_type": "stream",
     "text": [
      "[21100] Beta: 0.000, KL: 452.42, loss: 1.744, Word: 97.03, 99.96, Topo: 99.75, Assm: 98.95, PNorm: 385.24, GNorm: 15.00\n"
     ]
    },
    {
     "name": "stderr",
     "output_type": "stream",
     "text": [
      " 32%|███▏      | 64/200 [01:49<03:59,  1.76s/it]"
     ]
    },
    {
     "name": "stdout",
     "output_type": "stream",
     "text": [
      "[21150] Beta: 0.000, KL: 453.31, loss: 1.646, Word: 97.29, 99.96, Topo: 99.72, Assm: 99.09, PNorm: 385.43, GNorm: 22.04\n"
     ]
    },
    {
     "name": "stderr",
     "output_type": "stream",
     "text": [
      " 57%|█████▋    | 114/200 [03:16<02:24,  1.68s/it]"
     ]
    },
    {
     "name": "stdout",
     "output_type": "stream",
     "text": [
      "[21200] Beta: 0.000, KL: 454.32, loss: 1.609, Word: 97.35, 99.96, Topo: 99.76, Assm: 99.09, PNorm: 385.63, GNorm: 17.64\n"
     ]
    },
    {
     "name": "stderr",
     "output_type": "stream",
     "text": [
      " 82%|████████▏ | 164/200 [04:38<01:04,  1.79s/it]"
     ]
    },
    {
     "name": "stdout",
     "output_type": "stream",
     "text": [
      "[21250] Beta: 0.000, KL: 447.58, loss: 1.595, Word: 97.36, 99.97, Topo: 99.78, Assm: 98.91, PNorm: 385.80, GNorm: 14.22\n"
     ]
    },
    {
     "name": "stderr",
     "output_type": "stream",
     "text": [
      "214it [06:06,  1.68s/it]                         "
     ]
    },
    {
     "name": "stdout",
     "output_type": "stream",
     "text": [
      "[21300] Beta: 0.000, KL: 438.38, loss: 1.679, Word: 97.32, 99.99, Topo: 99.73, Assm: 98.91, PNorm: 385.99, GNorm: 18.17\n"
     ]
    },
    {
     "name": "stderr",
     "output_type": "stream",
     "text": [
      "245it [07:00,  1.72s/it]\n",
      " 10%|▉         | 19/200 [00:32<04:53,  1.62s/it]"
     ]
    },
    {
     "name": "stdout",
     "output_type": "stream",
     "text": [
      "[21350] Beta: 0.000, KL: 443.15, loss: 1.632, Word: 97.30, 99.98, Topo: 99.78, Assm: 98.75, PNorm: 386.15, GNorm: 17.16\n"
     ]
    },
    {
     "name": "stderr",
     "output_type": "stream",
     "text": [
      " 34%|███▍      | 69/200 [01:57<03:38,  1.66s/it]"
     ]
    },
    {
     "name": "stdout",
     "output_type": "stream",
     "text": [
      "[21400] Beta: 0.000, KL: 440.53, loss: 1.592, Word: 97.39, 99.96, Topo: 99.79, Assm: 98.70, PNorm: 386.31, GNorm: 15.87\n"
     ]
    },
    {
     "name": "stderr",
     "output_type": "stream",
     "text": [
      " 60%|█████▉    | 119/200 [03:25<02:13,  1.65s/it]"
     ]
    },
    {
     "name": "stdout",
     "output_type": "stream",
     "text": [
      "[21450] Beta: 0.000, KL: 445.81, loss: 1.582, Word: 97.46, 99.97, Topo: 99.78, Assm: 99.24, PNorm: 386.52, GNorm: 12.18\n"
     ]
    },
    {
     "name": "stderr",
     "output_type": "stream",
     "text": [
      " 84%|████████▍ | 169/200 [04:50<00:53,  1.74s/it]"
     ]
    },
    {
     "name": "stdout",
     "output_type": "stream",
     "text": [
      "[21500] Beta: 0.000, KL: 441.21, loss: 1.608, Word: 97.29, 99.97, Topo: 99.79, Assm: 99.23, PNorm: 386.72, GNorm: 16.92\n"
     ]
    },
    {
     "name": "stderr",
     "output_type": "stream",
     "text": [
      "219it [06:14,  1.67s/it]                         "
     ]
    },
    {
     "name": "stdout",
     "output_type": "stream",
     "text": [
      "[21550] Beta: 0.000, KL: 444.15, loss: 1.710, Word: 97.15, 99.98, Topo: 99.78, Assm: 98.84, PNorm: 386.90, GNorm: 16.43\n"
     ]
    },
    {
     "name": "stderr",
     "output_type": "stream",
     "text": [
      "245it [06:59,  1.71s/it]\n",
      " 12%|█▏        | 24/200 [00:40<05:10,  1.76s/it]"
     ]
    },
    {
     "name": "stdout",
     "output_type": "stream",
     "text": [
      "[21600] Beta: 0.000, KL: 459.74, loss: 1.700, Word: 97.29, 99.96, Topo: 99.77, Assm: 98.86, PNorm: 387.10, GNorm: 17.02\n"
     ]
    },
    {
     "name": "stderr",
     "output_type": "stream",
     "text": [
      " 37%|███▋      | 74/200 [02:06<03:35,  1.71s/it]"
     ]
    },
    {
     "name": "stdout",
     "output_type": "stream",
     "text": [
      "[21650] Beta: 0.000, KL: 455.92, loss: 1.642, Word: 97.27, 99.97, Topo: 99.74, Assm: 98.90, PNorm: 387.29, GNorm: 17.18\n"
     ]
    },
    {
     "name": "stderr",
     "output_type": "stream",
     "text": [
      " 62%|██████▏   | 124/200 [03:32<02:20,  1.85s/it]"
     ]
    },
    {
     "name": "stdout",
     "output_type": "stream",
     "text": [
      "[21700] Beta: 0.000, KL: 452.72, loss: 1.652, Word: 97.18, 99.97, Topo: 99.74, Assm: 99.11, PNorm: 387.50, GNorm: 19.74\n"
     ]
    },
    {
     "name": "stderr",
     "output_type": "stream",
     "text": [
      " 87%|████████▋ | 174/200 [04:55<00:40,  1.55s/it]"
     ]
    },
    {
     "name": "stdout",
     "output_type": "stream",
     "text": [
      "[21750] Beta: 0.000, KL: 449.94, loss: 1.680, Word: 97.13, 99.97, Topo: 99.74, Assm: 98.77, PNorm: 387.69, GNorm: 12.07\n"
     ]
    },
    {
     "name": "stderr",
     "output_type": "stream",
     "text": [
      "224it [06:22,  1.67s/it]                         "
     ]
    },
    {
     "name": "stdout",
     "output_type": "stream",
     "text": [
      "[21800] Beta: 0.000, KL: 453.55, loss: 1.706, Word: 97.20, 99.95, Topo: 99.78, Assm: 98.67, PNorm: 387.87, GNorm: 19.45\n"
     ]
    },
    {
     "name": "stderr",
     "output_type": "stream",
     "text": [
      "245it [06:57,  1.71s/it]\n",
      " 14%|█▍        | 29/200 [00:50<04:43,  1.66s/it]"
     ]
    },
    {
     "name": "stdout",
     "output_type": "stream",
     "text": [
      "[21850] Beta: 0.000, KL: 444.63, loss: 1.484, Word: 97.47, 99.98, Topo: 99.83, Assm: 99.01, PNorm: 388.04, GNorm: 20.30\n"
     ]
    },
    {
     "name": "stderr",
     "output_type": "stream",
     "text": [
      " 40%|███▉      | 79/200 [02:14<03:21,  1.67s/it]"
     ]
    },
    {
     "name": "stdout",
     "output_type": "stream",
     "text": [
      "[21900] Beta: 0.000, KL: 431.90, loss: 1.527, Word: 97.45, 99.97, Topo: 99.83, Assm: 99.08, PNorm: 388.21, GNorm: 15.93\n"
     ]
    },
    {
     "name": "stderr",
     "output_type": "stream",
     "text": [
      " 64%|██████▍   | 129/200 [03:35<01:59,  1.69s/it]"
     ]
    },
    {
     "name": "stdout",
     "output_type": "stream",
     "text": [
      "[21950] Beta: 0.000, KL: 435.01, loss: 1.447, Word: 97.59, 99.98, Topo: 99.79, Assm: 98.97, PNorm: 388.39, GNorm: 15.67\n"
     ]
    },
    {
     "name": "stderr",
     "output_type": "stream",
     "text": [
      " 90%|████████▉ | 179/200 [04:58<00:32,  1.56s/it]"
     ]
    },
    {
     "name": "stdout",
     "output_type": "stream",
     "text": [
      "[22000] Beta: 0.000, KL: 447.63, loss: 1.645, Word: 97.12, 99.96, Topo: 99.76, Assm: 99.34, PNorm: 388.59, GNorm: 19.07\n"
     ]
    },
    {
     "name": "stderr",
     "output_type": "stream",
     "text": [
      "229it [06:22,  1.76s/it]                         "
     ]
    },
    {
     "name": "stdout",
     "output_type": "stream",
     "text": [
      "[22050] Beta: 0.000, KL: 448.50, loss: 1.514, Word: 97.49, 99.96, Topo: 99.81, Assm: 99.11, PNorm: 388.78, GNorm: 11.09\n"
     ]
    },
    {
     "name": "stderr",
     "output_type": "stream",
     "text": [
      "245it [06:49,  1.67s/it]\n",
      " 17%|█▋        | 34/200 [00:56<04:50,  1.75s/it]"
     ]
    },
    {
     "name": "stdout",
     "output_type": "stream",
     "text": [
      "[22100] Beta: 0.000, KL: 440.02, loss: 1.486, Word: 97.58, 99.98, Topo: 99.80, Assm: 99.39, PNorm: 388.96, GNorm: 15.76\n"
     ]
    },
    {
     "name": "stderr",
     "output_type": "stream",
     "text": [
      " 42%|████▏     | 84/200 [02:21<03:52,  2.00s/it]"
     ]
    },
    {
     "name": "stdout",
     "output_type": "stream",
     "text": [
      "[22150] Beta: 0.000, KL: 440.09, loss: 1.671, Word: 97.18, 99.98, Topo: 99.74, Assm: 99.03, PNorm: 389.15, GNorm: 18.39\n"
     ]
    },
    {
     "name": "stderr",
     "output_type": "stream",
     "text": [
      " 67%|██████▋   | 134/200 [03:44<01:43,  1.57s/it]"
     ]
    },
    {
     "name": "stdout",
     "output_type": "stream",
     "text": [
      "[22200] Beta: 0.000, KL: 442.69, loss: 1.639, Word: 97.32, 99.97, Topo: 99.73, Assm: 98.86, PNorm: 389.38, GNorm: 17.96\n"
     ]
    },
    {
     "name": "stderr",
     "output_type": "stream",
     "text": [
      " 92%|█████████▏| 184/200 [05:07<00:30,  1.90s/it]"
     ]
    },
    {
     "name": "stdout",
     "output_type": "stream",
     "text": [
      "[22250] Beta: 0.000, KL: 439.08, loss: 1.557, Word: 97.42, 99.97, Topo: 99.73, Assm: 99.08, PNorm: 389.57, GNorm: 19.97\n"
     ]
    },
    {
     "name": "stderr",
     "output_type": "stream",
     "text": [
      "234it [06:32,  1.76s/it]                         "
     ]
    },
    {
     "name": "stdout",
     "output_type": "stream",
     "text": [
      "[22300] Beta: 0.000, KL: 449.84, loss: 1.665, Word: 97.32, 99.96, Topo: 99.72, Assm: 98.75, PNorm: 389.78, GNorm: 22.70\n"
     ]
    },
    {
     "name": "stderr",
     "output_type": "stream",
     "text": [
      "245it [06:50,  1.67s/it]\n",
      " 20%|█▉        | 39/200 [01:04<04:25,  1.65s/it]"
     ]
    },
    {
     "name": "stdout",
     "output_type": "stream",
     "text": [
      "[22350] Beta: 0.000, KL: 447.23, loss: 1.537, Word: 97.44, 99.97, Topo: 99.79, Assm: 98.76, PNorm: 389.98, GNorm: 14.85\n"
     ]
    },
    {
     "name": "stderr",
     "output_type": "stream",
     "text": [
      " 44%|████▍     | 89/200 [02:29<03:20,  1.80s/it]"
     ]
    },
    {
     "name": "stdout",
     "output_type": "stream",
     "text": [
      "[22400] Beta: 0.000, KL: 446.44, loss: 1.696, Word: 97.25, 99.98, Topo: 99.73, Assm: 98.54, PNorm: 390.18, GNorm: 20.10\n"
     ]
    },
    {
     "name": "stderr",
     "output_type": "stream",
     "text": [
      " 70%|██████▉   | 139/200 [03:54<01:36,  1.58s/it]"
     ]
    },
    {
     "name": "stdout",
     "output_type": "stream",
     "text": [
      "[22450] Beta: 0.000, KL: 448.67, loss: 1.691, Word: 97.13, 99.95, Topo: 99.80, Assm: 98.67, PNorm: 390.37, GNorm: 18.35\n"
     ]
    },
    {
     "name": "stderr",
     "output_type": "stream",
     "text": [
      " 94%|█████████▍| 189/200 [05:17<00:18,  1.72s/it]"
     ]
    },
    {
     "name": "stdout",
     "output_type": "stream",
     "text": [
      "[22500] Beta: 0.000, KL: 445.43, loss: 1.632, Word: 97.35, 99.96, Topo: 99.71, Assm: 98.84, PNorm: 390.57, GNorm: 20.54\n"
     ]
    },
    {
     "name": "stderr",
     "output_type": "stream",
     "text": [
      "239it [06:41,  1.90s/it]                         "
     ]
    },
    {
     "name": "stdout",
     "output_type": "stream",
     "text": [
      "[22550] Beta: 0.000, KL: 443.60, loss: 1.474, Word: 97.62, 99.97, Topo: 99.79, Assm: 99.07, PNorm: 390.75, GNorm: 13.91\n"
     ]
    },
    {
     "name": "stderr",
     "output_type": "stream",
     "text": [
      "245it [06:51,  1.68s/it]\n",
      " 22%|██▏       | 44/200 [01:13<04:24,  1.69s/it]"
     ]
    },
    {
     "name": "stdout",
     "output_type": "stream",
     "text": [
      "[22600] Beta: 0.000, KL: 441.80, loss: 1.502, Word: 97.48, 99.97, Topo: 99.78, Assm: 99.08, PNorm: 390.93, GNorm: 12.64\n"
     ]
    },
    {
     "name": "stderr",
     "output_type": "stream",
     "text": [
      " 47%|████▋     | 94/200 [02:35<03:07,  1.77s/it]"
     ]
    },
    {
     "name": "stdout",
     "output_type": "stream",
     "text": [
      "[22650] Beta: 0.000, KL: 449.83, loss: 1.658, Word: 97.07, 99.96, Topo: 99.77, Assm: 99.16, PNorm: 391.11, GNorm: 15.63\n"
     ]
    },
    {
     "name": "stderr",
     "output_type": "stream",
     "text": [
      " 72%|███████▏  | 144/200 [03:58<01:30,  1.62s/it]"
     ]
    },
    {
     "name": "stdout",
     "output_type": "stream",
     "text": [
      "[22700] Beta: 0.000, KL: 440.54, loss: 1.577, Word: 97.37, 99.96, Topo: 99.77, Assm: 98.93, PNorm: 391.30, GNorm: 17.27\n"
     ]
    },
    {
     "name": "stderr",
     "output_type": "stream",
     "text": [
      " 97%|█████████▋| 194/200 [05:20<00:09,  1.63s/it]"
     ]
    },
    {
     "name": "stdout",
     "output_type": "stream",
     "text": [
      "[22750] Beta: 0.000, KL: 445.31, loss: 1.474, Word: 97.51, 99.95, Topo: 99.76, Assm: 99.09, PNorm: 391.45, GNorm: 11.75\n"
     ]
    },
    {
     "name": "stderr",
     "output_type": "stream",
     "text": [
      "244it [06:43,  1.65s/it]                         "
     ]
    },
    {
     "name": "stdout",
     "output_type": "stream",
     "text": [
      "[22800] Beta: 0.000, KL: 442.66, loss: 1.552, Word: 97.54, 99.97, Topo: 99.81, Assm: 98.89, PNorm: 391.66, GNorm: 20.90\n"
     ]
    },
    {
     "name": "stderr",
     "output_type": "stream",
     "text": [
      "245it [06:44,  1.65s/it]\n",
      " 24%|██▍       | 49/200 [01:20<04:14,  1.68s/it]"
     ]
    },
    {
     "name": "stdout",
     "output_type": "stream",
     "text": [
      "[22850] Beta: 0.000, KL: 442.46, loss: 1.715, Word: 97.32, 99.95, Topo: 99.77, Assm: 98.58, PNorm: 391.89, GNorm: 13.28\n"
     ]
    },
    {
     "name": "stderr",
     "output_type": "stream",
     "text": [
      " 50%|████▉     | 99/200 [02:43<02:42,  1.61s/it]"
     ]
    },
    {
     "name": "stdout",
     "output_type": "stream",
     "text": [
      "[22900] Beta: 0.000, KL: 442.33, loss: 1.659, Word: 97.16, 99.97, Topo: 99.78, Assm: 98.92, PNorm: 392.08, GNorm: 16.95\n"
     ]
    },
    {
     "name": "stderr",
     "output_type": "stream",
     "text": [
      " 74%|███████▍  | 149/200 [04:07<01:17,  1.52s/it]"
     ]
    },
    {
     "name": "stdout",
     "output_type": "stream",
     "text": [
      "[22950] Beta: 0.000, KL: 448.60, loss: 1.791, Word: 96.98, 99.94, Topo: 99.74, Assm: 98.83, PNorm: 392.28, GNorm: 18.65\n"
     ]
    },
    {
     "name": "stderr",
     "output_type": "stream",
     "text": [
      "100%|█████████▉| 199/200 [05:29<00:01,  1.66s/it]"
     ]
    },
    {
     "name": "stdout",
     "output_type": "stream",
     "text": [
      "[23000] Beta: 0.000, KL: 436.20, loss: 1.840, Word: 96.89, 99.94, Topo: 99.74, Assm: 99.00, PNorm: 392.46, GNorm: 19.66\n"
     ]
    },
    {
     "name": "stderr",
     "output_type": "stream",
     "text": [
      "245it [06:46,  1.66s/it]                         \n",
      "  2%|▏         | 4/200 [00:07<05:56,  1.82s/it]"
     ]
    },
    {
     "name": "stdout",
     "output_type": "stream",
     "text": [
      "[23050] Beta: 0.000, KL: 446.32, loss: 1.683, Word: 97.14, 99.95, Topo: 99.83, Assm: 98.87, PNorm: 392.67, GNorm: 17.26\n"
     ]
    },
    {
     "name": "stderr",
     "output_type": "stream",
     "text": [
      " 27%|██▋       | 54/200 [01:31<04:01,  1.66s/it]"
     ]
    },
    {
     "name": "stdout",
     "output_type": "stream",
     "text": [
      "[23100] Beta: 0.000, KL: 457.76, loss: 1.639, Word: 97.39, 99.95, Topo: 99.79, Assm: 99.11, PNorm: 392.84, GNorm: 18.05\n"
     ]
    },
    {
     "name": "stderr",
     "output_type": "stream",
     "text": [
      " 52%|█████▏    | 104/200 [02:54<02:35,  1.62s/it]"
     ]
    },
    {
     "name": "stdout",
     "output_type": "stream",
     "text": [
      "[23150] Beta: 0.000, KL: 449.72, loss: 1.581, Word: 97.27, 99.96, Topo: 99.86, Assm: 99.03, PNorm: 393.01, GNorm: 14.01\n"
     ]
    },
    {
     "name": "stderr",
     "output_type": "stream",
     "text": [
      " 77%|███████▋  | 154/200 [04:18<01:18,  1.70s/it]"
     ]
    },
    {
     "name": "stdout",
     "output_type": "stream",
     "text": [
      "[23200] Beta: 0.000, KL: 444.39, loss: 1.534, Word: 97.59, 99.94, Topo: 99.81, Assm: 98.70, PNorm: 393.16, GNorm: 24.67\n"
     ]
    },
    {
     "name": "stderr",
     "output_type": "stream",
     "text": [
      "204it [05:41,  1.78s/it]                         "
     ]
    },
    {
     "name": "stdout",
     "output_type": "stream",
     "text": [
      "[23250] Beta: 0.000, KL: 437.65, loss: 1.609, Word: 97.32, 99.96, Topo: 99.80, Assm: 98.71, PNorm: 393.36, GNorm: 24.15\n"
     ]
    },
    {
     "name": "stderr",
     "output_type": "stream",
     "text": [
      "245it [06:50,  1.68s/it]\n",
      "  4%|▍         | 9/200 [00:15<05:50,  1.83s/it]"
     ]
    },
    {
     "name": "stdout",
     "output_type": "stream",
     "text": [
      "[23300] Beta: 0.000, KL: 438.50, loss: 1.687, Word: 97.21, 99.97, Topo: 99.80, Assm: 98.82, PNorm: 393.54, GNorm: 28.13\n"
     ]
    },
    {
     "name": "stderr",
     "output_type": "stream",
     "text": [
      " 30%|██▉       | 59/200 [01:38<03:38,  1.55s/it]"
     ]
    },
    {
     "name": "stdout",
     "output_type": "stream",
     "text": [
      "[23350] Beta: 0.000, KL: 445.52, loss: 1.540, Word: 97.42, 99.92, Topo: 99.83, Assm: 99.11, PNorm: 393.74, GNorm: 20.79\n"
     ]
    },
    {
     "name": "stderr",
     "output_type": "stream",
     "text": [
      " 55%|█████▍    | 109/200 [03:02<02:29,  1.64s/it]"
     ]
    },
    {
     "name": "stdout",
     "output_type": "stream",
     "text": [
      "[23400] Beta: 0.000, KL: 454.36, loss: 1.839, Word: 96.86, 99.97, Topo: 99.77, Assm: 98.85, PNorm: 393.94, GNorm: 16.03\n"
     ]
    },
    {
     "name": "stderr",
     "output_type": "stream",
     "text": [
      " 80%|███████▉  | 159/200 [04:26<01:06,  1.61s/it]"
     ]
    },
    {
     "name": "stdout",
     "output_type": "stream",
     "text": [
      "[23450] Beta: 0.000, KL: 451.15, loss: 1.704, Word: 97.17, 99.98, Topo: 99.80, Assm: 98.73, PNorm: 394.13, GNorm: 17.77\n"
     ]
    },
    {
     "name": "stderr",
     "output_type": "stream",
     "text": [
      "209it [05:50,  1.67s/it]                         "
     ]
    },
    {
     "name": "stdout",
     "output_type": "stream",
     "text": [
      "[23500] Beta: 0.000, KL: 446.87, loss: 1.550, Word: 97.31, 99.94, Topo: 99.79, Assm: 98.99, PNorm: 394.32, GNorm: 17.01\n"
     ]
    },
    {
     "name": "stderr",
     "output_type": "stream",
     "text": [
      "245it [06:50,  1.67s/it]\n",
      "  7%|▋         | 14/200 [00:22<04:39,  1.50s/it]"
     ]
    },
    {
     "name": "stdout",
     "output_type": "stream",
     "text": [
      "[23550] Beta: 0.000, KL: 443.12, loss: 1.650, Word: 97.22, 99.97, Topo: 99.78, Assm: 99.02, PNorm: 394.51, GNorm: 25.99\n"
     ]
    },
    {
     "name": "stderr",
     "output_type": "stream",
     "text": [
      " 32%|███▏      | 64/200 [01:46<03:43,  1.64s/it]"
     ]
    },
    {
     "name": "stdout",
     "output_type": "stream",
     "text": [
      "[23600] Beta: 0.000, KL: 439.86, loss: 1.551, Word: 97.55, 99.97, Topo: 99.77, Assm: 99.06, PNorm: 394.68, GNorm: 17.09\n"
     ]
    },
    {
     "name": "stderr",
     "output_type": "stream",
     "text": [
      " 57%|█████▋    | 114/200 [03:10<02:20,  1.63s/it]"
     ]
    },
    {
     "name": "stdout",
     "output_type": "stream",
     "text": [
      "[23650] Beta: 0.000, KL: 442.37, loss: 1.510, Word: 97.63, 99.98, Topo: 99.81, Assm: 98.85, PNorm: 394.88, GNorm: 14.13\n"
     ]
    },
    {
     "name": "stderr",
     "output_type": "stream",
     "text": [
      " 82%|████████▏ | 164/200 [04:34<00:59,  1.66s/it]"
     ]
    },
    {
     "name": "stdout",
     "output_type": "stream",
     "text": [
      "[23700] Beta: 0.000, KL: 446.23, loss: 1.761, Word: 96.93, 99.94, Topo: 99.76, Assm: 99.30, PNorm: 395.10, GNorm: 15.71\n"
     ]
    },
    {
     "name": "stderr",
     "output_type": "stream",
     "text": [
      "214it [05:55,  1.54s/it]                         "
     ]
    },
    {
     "name": "stdout",
     "output_type": "stream",
     "text": [
      "[23750] Beta: 0.000, KL: 442.13, loss: 1.582, Word: 97.26, 99.97, Topo: 99.81, Assm: 99.23, PNorm: 395.29, GNorm: 14.30\n"
     ]
    },
    {
     "name": "stderr",
     "output_type": "stream",
     "text": [
      "245it [06:49,  1.67s/it]\n",
      " 10%|▉         | 19/200 [00:31<04:43,  1.57s/it]"
     ]
    },
    {
     "name": "stdout",
     "output_type": "stream",
     "text": [
      "[23800] Beta: 0.000, KL: 434.06, loss: 1.612, Word: 97.36, 99.96, Topo: 99.79, Assm: 99.05, PNorm: 395.47, GNorm: 19.25\n"
     ]
    },
    {
     "name": "stderr",
     "output_type": "stream",
     "text": [
      " 34%|███▍      | 69/200 [01:55<03:35,  1.65s/it]"
     ]
    },
    {
     "name": "stdout",
     "output_type": "stream",
     "text": [
      "[23850] Beta: 0.000, KL: 455.18, loss: 1.457, Word: 97.64, 99.98, Topo: 99.76, Assm: 98.95, PNorm: 395.64, GNorm: 24.82\n"
     ]
    },
    {
     "name": "stderr",
     "output_type": "stream",
     "text": [
      " 60%|█████▉    | 119/200 [03:19<02:13,  1.65s/it]"
     ]
    },
    {
     "name": "stdout",
     "output_type": "stream",
     "text": [
      "[23900] Beta: 0.000, KL: 448.89, loss: 1.484, Word: 97.54, 99.96, Topo: 99.83, Assm: 98.94, PNorm: 395.80, GNorm: 15.57\n"
     ]
    },
    {
     "name": "stderr",
     "output_type": "stream",
     "text": [
      " 84%|████████▍ | 169/200 [04:43<00:49,  1.58s/it]"
     ]
    },
    {
     "name": "stdout",
     "output_type": "stream",
     "text": [
      "[23950] Beta: 0.000, KL: 443.80, loss: 1.516, Word: 97.55, 99.97, Topo: 99.76, Assm: 98.96, PNorm: 395.99, GNorm: 16.41\n"
     ]
    },
    {
     "name": "stderr",
     "output_type": "stream",
     "text": [
      "219it [06:08,  1.61s/it]                         "
     ]
    },
    {
     "name": "stdout",
     "output_type": "stream",
     "text": [
      "[24000] Beta: 0.000, KL: 449.21, loss: 1.474, Word: 97.59, 99.98, Topo: 99.82, Assm: 98.97, PNorm: 396.19, GNorm: 18.88\n"
     ]
    },
    {
     "name": "stderr",
     "output_type": "stream",
     "text": [
      "245it [06:52,  1.68s/it]\n",
      " 12%|█▏        | 24/200 [00:39<04:36,  1.57s/it]"
     ]
    },
    {
     "name": "stdout",
     "output_type": "stream",
     "text": [
      "[24050] Beta: 0.000, KL: 450.30, loss: 1.498, Word: 97.57, 99.98, Topo: 99.81, Assm: 98.97, PNorm: 396.38, GNorm: 24.39\n"
     ]
    },
    {
     "name": "stderr",
     "output_type": "stream",
     "text": [
      " 37%|███▋      | 74/200 [02:03<03:34,  1.70s/it]"
     ]
    },
    {
     "name": "stdout",
     "output_type": "stream",
     "text": [
      "[24100] Beta: 0.000, KL: 447.62, loss: 1.431, Word: 97.64, 99.98, Topo: 99.80, Assm: 99.09, PNorm: 396.56, GNorm: 18.74\n"
     ]
    },
    {
     "name": "stderr",
     "output_type": "stream",
     "text": [
      " 62%|██████▏   | 124/200 [03:29<02:16,  1.80s/it]"
     ]
    },
    {
     "name": "stdout",
     "output_type": "stream",
     "text": [
      "[24150] Beta: 0.000, KL: 438.95, loss: 1.331, Word: 97.89, 99.97, Topo: 99.80, Assm: 99.05, PNorm: 396.70, GNorm: 21.99\n"
     ]
    },
    {
     "name": "stderr",
     "output_type": "stream",
     "text": [
      " 87%|████████▋ | 174/200 [04:52<00:42,  1.62s/it]"
     ]
    },
    {
     "name": "stdout",
     "output_type": "stream",
     "text": [
      "[24200] Beta: 0.000, KL: 445.27, loss: 1.466, Word: 97.81, 99.95, Topo: 99.79, Assm: 98.71, PNorm: 396.90, GNorm: 15.13\n"
     ]
    },
    {
     "name": "stderr",
     "output_type": "stream",
     "text": [
      "224it [06:15,  1.62s/it]                         "
     ]
    },
    {
     "name": "stdout",
     "output_type": "stream",
     "text": [
      "[24250] Beta: 0.000, KL: 440.08, loss: 1.575, Word: 97.40, 99.97, Topo: 99.79, Assm: 98.63, PNorm: 397.11, GNorm: 20.98\n"
     ]
    },
    {
     "name": "stderr",
     "output_type": "stream",
     "text": [
      "245it [06:50,  1.68s/it]\n",
      " 14%|█▍        | 29/200 [00:47<04:36,  1.62s/it]"
     ]
    },
    {
     "name": "stdout",
     "output_type": "stream",
     "text": [
      "[24300] Beta: 0.000, KL: 439.18, loss: 1.596, Word: 97.50, 99.98, Topo: 99.76, Assm: 98.90, PNorm: 397.30, GNorm: 15.41\n"
     ]
    },
    {
     "name": "stderr",
     "output_type": "stream",
     "text": [
      " 40%|███▉      | 79/200 [02:10<03:11,  1.58s/it]"
     ]
    },
    {
     "name": "stdout",
     "output_type": "stream",
     "text": [
      "[24350] Beta: 0.000, KL: 451.91, loss: 1.605, Word: 97.51, 99.94, Topo: 99.77, Assm: 98.83, PNorm: 397.48, GNorm: 25.44\n"
     ]
    },
    {
     "name": "stderr",
     "output_type": "stream",
     "text": [
      " 64%|██████▍   | 129/200 [03:36<02:03,  1.74s/it]"
     ]
    },
    {
     "name": "stdout",
     "output_type": "stream",
     "text": [
      "[24400] Beta: 0.000, KL: 454.57, loss: 1.555, Word: 97.57, 99.96, Topo: 99.75, Assm: 98.78, PNorm: 397.68, GNorm: 16.84\n"
     ]
    },
    {
     "name": "stderr",
     "output_type": "stream",
     "text": [
      " 90%|████████▉ | 179/200 [04:58<00:34,  1.66s/it]"
     ]
    },
    {
     "name": "stdout",
     "output_type": "stream",
     "text": [
      "[24450] Beta: 0.000, KL: 453.85, loss: 1.606, Word: 97.49, 99.97, Topo: 99.73, Assm: 98.93, PNorm: 397.86, GNorm: 33.37\n"
     ]
    },
    {
     "name": "stderr",
     "output_type": "stream",
     "text": [
      "229it [06:22,  1.68s/it]                         "
     ]
    },
    {
     "name": "stdout",
     "output_type": "stream",
     "text": [
      "[24500] Beta: 0.000, KL: 447.06, loss: 1.765, Word: 97.24, 99.96, Topo: 99.73, Assm: 98.80, PNorm: 398.08, GNorm: 16.52\n"
     ]
    },
    {
     "name": "stderr",
     "output_type": "stream",
     "text": [
      "245it [06:50,  1.67s/it]\n",
      " 17%|█▋        | 34/200 [00:58<04:26,  1.61s/it]"
     ]
    },
    {
     "name": "stdout",
     "output_type": "stream",
     "text": [
      "[24550] Beta: 0.000, KL: 438.28, loss: 1.545, Word: 97.44, 99.97, Topo: 99.79, Assm: 99.20, PNorm: 398.23, GNorm: 20.34\n"
     ]
    },
    {
     "name": "stderr",
     "output_type": "stream",
     "text": [
      " 42%|████▏     | 84/200 [02:21<03:01,  1.57s/it]"
     ]
    },
    {
     "name": "stdout",
     "output_type": "stream",
     "text": [
      "[24600] Beta: 0.000, KL: 441.69, loss: 1.404, Word: 97.73, 99.96, Topo: 99.81, Assm: 99.24, PNorm: 398.40, GNorm: 19.07\n"
     ]
    },
    {
     "name": "stderr",
     "output_type": "stream",
     "text": [
      " 67%|██████▋   | 134/200 [03:44<01:50,  1.68s/it]"
     ]
    },
    {
     "name": "stdout",
     "output_type": "stream",
     "text": [
      "[24650] Beta: 0.000, KL: 450.48, loss: 1.426, Word: 97.75, 99.98, Topo: 99.78, Assm: 99.12, PNorm: 398.55, GNorm: 16.36\n"
     ]
    },
    {
     "name": "stderr",
     "output_type": "stream",
     "text": [
      " 92%|█████████▏| 184/200 [05:09<00:29,  1.82s/it]"
     ]
    },
    {
     "name": "stdout",
     "output_type": "stream",
     "text": [
      "[24700] Beta: 0.000, KL: 436.73, loss: 1.445, Word: 97.72, 99.95, Topo: 99.80, Assm: 99.29, PNorm: 398.72, GNorm: 17.35\n"
     ]
    },
    {
     "name": "stderr",
     "output_type": "stream",
     "text": [
      "234it [06:34,  1.67s/it]                         "
     ]
    },
    {
     "name": "stdout",
     "output_type": "stream",
     "text": [
      "[24750] Beta: 0.000, KL: 444.07, loss: 1.476, Word: 97.56, 99.96, Topo: 99.74, Assm: 99.20, PNorm: 398.93, GNorm: 16.19\n"
     ]
    },
    {
     "name": "stderr",
     "output_type": "stream",
     "text": [
      "245it [06:52,  1.68s/it]\n",
      " 20%|█▉        | 39/200 [01:05<04:08,  1.54s/it]"
     ]
    },
    {
     "name": "stdout",
     "output_type": "stream",
     "text": [
      "[24800] Beta: 0.000, KL: 452.57, loss: 1.332, Word: 97.77, 100.00, Topo: 99.82, Assm: 99.20, PNorm: 399.07, GNorm: 14.78\n"
     ]
    },
    {
     "name": "stderr",
     "output_type": "stream",
     "text": [
      " 44%|████▍     | 89/200 [02:28<03:13,  1.74s/it]"
     ]
    },
    {
     "name": "stdout",
     "output_type": "stream",
     "text": [
      "[24850] Beta: 0.000, KL: 452.66, loss: 1.336, Word: 97.81, 100.00, Topo: 99.85, Assm: 99.25, PNorm: 399.21, GNorm: 19.12\n"
     ]
    },
    {
     "name": "stderr",
     "output_type": "stream",
     "text": [
      " 70%|██████▉   | 139/200 [03:53<01:37,  1.59s/it]"
     ]
    },
    {
     "name": "stdout",
     "output_type": "stream",
     "text": [
      "[24900] Beta: 0.000, KL: 455.97, loss: 1.303, Word: 97.85, 99.98, Topo: 99.81, Assm: 99.45, PNorm: 399.37, GNorm: 17.50\n"
     ]
    },
    {
     "name": "stderr",
     "output_type": "stream",
     "text": [
      " 94%|█████████▍| 189/200 [05:16<00:17,  1.59s/it]"
     ]
    },
    {
     "name": "stdout",
     "output_type": "stream",
     "text": [
      "[24950] Beta: 0.000, KL: 448.37, loss: 1.305, Word: 97.85, 99.96, Topo: 99.80, Assm: 99.34, PNorm: 399.54, GNorm: 17.47\n"
     ]
    },
    {
     "name": "stderr",
     "output_type": "stream",
     "text": [
      "239it [06:42,  1.74s/it]                         "
     ]
    },
    {
     "name": "stdout",
     "output_type": "stream",
     "text": [
      "learning rate: 0.000810\n",
      "[25000] Beta: 0.000, KL: 452.27, loss: 1.357, Word: 97.79, 99.99, Topo: 99.82, Assm: 99.23, PNorm: 399.70, GNorm: 13.75\n"
     ]
    },
    {
     "name": "stderr",
     "output_type": "stream",
     "text": [
      "/home/quang/anaconda3/envs/denovo/lib/python3.6/site-packages/torch/optim/lr_scheduler.py:449: UserWarning: To get the last learning rate computed by the scheduler, please use `get_last_lr()`.\n",
      "  \"please use `get_last_lr()`.\", UserWarning)\n",
      "245it [06:52,  1.68s/it]\n",
      " 22%|██▏       | 44/200 [01:13<04:04,  1.57s/it]"
     ]
    },
    {
     "name": "stdout",
     "output_type": "stream",
     "text": [
      "[25050] Beta: 0.000, KL: 447.41, loss: 1.324, Word: 97.85, 99.97, Topo: 99.82, Assm: 99.14, PNorm: 399.85, GNorm: 18.66\n"
     ]
    },
    {
     "name": "stderr",
     "output_type": "stream",
     "text": [
      " 47%|████▋     | 94/200 [02:36<02:59,  1.70s/it]"
     ]
    },
    {
     "name": "stdout",
     "output_type": "stream",
     "text": [
      "[25100] Beta: 0.000, KL: 450.43, loss: 1.141, Word: 98.13, 99.98, Topo: 99.84, Assm: 99.38, PNorm: 399.96, GNorm: 13.37\n"
     ]
    },
    {
     "name": "stderr",
     "output_type": "stream",
     "text": [
      " 72%|███████▏  | 144/200 [04:01<01:44,  1.87s/it]"
     ]
    },
    {
     "name": "stdout",
     "output_type": "stream",
     "text": [
      "[25150] Beta: 0.000, KL: 443.53, loss: 1.154, Word: 98.14, 100.00, Topo: 99.83, Assm: 99.15, PNorm: 400.08, GNorm: 14.68\n"
     ]
    },
    {
     "name": "stderr",
     "output_type": "stream",
     "text": [
      " 97%|█████████▋| 194/200 [05:23<00:09,  1.65s/it]"
     ]
    },
    {
     "name": "stdout",
     "output_type": "stream",
     "text": [
      "[25200] Beta: 0.000, KL: 436.37, loss: 1.103, Word: 98.15, 99.97, Topo: 99.86, Assm: 99.41, PNorm: 400.22, GNorm: 9.41\n"
     ]
    },
    {
     "name": "stderr",
     "output_type": "stream",
     "text": [
      "244it [06:48,  1.70s/it]                         "
     ]
    },
    {
     "name": "stdout",
     "output_type": "stream",
     "text": [
      "[25250] Beta: 0.000, KL: 447.69, loss: 0.920, Word: 98.57, 99.98, Topo: 99.91, Assm: 99.28, PNorm: 400.33, GNorm: 9.47\n"
     ]
    },
    {
     "name": "stderr",
     "output_type": "stream",
     "text": [
      "245it [06:50,  1.67s/it]\n",
      " 24%|██▍       | 49/200 [01:22<03:57,  1.57s/it]"
     ]
    },
    {
     "name": "stdout",
     "output_type": "stream",
     "text": [
      "[25300] Beta: 0.000, KL: 449.27, loss: 0.810, Word: 98.74, 99.98, Topo: 99.91, Assm: 99.56, PNorm: 400.41, GNorm: 7.39\n"
     ]
    },
    {
     "name": "stderr",
     "output_type": "stream",
     "text": [
      " 50%|████▉     | 99/200 [02:46<02:39,  1.58s/it]"
     ]
    },
    {
     "name": "stdout",
     "output_type": "stream",
     "text": [
      "[25350] Beta: 0.000, KL: 444.62, loss: 0.887, Word: 98.54, 99.99, Topo: 99.89, Assm: 99.57, PNorm: 400.48, GNorm: 16.70\n"
     ]
    },
    {
     "name": "stderr",
     "output_type": "stream",
     "text": [
      " 74%|███████▍  | 149/200 [04:09<01:23,  1.65s/it]"
     ]
    },
    {
     "name": "stdout",
     "output_type": "stream",
     "text": [
      "[25400] Beta: 0.000, KL: 452.26, loss: 0.837, Word: 98.64, 99.98, Topo: 99.92, Assm: 99.59, PNorm: 400.57, GNorm: 12.50\n"
     ]
    },
    {
     "name": "stderr",
     "output_type": "stream",
     "text": [
      "100%|█████████▉| 199/200 [05:34<00:01,  1.72s/it]"
     ]
    },
    {
     "name": "stdout",
     "output_type": "stream",
     "text": [
      "[25450] Beta: 0.000, KL: 444.97, loss: 0.963, Word: 98.50, 99.99, Topo: 99.93, Assm: 99.43, PNorm: 400.68, GNorm: 9.73\n"
     ]
    },
    {
     "name": "stderr",
     "output_type": "stream",
     "text": [
      "245it [06:51,  1.68s/it]                         \n",
      "  2%|▏         | 4/200 [00:07<05:47,  1.77s/it]"
     ]
    },
    {
     "name": "stdout",
     "output_type": "stream",
     "text": [
      "[25500] Beta: 0.000, KL: 457.47, loss: 0.878, Word: 98.54, 99.99, Topo: 99.89, Assm: 99.47, PNorm: 400.78, GNorm: 7.61\n"
     ]
    },
    {
     "name": "stderr",
     "output_type": "stream",
     "text": [
      " 27%|██▋       | 54/200 [01:29<04:19,  1.78s/it]"
     ]
    },
    {
     "name": "stdout",
     "output_type": "stream",
     "text": [
      "[25550] Beta: 0.000, KL: 454.09, loss: 0.916, Word: 98.54, 99.99, Topo: 99.91, Assm: 99.37, PNorm: 400.88, GNorm: 16.49\n"
     ]
    },
    {
     "name": "stderr",
     "output_type": "stream",
     "text": [
      " 52%|█████▏    | 104/200 [02:57<02:46,  1.73s/it]"
     ]
    },
    {
     "name": "stdout",
     "output_type": "stream",
     "text": [
      "[25600] Beta: 0.000, KL: 460.61, loss: 0.887, Word: 98.72, 99.99, Topo: 99.90, Assm: 99.12, PNorm: 401.00, GNorm: 10.41\n"
     ]
    },
    {
     "name": "stderr",
     "output_type": "stream",
     "text": [
      " 77%|███████▋  | 154/200 [04:18<01:08,  1.49s/it]"
     ]
    },
    {
     "name": "stdout",
     "output_type": "stream",
     "text": [
      "[25650] Beta: 0.000, KL: 457.03, loss: 1.065, Word: 98.35, 99.98, Topo: 99.90, Assm: 98.93, PNorm: 401.11, GNorm: 17.11\n"
     ]
    },
    {
     "name": "stderr",
     "output_type": "stream",
     "text": [
      "204it [05:41,  1.68s/it]                         "
     ]
    },
    {
     "name": "stdout",
     "output_type": "stream",
     "text": [
      "[25700] Beta: 0.000, KL: 462.36, loss: 1.076, Word: 98.31, 99.98, Topo: 99.86, Assm: 99.36, PNorm: 401.23, GNorm: 19.97\n"
     ]
    },
    {
     "name": "stderr",
     "output_type": "stream",
     "text": [
      "245it [06:50,  1.68s/it]\n",
      "  4%|▍         | 9/200 [00:14<04:43,  1.48s/it]"
     ]
    },
    {
     "name": "stdout",
     "output_type": "stream",
     "text": [
      "[25750] Beta: 0.000, KL: 452.92, loss: 0.915, Word: 98.45, 99.98, Topo: 99.91, Assm: 99.48, PNorm: 401.34, GNorm: 18.14\n"
     ]
    },
    {
     "name": "stderr",
     "output_type": "stream",
     "text": [
      " 30%|██▉       | 59/200 [01:37<04:20,  1.85s/it]"
     ]
    },
    {
     "name": "stdout",
     "output_type": "stream",
     "text": [
      "[25800] Beta: 0.000, KL: 447.73, loss: 1.125, Word: 98.23, 99.98, Topo: 99.89, Assm: 98.81, PNorm: 401.49, GNorm: 14.11\n"
     ]
    },
    {
     "name": "stderr",
     "output_type": "stream",
     "text": [
      " 55%|█████▍    | 109/200 [03:03<02:35,  1.70s/it]"
     ]
    },
    {
     "name": "stdout",
     "output_type": "stream",
     "text": [
      "[25850] Beta: 0.000, KL: 446.32, loss: 0.954, Word: 98.51, 99.99, Topo: 99.89, Assm: 99.09, PNorm: 401.62, GNorm: 12.71\n"
     ]
    },
    {
     "name": "stderr",
     "output_type": "stream",
     "text": [
      " 80%|███████▉  | 159/200 [04:26<01:11,  1.74s/it]"
     ]
    },
    {
     "name": "stdout",
     "output_type": "stream",
     "text": [
      "[25900] Beta: 0.000, KL: 455.05, loss: 1.010, Word: 98.34, 99.98, Topo: 99.88, Assm: 99.02, PNorm: 401.74, GNorm: 7.49\n"
     ]
    },
    {
     "name": "stderr",
     "output_type": "stream",
     "text": [
      "209it [05:49,  1.72s/it]                         "
     ]
    },
    {
     "name": "stdout",
     "output_type": "stream",
     "text": [
      "[25950] Beta: 0.000, KL: 455.89, loss: 1.012, Word: 98.41, 99.99, Topo: 99.88, Assm: 99.18, PNorm: 401.88, GNorm: 17.88\n"
     ]
    },
    {
     "name": "stderr",
     "output_type": "stream",
     "text": [
      "245it [06:50,  1.67s/it]\n",
      "  7%|▋         | 14/200 [00:24<05:23,  1.74s/it]"
     ]
    },
    {
     "name": "stdout",
     "output_type": "stream",
     "text": [
      "[26000] Beta: 0.000, KL: 458.60, loss: 1.043, Word: 98.33, 99.98, Topo: 99.87, Assm: 99.31, PNorm: 402.03, GNorm: 16.06\n"
     ]
    },
    {
     "name": "stderr",
     "output_type": "stream",
     "text": [
      " 32%|███▏      | 64/200 [01:47<04:10,  1.84s/it]"
     ]
    },
    {
     "name": "stdout",
     "output_type": "stream",
     "text": [
      "[26050] Beta: 0.000, KL: 456.22, loss: 1.091, Word: 98.21, 99.99, Topo: 99.88, Assm: 99.04, PNorm: 402.17, GNorm: 17.85\n"
     ]
    },
    {
     "name": "stderr",
     "output_type": "stream",
     "text": [
      " 57%|█████▋    | 114/200 [03:11<02:19,  1.62s/it]"
     ]
    },
    {
     "name": "stdout",
     "output_type": "stream",
     "text": [
      "[26100] Beta: 0.000, KL: 449.03, loss: 1.106, Word: 98.29, 99.98, Topo: 99.87, Assm: 99.30, PNorm: 402.30, GNorm: 14.53\n"
     ]
    },
    {
     "name": "stderr",
     "output_type": "stream",
     "text": [
      " 82%|████████▏ | 164/200 [04:34<00:56,  1.56s/it]"
     ]
    },
    {
     "name": "stdout",
     "output_type": "stream",
     "text": [
      "[26150] Beta: 0.000, KL: 450.70, loss: 1.172, Word: 98.07, 99.99, Topo: 99.83, Assm: 99.33, PNorm: 402.45, GNorm: 15.37\n"
     ]
    },
    {
     "name": "stderr",
     "output_type": "stream",
     "text": [
      "214it [05:57,  1.57s/it]                         "
     ]
    },
    {
     "name": "stdout",
     "output_type": "stream",
     "text": [
      "[26200] Beta: 0.000, KL: 449.43, loss: 1.264, Word: 97.95, 99.97, Topo: 99.82, Assm: 98.98, PNorm: 402.64, GNorm: 17.98\n"
     ]
    },
    {
     "name": "stderr",
     "output_type": "stream",
     "text": [
      "245it [06:51,  1.68s/it]\n",
      " 10%|▉         | 19/200 [00:34<05:09,  1.71s/it]"
     ]
    },
    {
     "name": "stdout",
     "output_type": "stream",
     "text": [
      "[26250] Beta: 0.000, KL: 453.07, loss: 1.432, Word: 97.56, 99.98, Topo: 99.78, Assm: 98.97, PNorm: 402.83, GNorm: 18.55\n"
     ]
    },
    {
     "name": "stderr",
     "output_type": "stream",
     "text": [
      " 34%|███▍      | 69/200 [01:55<03:29,  1.60s/it]"
     ]
    },
    {
     "name": "stdout",
     "output_type": "stream",
     "text": [
      "[26300] Beta: 0.000, KL: 450.80, loss: 1.452, Word: 97.78, 99.97, Topo: 99.75, Assm: 99.21, PNorm: 403.02, GNorm: 17.59\n"
     ]
    },
    {
     "name": "stderr",
     "output_type": "stream",
     "text": [
      " 60%|█████▉    | 119/200 [03:20<02:15,  1.68s/it]"
     ]
    },
    {
     "name": "stdout",
     "output_type": "stream",
     "text": [
      "[26350] Beta: 0.000, KL: 452.07, loss: 1.372, Word: 97.76, 99.97, Topo: 99.76, Assm: 99.10, PNorm: 403.21, GNorm: 23.02\n"
     ]
    },
    {
     "name": "stderr",
     "output_type": "stream",
     "text": [
      " 84%|████████▍ | 169/200 [04:43<00:51,  1.65s/it]"
     ]
    },
    {
     "name": "stdout",
     "output_type": "stream",
     "text": [
      "[26400] Beta: 0.000, KL: 456.15, loss: 1.535, Word: 97.48, 99.95, Topo: 99.75, Assm: 99.04, PNorm: 403.42, GNorm: 16.46\n"
     ]
    },
    {
     "name": "stderr",
     "output_type": "stream",
     "text": [
      "219it [06:05,  1.74s/it]                         "
     ]
    },
    {
     "name": "stdout",
     "output_type": "stream",
     "text": [
      "[26450] Beta: 0.000, KL: 434.85, loss: 1.717, Word: 97.21, 99.95, Topo: 99.76, Assm: 99.07, PNorm: 403.63, GNorm: 20.62\n"
     ]
    },
    {
     "name": "stderr",
     "output_type": "stream",
     "text": [
      "245it [06:48,  1.67s/it]\n",
      " 12%|█▏        | 24/200 [00:40<04:56,  1.69s/it]"
     ]
    },
    {
     "name": "stdout",
     "output_type": "stream",
     "text": [
      "[26500] Beta: 0.000, KL: 441.64, loss: 1.565, Word: 97.50, 99.97, Topo: 99.77, Assm: 99.17, PNorm: 403.80, GNorm: 19.85\n"
     ]
    },
    {
     "name": "stderr",
     "output_type": "stream",
     "text": [
      " 37%|███▋      | 74/200 [02:00<03:27,  1.65s/it]"
     ]
    },
    {
     "name": "stdout",
     "output_type": "stream",
     "text": [
      "[26550] Beta: 0.000, KL: 442.90, loss: 1.524, Word: 97.51, 99.96, Topo: 99.77, Assm: 99.26, PNorm: 403.95, GNorm: 13.54\n"
     ]
    },
    {
     "name": "stderr",
     "output_type": "stream",
     "text": [
      " 62%|██████▏   | 124/200 [03:25<02:16,  1.80s/it]"
     ]
    },
    {
     "name": "stdout",
     "output_type": "stream",
     "text": [
      "[26600] Beta: 0.000, KL: 432.19, loss: 1.541, Word: 97.50, 99.98, Topo: 99.73, Assm: 99.28, PNorm: 404.14, GNorm: 29.18\n"
     ]
    },
    {
     "name": "stderr",
     "output_type": "stream",
     "text": [
      " 87%|████████▋ | 174/200 [04:47<00:42,  1.65s/it]"
     ]
    },
    {
     "name": "stdout",
     "output_type": "stream",
     "text": [
      "[26650] Beta: 0.000, KL: 445.51, loss: 1.375, Word: 97.69, 99.96, Topo: 99.81, Assm: 98.99, PNorm: 404.30, GNorm: 24.13\n"
     ]
    },
    {
     "name": "stderr",
     "output_type": "stream",
     "text": [
      "224it [06:10,  1.68s/it]                         "
     ]
    },
    {
     "name": "stdout",
     "output_type": "stream",
     "text": [
      "[26700] Beta: 0.000, KL: 451.97, loss: 1.606, Word: 97.33, 99.96, Topo: 99.82, Assm: 98.81, PNorm: 404.49, GNorm: 16.60\n"
     ]
    },
    {
     "name": "stderr",
     "output_type": "stream",
     "text": [
      "245it [06:47,  1.66s/it]\n",
      " 14%|█▍        | 29/200 [00:49<04:54,  1.72s/it]"
     ]
    },
    {
     "name": "stdout",
     "output_type": "stream",
     "text": [
      "[26750] Beta: 0.000, KL: 438.92, loss: 1.703, Word: 97.30, 99.98, Topo: 99.78, Assm: 99.03, PNorm: 404.69, GNorm: 23.68\n"
     ]
    },
    {
     "name": "stderr",
     "output_type": "stream",
     "text": [
      " 40%|███▉      | 79/200 [02:11<03:07,  1.55s/it]"
     ]
    },
    {
     "name": "stdout",
     "output_type": "stream",
     "text": [
      "[26800] Beta: 0.000, KL: 448.50, loss: 1.536, Word: 97.46, 99.98, Topo: 99.78, Assm: 98.79, PNorm: 404.84, GNorm: 17.50\n"
     ]
    },
    {
     "name": "stderr",
     "output_type": "stream",
     "text": [
      " 64%|██████▍   | 129/200 [03:36<02:05,  1.76s/it]"
     ]
    },
    {
     "name": "stdout",
     "output_type": "stream",
     "text": [
      "[26850] Beta: 0.000, KL: 452.32, loss: 1.600, Word: 97.33, 99.97, Topo: 99.80, Assm: 98.89, PNorm: 405.00, GNorm: 18.09\n"
     ]
    },
    {
     "name": "stderr",
     "output_type": "stream",
     "text": [
      " 90%|████████▉ | 179/200 [04:58<00:32,  1.54s/it]"
     ]
    },
    {
     "name": "stdout",
     "output_type": "stream",
     "text": [
      "[26900] Beta: 0.000, KL: 467.06, loss: 1.507, Word: 97.69, 99.96, Topo: 99.79, Assm: 98.76, PNorm: 405.15, GNorm: 23.44\n"
     ]
    },
    {
     "name": "stderr",
     "output_type": "stream",
     "text": [
      "229it [06:22,  1.63s/it]                         "
     ]
    },
    {
     "name": "stdout",
     "output_type": "stream",
     "text": [
      "[26950] Beta: 0.000, KL: 487.00, loss: 1.398, Word: 97.59, 99.96, Topo: 99.81, Assm: 99.34, PNorm: 405.30, GNorm: 13.46\n"
     ]
    },
    {
     "name": "stderr",
     "output_type": "stream",
     "text": [
      "245it [06:49,  1.67s/it]\n",
      " 17%|█▋        | 34/200 [00:54<04:25,  1.60s/it]"
     ]
    },
    {
     "name": "stdout",
     "output_type": "stream",
     "text": [
      "[27000] Beta: 0.000, KL: 475.90, loss: 1.230, Word: 97.84, 99.98, Topo: 99.81, Assm: 99.13, PNorm: 405.43, GNorm: 11.76\n"
     ]
    },
    {
     "name": "stderr",
     "output_type": "stream",
     "text": [
      " 42%|████▏     | 84/200 [02:19<03:13,  1.67s/it]"
     ]
    },
    {
     "name": "stdout",
     "output_type": "stream",
     "text": [
      "[27050] Beta: 0.000, KL: 477.46, loss: 1.290, Word: 97.90, 99.97, Topo: 99.84, Assm: 99.11, PNorm: 405.56, GNorm: 17.68\n"
     ]
    },
    {
     "name": "stderr",
     "output_type": "stream",
     "text": [
      " 67%|██████▋   | 134/200 [03:45<01:48,  1.65s/it]"
     ]
    },
    {
     "name": "stdout",
     "output_type": "stream",
     "text": [
      "[27100] Beta: 0.000, KL: 472.12, loss: 1.323, Word: 97.67, 99.98, Topo: 99.85, Assm: 99.46, PNorm: 405.69, GNorm: 14.59\n"
     ]
    },
    {
     "name": "stderr",
     "output_type": "stream",
     "text": [
      " 92%|█████████▏| 184/200 [05:07<00:28,  1.78s/it]"
     ]
    },
    {
     "name": "stdout",
     "output_type": "stream",
     "text": [
      "[27150] Beta: 0.000, KL: 465.43, loss: 1.121, Word: 98.00, 99.98, Topo: 99.85, Assm: 99.65, PNorm: 405.82, GNorm: 12.59\n"
     ]
    },
    {
     "name": "stderr",
     "output_type": "stream",
     "text": [
      "234it [06:33,  1.73s/it]                         "
     ]
    },
    {
     "name": "stdout",
     "output_type": "stream",
     "text": [
      "[27200] Beta: 0.000, KL: 466.04, loss: 1.144, Word: 98.04, 99.98, Topo: 99.82, Assm: 99.53, PNorm: 405.95, GNorm: 16.10\n"
     ]
    },
    {
     "name": "stderr",
     "output_type": "stream",
     "text": [
      "245it [06:50,  1.68s/it]\n",
      " 20%|█▉        | 39/200 [01:05<04:30,  1.68s/it]"
     ]
    },
    {
     "name": "stdout",
     "output_type": "stream",
     "text": [
      "[27250] Beta: 0.000, KL: 462.84, loss: 1.042, Word: 98.13, 100.00, Topo: 99.89, Assm: 99.38, PNorm: 406.06, GNorm: 11.89\n"
     ]
    },
    {
     "name": "stderr",
     "output_type": "stream",
     "text": [
      " 44%|████▍     | 89/200 [02:30<03:03,  1.66s/it]"
     ]
    },
    {
     "name": "stdout",
     "output_type": "stream",
     "text": [
      "[27300] Beta: 0.000, KL: 456.86, loss: 1.011, Word: 98.40, 99.95, Topo: 99.90, Assm: 99.42, PNorm: 406.17, GNorm: 14.87\n"
     ]
    },
    {
     "name": "stderr",
     "output_type": "stream",
     "text": [
      " 70%|██████▉   | 139/200 [03:53<01:39,  1.63s/it]"
     ]
    },
    {
     "name": "stdout",
     "output_type": "stream",
     "text": [
      "[27350] Beta: 0.000, KL: 458.05, loss: 0.997, Word: 98.45, 99.98, Topo: 99.90, Assm: 99.54, PNorm: 406.28, GNorm: 16.53\n"
     ]
    },
    {
     "name": "stderr",
     "output_type": "stream",
     "text": [
      " 94%|█████████▍| 189/200 [05:17<00:19,  1.75s/it]"
     ]
    },
    {
     "name": "stdout",
     "output_type": "stream",
     "text": [
      "[27400] Beta: 0.000, KL: 455.15, loss: 1.025, Word: 98.45, 99.97, Topo: 99.83, Assm: 99.27, PNorm: 406.41, GNorm: 19.40\n"
     ]
    },
    {
     "name": "stderr",
     "output_type": "stream",
     "text": [
      "239it [06:40,  1.58s/it]                         "
     ]
    },
    {
     "name": "stdout",
     "output_type": "stream",
     "text": [
      "[27450] Beta: 0.000, KL: 453.55, loss: 0.957, Word: 98.45, 99.98, Topo: 99.87, Assm: 99.31, PNorm: 406.53, GNorm: 13.74\n"
     ]
    },
    {
     "name": "stderr",
     "output_type": "stream",
     "text": [
      "245it [06:52,  1.68s/it]\n",
      " 22%|██▏       | 44/200 [01:13<04:32,  1.75s/it]"
     ]
    },
    {
     "name": "stdout",
     "output_type": "stream",
     "text": [
      "[27500] Beta: 0.000, KL: 453.20, loss: 0.947, Word: 98.52, 99.98, Topo: 99.90, Assm: 99.52, PNorm: 406.63, GNorm: 13.42\n"
     ]
    },
    {
     "name": "stderr",
     "output_type": "stream",
     "text": [
      " 47%|████▋     | 94/200 [02:37<03:07,  1.77s/it]"
     ]
    },
    {
     "name": "stdout",
     "output_type": "stream",
     "text": [
      "[27550] Beta: 0.000, KL: 454.68, loss: 0.949, Word: 98.41, 100.00, Topo: 99.88, Assm: 99.43, PNorm: 406.75, GNorm: 17.75\n"
     ]
    },
    {
     "name": "stderr",
     "output_type": "stream",
     "text": [
      " 72%|███████▏  | 144/200 [04:02<01:27,  1.55s/it]"
     ]
    },
    {
     "name": "stdout",
     "output_type": "stream",
     "text": [
      "[27600] Beta: 0.000, KL: 444.94, loss: 0.873, Word: 98.60, 99.98, Topo: 99.89, Assm: 99.66, PNorm: 406.87, GNorm: 9.22\n"
     ]
    },
    {
     "name": "stderr",
     "output_type": "stream",
     "text": [
      " 97%|█████████▋| 194/200 [05:27<00:09,  1.64s/it]"
     ]
    },
    {
     "name": "stdout",
     "output_type": "stream",
     "text": [
      "[27650] Beta: 0.000, KL: 446.85, loss: 0.901, Word: 98.59, 99.98, Topo: 99.92, Assm: 99.48, PNorm: 406.96, GNorm: 16.05\n"
     ]
    },
    {
     "name": "stderr",
     "output_type": "stream",
     "text": [
      "244it [06:52,  1.74s/it]                         "
     ]
    },
    {
     "name": "stdout",
     "output_type": "stream",
     "text": [
      "[27700] Beta: 0.000, KL: 452.28, loss: 0.815, Word: 98.70, 99.99, Topo: 99.90, Assm: 99.56, PNorm: 407.07, GNorm: 14.38\n"
     ]
    },
    {
     "name": "stderr",
     "output_type": "stream",
     "text": [
      "245it [06:54,  1.69s/it]\n",
      " 24%|██▍       | 49/200 [01:21<04:08,  1.65s/it]"
     ]
    },
    {
     "name": "stdout",
     "output_type": "stream",
     "text": [
      "[27750] Beta: 0.000, KL: 445.17, loss: 0.767, Word: 98.89, 99.99, Topo: 99.90, Assm: 99.65, PNorm: 407.17, GNorm: 17.27\n"
     ]
    },
    {
     "name": "stderr",
     "output_type": "stream",
     "text": [
      " 50%|████▉     | 99/200 [02:44<02:40,  1.59s/it]"
     ]
    },
    {
     "name": "stdout",
     "output_type": "stream",
     "text": [
      "[27800] Beta: 0.000, KL: 447.69, loss: 0.854, Word: 98.68, 99.97, Topo: 99.92, Assm: 99.44, PNorm: 407.28, GNorm: 11.90\n"
     ]
    },
    {
     "name": "stderr",
     "output_type": "stream",
     "text": [
      " 74%|███████▍  | 149/200 [04:10<01:24,  1.66s/it]"
     ]
    },
    {
     "name": "stdout",
     "output_type": "stream",
     "text": [
      "[27850] Beta: 0.000, KL: 452.67, loss: 0.885, Word: 98.59, 99.99, Topo: 99.87, Assm: 99.30, PNorm: 407.40, GNorm: 13.04\n"
     ]
    },
    {
     "name": "stderr",
     "output_type": "stream",
     "text": [
      "100%|█████████▉| 199/200 [05:31<00:01,  1.57s/it]"
     ]
    },
    {
     "name": "stdout",
     "output_type": "stream",
     "text": [
      "[27900] Beta: 0.000, KL: 453.57, loss: 0.860, Word: 98.70, 99.99, Topo: 99.88, Assm: 99.18, PNorm: 407.53, GNorm: 13.52\n"
     ]
    },
    {
     "name": "stderr",
     "output_type": "stream",
     "text": [
      "245it [06:48,  1.67s/it]                         \n",
      "  2%|▏         | 4/200 [00:07<05:32,  1.70s/it]"
     ]
    },
    {
     "name": "stdout",
     "output_type": "stream",
     "text": [
      "[27950] Beta: 0.000, KL: 452.68, loss: 0.905, Word: 98.59, 99.98, Topo: 99.88, Assm: 99.33, PNorm: 407.66, GNorm: 15.14\n"
     ]
    },
    {
     "name": "stderr",
     "output_type": "stream",
     "text": [
      " 27%|██▋       | 54/200 [01:30<04:00,  1.65s/it]"
     ]
    },
    {
     "name": "stdout",
     "output_type": "stream",
     "text": [
      "[28000] Beta: 0.000, KL: 442.56, loss: 0.982, Word: 98.51, 99.96, Topo: 99.85, Assm: 99.33, PNorm: 407.81, GNorm: 20.06\n"
     ]
    },
    {
     "name": "stderr",
     "output_type": "stream",
     "text": [
      " 52%|█████▏    | 104/200 [02:56<02:39,  1.66s/it]"
     ]
    },
    {
     "name": "stdout",
     "output_type": "stream",
     "text": [
      "[28050] Beta: 0.000, KL: 442.28, loss: 1.178, Word: 98.10, 99.96, Topo: 99.82, Assm: 99.24, PNorm: 407.98, GNorm: 20.53\n"
     ]
    },
    {
     "name": "stderr",
     "output_type": "stream",
     "text": [
      " 77%|███████▋  | 154/200 [04:20<01:18,  1.70s/it]"
     ]
    },
    {
     "name": "stdout",
     "output_type": "stream",
     "text": [
      "[28100] Beta: 0.000, KL: 440.57, loss: 1.303, Word: 97.87, 99.95, Topo: 99.81, Assm: 99.36, PNorm: 408.14, GNorm: 20.47\n"
     ]
    },
    {
     "name": "stderr",
     "output_type": "stream",
     "text": [
      "204it [05:43,  1.71s/it]                         "
     ]
    },
    {
     "name": "stdout",
     "output_type": "stream",
     "text": [
      "[28150] Beta: 0.000, KL: 440.41, loss: 1.234, Word: 98.04, 99.98, Topo: 99.80, Assm: 99.20, PNorm: 408.29, GNorm: 16.43\n"
     ]
    },
    {
     "name": "stderr",
     "output_type": "stream",
     "text": [
      "245it [06:51,  1.68s/it]\n",
      "  4%|▍         | 9/200 [00:15<05:16,  1.66s/it]"
     ]
    },
    {
     "name": "stdout",
     "output_type": "stream",
     "text": [
      "[28200] Beta: 0.000, KL: 445.31, loss: 1.349, Word: 97.68, 99.96, Topo: 99.82, Assm: 99.64, PNorm: 408.44, GNorm: 13.21\n"
     ]
    },
    {
     "name": "stderr",
     "output_type": "stream",
     "text": [
      " 30%|██▉       | 59/200 [01:38<04:07,  1.76s/it]"
     ]
    },
    {
     "name": "stdout",
     "output_type": "stream",
     "text": [
      "[28250] Beta: 0.000, KL: 438.36, loss: 1.400, Word: 97.71, 99.95, Topo: 99.80, Assm: 99.20, PNorm: 408.62, GNorm: 19.03\n"
     ]
    },
    {
     "name": "stderr",
     "output_type": "stream",
     "text": [
      " 55%|█████▍    | 109/200 [03:03<02:31,  1.66s/it]"
     ]
    },
    {
     "name": "stdout",
     "output_type": "stream",
     "text": [
      "[28300] Beta: 0.000, KL: 441.50, loss: 1.341, Word: 97.71, 99.98, Topo: 99.82, Assm: 99.13, PNorm: 408.78, GNorm: 21.06\n"
     ]
    },
    {
     "name": "stderr",
     "output_type": "stream",
     "text": [
      " 80%|███████▉  | 159/200 [04:28<01:10,  1.72s/it]"
     ]
    },
    {
     "name": "stdout",
     "output_type": "stream",
     "text": [
      "[28350] Beta: 0.000, KL: 445.24, loss: 1.542, Word: 97.61, 99.93, Topo: 99.81, Assm: 98.92, PNorm: 408.97, GNorm: 11.06\n"
     ]
    },
    {
     "name": "stderr",
     "output_type": "stream",
     "text": [
      "209it [05:51,  1.72s/it]                         "
     ]
    },
    {
     "name": "stdout",
     "output_type": "stream",
     "text": [
      "[28400] Beta: 0.000, KL: 433.46, loss: 1.487, Word: 97.50, 99.94, Topo: 99.78, Assm: 98.96, PNorm: 409.14, GNorm: 16.52\n"
     ]
    },
    {
     "name": "stderr",
     "output_type": "stream",
     "text": [
      "245it [06:52,  1.68s/it]\n",
      "  7%|▋         | 14/200 [00:24<05:56,  1.92s/it]"
     ]
    },
    {
     "name": "stdout",
     "output_type": "stream",
     "text": [
      "[28450] Beta: 0.000, KL: 439.18, loss: 1.575, Word: 97.31, 99.97, Topo: 99.83, Assm: 98.62, PNorm: 409.34, GNorm: 17.40\n"
     ]
    },
    {
     "name": "stderr",
     "output_type": "stream",
     "text": [
      " 32%|███▏      | 64/200 [01:46<03:45,  1.66s/it]"
     ]
    },
    {
     "name": "stdout",
     "output_type": "stream",
     "text": [
      "[28500] Beta: 0.000, KL: 433.36, loss: 1.405, Word: 97.65, 99.99, Topo: 99.83, Assm: 98.81, PNorm: 409.53, GNorm: 12.62\n"
     ]
    },
    {
     "name": "stderr",
     "output_type": "stream",
     "text": [
      " 57%|█████▋    | 114/200 [03:12<02:33,  1.78s/it]"
     ]
    },
    {
     "name": "stdout",
     "output_type": "stream",
     "text": [
      "[28550] Beta: 0.000, KL: 441.70, loss: 1.372, Word: 97.61, 99.98, Topo: 99.84, Assm: 99.11, PNorm: 409.68, GNorm: 15.73\n"
     ]
    },
    {
     "name": "stderr",
     "output_type": "stream",
     "text": [
      " 82%|████████▏ | 164/200 [04:37<00:59,  1.66s/it]"
     ]
    },
    {
     "name": "stdout",
     "output_type": "stream",
     "text": [
      "[28600] Beta: 0.000, KL: 434.99, loss: 1.444, Word: 97.65, 99.98, Topo: 99.82, Assm: 98.98, PNorm: 409.85, GNorm: 21.16\n"
     ]
    },
    {
     "name": "stderr",
     "output_type": "stream",
     "text": [
      "214it [06:01,  1.72s/it]                         "
     ]
    },
    {
     "name": "stdout",
     "output_type": "stream",
     "text": [
      "[28650] Beta: 0.000, KL: 442.47, loss: 1.430, Word: 97.50, 99.94, Topo: 99.81, Assm: 99.06, PNorm: 410.02, GNorm: 14.22\n"
     ]
    },
    {
     "name": "stderr",
     "output_type": "stream",
     "text": [
      "245it [06:53,  1.69s/it]\n",
      " 10%|▉         | 19/200 [00:30<04:44,  1.57s/it]"
     ]
    },
    {
     "name": "stdout",
     "output_type": "stream",
     "text": [
      "[28700] Beta: 0.000, KL: 448.08, loss: 1.199, Word: 97.89, 99.96, Topo: 99.84, Assm: 99.23, PNorm: 410.15, GNorm: 16.66\n"
     ]
    },
    {
     "name": "stderr",
     "output_type": "stream",
     "text": [
      " 34%|███▍      | 69/200 [01:55<03:38,  1.67s/it]"
     ]
    },
    {
     "name": "stdout",
     "output_type": "stream",
     "text": [
      "[28750] Beta: 0.000, KL: 446.84, loss: 1.379, Word: 97.75, 99.94, Topo: 99.81, Assm: 98.96, PNorm: 410.32, GNorm: 21.81\n"
     ]
    },
    {
     "name": "stderr",
     "output_type": "stream",
     "text": [
      " 60%|█████▉    | 119/200 [03:19<02:19,  1.72s/it]"
     ]
    },
    {
     "name": "stdout",
     "output_type": "stream",
     "text": [
      "[28800] Beta: 0.000, KL: 437.74, loss: 1.140, Word: 98.08, 99.99, Topo: 99.85, Assm: 99.08, PNorm: 410.48, GNorm: 14.68\n"
     ]
    },
    {
     "name": "stderr",
     "output_type": "stream",
     "text": [
      " 84%|████████▍ | 169/200 [04:44<00:51,  1.65s/it]"
     ]
    },
    {
     "name": "stdout",
     "output_type": "stream",
     "text": [
      "[28850] Beta: 0.000, KL: 440.08, loss: 1.184, Word: 98.03, 99.98, Topo: 99.87, Assm: 99.21, PNorm: 410.63, GNorm: 9.67\n"
     ]
    },
    {
     "name": "stderr",
     "output_type": "stream",
     "text": [
      "219it [06:07,  1.74s/it]                         "
     ]
    },
    {
     "name": "stdout",
     "output_type": "stream",
     "text": [
      "[28900] Beta: 0.000, KL: 445.35, loss: 1.178, Word: 97.91, 99.96, Topo: 99.86, Assm: 99.43, PNorm: 410.78, GNorm: 7.83\n"
     ]
    },
    {
     "name": "stderr",
     "output_type": "stream",
     "text": [
      "245it [06:52,  1.68s/it]\n",
      " 12%|█▏        | 24/200 [00:40<05:01,  1.72s/it]"
     ]
    },
    {
     "name": "stdout",
     "output_type": "stream",
     "text": [
      "[28950] Beta: 0.000, KL: 448.27, loss: 1.191, Word: 98.02, 99.98, Topo: 99.83, Assm: 99.44, PNorm: 410.92, GNorm: 9.26\n"
     ]
    },
    {
     "name": "stderr",
     "output_type": "stream",
     "text": [
      " 37%|███▋      | 74/200 [02:04<03:14,  1.55s/it]"
     ]
    },
    {
     "name": "stdout",
     "output_type": "stream",
     "text": [
      "[29000] Beta: 0.000, KL: 449.31, loss: 1.130, Word: 98.09, 99.96, Topo: 99.84, Assm: 99.34, PNorm: 411.09, GNorm: 11.39\n"
     ]
    },
    {
     "name": "stderr",
     "output_type": "stream",
     "text": [
      " 62%|██████▏   | 124/200 [03:30<02:17,  1.81s/it]"
     ]
    },
    {
     "name": "stdout",
     "output_type": "stream",
     "text": [
      "[29050] Beta: 0.000, KL: 454.01, loss: 1.022, Word: 98.36, 99.97, Topo: 99.84, Assm: 99.45, PNorm: 411.21, GNorm: 15.94\n"
     ]
    },
    {
     "name": "stderr",
     "output_type": "stream",
     "text": [
      " 87%|████████▋ | 174/200 [04:52<00:44,  1.72s/it]"
     ]
    },
    {
     "name": "stdout",
     "output_type": "stream",
     "text": [
      "[29100] Beta: 0.000, KL: 450.37, loss: 1.147, Word: 98.03, 99.99, Topo: 99.87, Assm: 99.21, PNorm: 411.33, GNorm: 16.50\n"
     ]
    },
    {
     "name": "stderr",
     "output_type": "stream",
     "text": [
      "224it [06:15,  1.65s/it]                         "
     ]
    },
    {
     "name": "stdout",
     "output_type": "stream",
     "text": [
      "[29150] Beta: 0.000, KL: 441.89, loss: 1.120, Word: 98.18, 99.99, Topo: 99.86, Assm: 99.35, PNorm: 411.47, GNorm: 13.23\n"
     ]
    },
    {
     "name": "stderr",
     "output_type": "stream",
     "text": [
      "245it [06:50,  1.68s/it]\n",
      " 14%|█▍        | 29/200 [00:48<04:34,  1.60s/it]"
     ]
    },
    {
     "name": "stdout",
     "output_type": "stream",
     "text": [
      "[29200] Beta: 0.000, KL: 452.36, loss: 1.049, Word: 98.33, 99.99, Topo: 99.86, Assm: 99.28, PNorm: 411.59, GNorm: 13.78\n"
     ]
    },
    {
     "name": "stderr",
     "output_type": "stream",
     "text": [
      " 40%|███▉      | 79/200 [02:09<03:14,  1.60s/it]"
     ]
    },
    {
     "name": "stdout",
     "output_type": "stream",
     "text": [
      "[29250] Beta: 0.000, KL: 445.03, loss: 0.956, Word: 98.36, 99.99, Topo: 99.89, Assm: 99.49, PNorm: 411.69, GNorm: 6.59\n"
     ]
    },
    {
     "name": "stderr",
     "output_type": "stream",
     "text": [
      " 64%|██████▍   | 129/200 [03:35<01:56,  1.64s/it]"
     ]
    },
    {
     "name": "stdout",
     "output_type": "stream",
     "text": [
      "[29300] Beta: 0.000, KL: 440.40, loss: 0.937, Word: 98.57, 100.00, Topo: 99.87, Assm: 99.24, PNorm: 411.80, GNorm: 17.26\n"
     ]
    },
    {
     "name": "stderr",
     "output_type": "stream",
     "text": [
      " 90%|████████▉ | 179/200 [04:55<00:33,  1.58s/it]"
     ]
    },
    {
     "name": "stdout",
     "output_type": "stream",
     "text": [
      "[29350] Beta: 0.000, KL: 445.67, loss: 1.143, Word: 98.24, 99.99, Topo: 99.85, Assm: 99.06, PNorm: 411.94, GNorm: 15.75\n"
     ]
    },
    {
     "name": "stderr",
     "output_type": "stream",
     "text": [
      "229it [06:17,  1.69s/it]                         "
     ]
    },
    {
     "name": "stdout",
     "output_type": "stream",
     "text": [
      "[29400] Beta: 0.000, KL: 440.18, loss: 1.093, Word: 98.25, 99.98, Topo: 99.86, Assm: 99.20, PNorm: 412.06, GNorm: 15.75\n"
     ]
    },
    {
     "name": "stderr",
     "output_type": "stream",
     "text": [
      "245it [06:47,  1.66s/it]\n",
      " 17%|█▋        | 34/200 [00:57<04:38,  1.68s/it]"
     ]
    },
    {
     "name": "stdout",
     "output_type": "stream",
     "text": [
      "[29450] Beta: 0.000, KL: 437.15, loss: 1.054, Word: 98.29, 99.97, Topo: 99.85, Assm: 99.21, PNorm: 412.19, GNorm: 17.65\n"
     ]
    },
    {
     "name": "stderr",
     "output_type": "stream",
     "text": [
      " 42%|████▏     | 84/200 [02:22<03:13,  1.67s/it]"
     ]
    },
    {
     "name": "stdout",
     "output_type": "stream",
     "text": [
      "[29500] Beta: 0.000, KL: 440.33, loss: 1.157, Word: 98.17, 99.98, Topo: 99.85, Assm: 99.17, PNorm: 412.32, GNorm: 17.20\n"
     ]
    },
    {
     "name": "stderr",
     "output_type": "stream",
     "text": [
      " 67%|██████▋   | 134/200 [03:45<02:08,  1.95s/it]"
     ]
    },
    {
     "name": "stdout",
     "output_type": "stream",
     "text": [
      "[29550] Beta: 0.000, KL: 450.63, loss: 1.139, Word: 98.20, 99.98, Topo: 99.84, Assm: 99.06, PNorm: 412.46, GNorm: 17.32\n"
     ]
    },
    {
     "name": "stderr",
     "output_type": "stream",
     "text": [
      " 92%|█████████▏| 184/200 [05:08<00:31,  1.96s/it]"
     ]
    },
    {
     "name": "stdout",
     "output_type": "stream",
     "text": [
      "[29600] Beta: 0.000, KL: 449.26, loss: 1.184, Word: 98.10, 99.97, Topo: 99.88, Assm: 99.11, PNorm: 412.61, GNorm: 18.61\n"
     ]
    },
    {
     "name": "stderr",
     "output_type": "stream",
     "text": [
      "234it [06:31,  1.56s/it]                         "
     ]
    },
    {
     "name": "stdout",
     "output_type": "stream",
     "text": [
      "[29650] Beta: 0.000, KL: 447.40, loss: 1.097, Word: 98.17, 99.98, Topo: 99.86, Assm: 99.22, PNorm: 412.75, GNorm: 16.38\n"
     ]
    },
    {
     "name": "stderr",
     "output_type": "stream",
     "text": [
      "245it [06:50,  1.68s/it]\n"
     ]
    }
   ],
   "source": [
    "for epoch in range(args.epoch):\n",
    "    dataset = DataFolder_ver2_BMS(args.train, '/home/quang/working/Theory_of_ML/hgraph2graph/train_processed_bms_ver2/ids', args.batch_size, transform, '/home/quang/working/Theory_of_ML/mbs-molecular-captioning/images/train/')\n",
    "    for batch, images_list, labels in tqdm(dataset):\n",
    "        total_step += 1\n",
    "#         images_list, tree_batch, jtenc_holder, mpn_holder, (jtmpn_holder,batch_idx) = batch_t\n",
    "#         batch = tree_batch, jtenc_holder, mpn_holder, (jtmpn_holder,batch_idx)\n",
    "        images_list = images_list.to(device)\n",
    "    \n",
    "        optimizer.zero_grad()\n",
    "        optimizer_vae.zero_grad()\n",
    "        mol_vec = model_cnn(images_list)\n",
    "        loss, kl_div, wacc, iacc, tacc, sacc = model.forward_edit(*batch, mol_vec, beta=beta)\n",
    "#             loss, kl_div, wacc, tacc, sacc = model.forward_edit(batch, beta, tree_vec, mol_vec)\n",
    "        loss.backward()\n",
    "        optimizer_vae.step()\n",
    "        optimizer.step()\n",
    "        \n",
    "        if total_step % args.anneal_iter == 0:\n",
    "            scheduler.step()\n",
    "            print(\"learning rate: %.6f\" % scheduler.get_lr()[0])\n",
    "        \n",
    "#         try:\n",
    "#             optimizer.zero_grad()\n",
    "#             tree_vec, mol_vec = model_cnn(images_list)\n",
    "#             loss, kl_div, wacc, iacc, tacc, sacc = model.forward_edit(*batch, mol_vec, beta=beta)\n",
    "# #             loss, kl_div, wacc, tacc, sacc = model.forward_edit(batch, beta, tree_vec, mol_vec)\n",
    "#             loss.backward()\n",
    "#             optimizer.step()\n",
    "#         except Exception as e:\n",
    "#             print (e)\n",
    "#             continue\n",
    "\n",
    "        meters = meters + np.array([kl_div, loss.item(), wacc * 100, iacc * 100, tacc * 100, sacc * 100])\n",
    "\n",
    "        if total_step % args.print_iter == 0:\n",
    "            meters /= args.print_iter\n",
    "            print(\"[%d] Beta: %.3f, KL: %.2f, loss: %.3f, Word: %.2f, %.2f, Topo: %.2f, Assm: %.2f, PNorm: %.2f, GNorm: %.2f\" % (total_step, beta, meters[0], meters[1], meters[2], meters[3], meters[4], meters[5], param_norm(model), grad_norm(model)))\n",
    "            sys.stdout.flush()\n",
    "            meters *= 0\n",
    "\n",
    "#         if total_step % args.save_iter == 0:\n",
    "#             torch.save(model.state_dict(), args.save_dir + \"/model.iter-\" + str(total_step))\n",
    "\n",
    "#         if total_step % args.anneal_iter == 0:\n",
    "#             scheduler.step()\n",
    "#             print (\"learning rate: %.6f\" % scheduler.get_lr()[0])\n",
    "\n",
    "#         if total_step % args.kl_anneal_iter == 0 and total_step >= args.warmup:\n",
    "#             beta = min(args.max_beta, beta + args.step_beta)\n",
    "            \n",
    "torch.save(model_cnn.state_dict(),  \"./model_cnn/model_cnn_hgraph_ver3_good_100eps_512.iter-\" + str(total_step))"
   ]
  },
  {
   "cell_type": "markdown",
   "id": "451c3e96-fe64-4315-adca-6b0e61064dd9",
   "metadata": {},
   "source": [
    "## Validation"
   ]
  },
  {
   "cell_type": "code",
   "execution_count": 16,
   "id": "43911aff-3a8e-4413-96d9-22601744bd5d",
   "metadata": {},
   "outputs": [],
   "source": [
    "# model_cnn.load_state_dict(torch.load('./model_cnn/model_cnn.iter-145'))"
   ]
  },
  {
   "cell_type": "code",
   "execution_count": 25,
   "id": "10e00ae0-4c58-4e26-9822-abd537489bac",
   "metadata": {},
   "outputs": [
    {
     "name": "stderr",
     "output_type": "stream",
     "text": [
      "114it [03:59,  2.10s/it]                         \n"
     ]
    }
   ],
   "source": [
    "# dataset_val = DataFolder_ver2_BMS('./val_processed_bms/mol/', '/home/quang/working/Theory_of_ML/hgraph2graph/val_processed_bms/ids',args.batch_size, transform, '/home/quang/working/Theory_of_ML/mbs-molecular-captioning/images/val/')\n",
    "# for batch, images_list, labels in tqdm(dataset_val):\n",
    "# #     total_step += 1\n",
    "# # #         images_list, tree_batch, jtenc_holder, mpn_holder, (jtmpn_holder,batch_idx) = batch_t\n",
    "# # #         batch = tree_batch, jtenc_holder, mpn_holder, (jtmpn_holder,batch_idx)\n",
    "# #     images_list = images_list.to(device)\n",
    "\n",
    "# #     optimizer.zero_grad()\n",
    "# #     tree_vec, mol_vec = model_cnn(images_list)\n",
    "# #     loss, kl_div, wacc, iacc, tacc, sacc = model.forward_edit(*batch, mol_vec, beta=beta)\n",
    "# # #             loss, kl_div, wacc, tacc, sacc = model.forward_edit(batch, beta, tree_vec, mol_vec)\n",
    "# #     loss.backward()\n",
    "# #     optimizer.step()\n",
    "#     break\n",
    "\n",
    "dataset_val = DataFolder_ver2_BMS('./val_processed_bms/mol/', '/home/quang/working/Theory_of_ML/hgraph2graph/val_processed_bms/ids',args.batch_size, transform, '/home/quang/working/Theory_of_ML/mbs-molecular-captioning/images/val/')\n",
    "total_labels = []\n",
    "total_preds = []\n",
    "for batch, images_list, labels in tqdm(dataset_val):\n",
    "    with torch.no_grad():\n",
    "        images_list = images_list.to(device)\n",
    "        mol_vec = model_cnn(images_list)\n",
    "\n",
    "        root_vecs, root_kl = model.rsample(mol_vec, model.R_mean, model.R_var, perturb=True)\n",
    "        outputs = model.decoder.decode((root_vecs, root_vecs, root_vecs), greedy=True, max_decode_step=150)\n",
    "    total_labels.extend(labels)\n",
    "    total_preds.extend(outputs)"
   ]
  },
  {
   "cell_type": "markdown",
   "id": "c1b65909-637a-4433-ac45-71e93f477ccf",
   "metadata": {},
   "source": [
    "## Levenshtein distance for SMILES code"
   ]
  },
  {
   "cell_type": "code",
   "execution_count": 31,
   "id": "329c06f8-7289-4350-bae6-5b2285baa155",
   "metadata": {},
   "outputs": [
    {
     "name": "stdout",
     "output_type": "stream",
     "text": [
      "28.64762693156733\n"
     ]
    }
   ],
   "source": [
    "import Levenshtein\n",
    "def get_score(y_true, y_pred):\n",
    "    scores = []\n",
    "    for true, pred in zip(y_true, y_pred):\n",
    "        score = Levenshtein.distance(true, pred)\n",
    "        scores.append(score)\n",
    "    avg_score = np.mean(scores)\n",
    "    return avg_score\n",
    "\n",
    "score = get_score(total_labels, total_preds)\n",
    "print (score)"
   ]
  },
  {
   "cell_type": "code",
   "execution_count": 30,
   "id": "a8e49975-8958-443e-8e85-e6409ae40e92",
   "metadata": {},
   "outputs": [
    {
     "name": "stdout",
     "output_type": "stream",
     "text": [
      "75.41197571743929\n"
     ]
    }
   ],
   "source": [
    "import Levenshtein\n",
    "def get_score_inchi(y_true, y_pred):\n",
    "    scores = []\n",
    "    for true, pred in zip(y_true, y_pred):\n",
    "        inchi_pred = Chem.MolToInchi(Chem.MolFromSmiles(pred))\n",
    "        inchi_true = Chem.MolToInchi(Chem.MolFromSmiles(true))\n",
    "        score = Levenshtein.distance(inchi_true, inchi_pred)\n",
    "        scores.append(score)\n",
    "    avg_score = np.mean(scores)\n",
    "    return avg_score\n",
    "\n",
    "score = get_score_inchi(total_labels, total_preds)\n",
    "print (score)"
   ]
  },
  {
   "cell_type": "markdown",
   "id": "e79fd001-c28f-43bb-880a-4e16f4593feb",
   "metadata": {},
   "source": [
    "## Validity score"
   ]
  },
  {
   "cell_type": "code",
   "execution_count": 27,
   "id": "4caeda95-2e6f-4d8d-9c62-a4b259cef71f",
   "metadata": {},
   "outputs": [
    {
     "name": "stderr",
     "output_type": "stream",
     "text": [
      "100%|██████████| 3624/3624 [00:00<00:00, 3904.51it/s]"
     ]
    },
    {
     "name": "stdout",
     "output_type": "stream",
     "text": [
      "1.0\n"
     ]
    },
    {
     "name": "stderr",
     "output_type": "stream",
     "text": [
      "\n"
     ]
    }
   ],
   "source": [
    "invalid_smiles = 0\n",
    "for smile_temp in tqdm(total_preds):\n",
    "    m = Chem.MolFromSmiles(smile_temp)\n",
    "    if m is None:\n",
    "        invalid_smiles += 1\n",
    "        \n",
    "print (1 - invalid_smiles/len(total_preds))"
   ]
  },
  {
   "cell_type": "markdown",
   "id": "c213afcb-5976-4569-9b42-7953fe0e5309",
   "metadata": {},
   "source": [
    "## Visualization"
   ]
  },
  {
   "cell_type": "code",
   "execution_count": 28,
   "id": "782aea4f-d643-47bc-8ec3-f88d9c2b5691",
   "metadata": {},
   "outputs": [],
   "source": [
    "images_list = images_list.to(device)\n",
    "mol_vec = model_cnn(images_list)\n",
    "\n",
    "root_vecs, root_kl = model.rsample(mol_vec, model.R_mean, model.R_var, perturb=True)\n",
    "outputs = model.decoder.decode((root_vecs, root_vecs, root_vecs), greedy=True, max_decode_step=150)"
   ]
  },
  {
   "cell_type": "code",
   "execution_count": 29,
   "id": "b2700c34-d0c2-4dce-81c1-4a6bbb5352ea",
   "metadata": {},
   "outputs": [
    {
     "name": "stdout",
     "output_type": "stream",
     "text": [
      "GT:  CN=C(O)c1cccc(NC(O)=NCC2CCOC2)c1C\n",
      "Pred:  CCc1cccc(C(=O)NN=C(O)CC(N=C(O)c2ccccc2)C2CC2)c1\n",
      "GT:  Cc1ccc(OCC2CCN(c3cc(=O)n4ccccc4n3)CC2)nn1\n",
      "Pred:  O=S(=O)(Cc1ccc(F)cc1)N1CCN(Cc2ccc(F)cc2)CC1\n",
      "GT:  C[C@H](Oc1ccccc1C#N)C(=O)OC1CCC2(CC1)OCCO2\n",
      "Pred:  Cn1c(=O)c2ccc(-c3sc(C4CC4)nc3O)cc2n(C)c1=O\n",
      "GT:  CCCCN=C(O)C(C)SCc1ccccc1\n",
      "Pred:  CCC(C)CCc1cccc(N=C(O)CCC2CN(C)c3ccccc3S2)c1\n",
      "GT:  CO[C@@H]1CN(C2CCNCC2)C[C@H]1Cc1ccc(Cl)c(Cl)c1\n",
      "Pred:  Cc1ccc(C(O)=NCCCN2CCC(C)CC2)cc1Cl\n",
      "GT:  CC(O)=NCC1CCN(c2ccc(CN)cc2)CC1\n",
      "Pred:  CNCC1CCN(CC(O)=NC(C)c2ccc(N)cc2)CC1\n",
      "GT:  CC(O)=Nc1cccc(N=C(O)CCn2ccc3ccccc32)c1C\n",
      "Pred:  Cc1cccc(N=C(O)CCCn2c(CCC(=O)O)nc3ccccc32)c1\n",
      "GT:  CCC(N)C(OC1CCCCCC1)c1cccs1\n",
      "Pred:  C=CCN1C(=O)N(c2ccc(O)cc2)CC1CC\n",
      "GT:  COc1ccc(CC(C)N2CCN(C(C)Cc3cccc(OC)c3)CC2)cc1\n",
      "Pred:  COc1cc(CC(=O)O)cc(I)c1OCc1ccccc1\n",
      "GT:  CN(CCC#N)C(=O)c1cc2n(n1)[C@@H](C(F)(F)F)C[C@H](c1ccc3c(c1)OCO3)N2\n",
      "Pred:  CC(C)N(CCC(=O)N1CCc2ccccc2C1)C(=O)C1CC1\n",
      "GT:  CC(C)(C)c1ccc(CC(C(=N)O)(c2cccc(C(F)(F)F)c2)n2ccc3cc(C(F)(F)F)nc(C(=O)O)c32)cc1\n",
      "Pred:  CC1(C)CCCC1N=C(O)N1CC(Oc2cccc(F)c2)C1\n",
      "GT:  O=C(O)c1ccc2c(=O)n(-c3ccccc3F)c(S)nc2c1\n",
      "Pred:  CN(Cc1cc2c(cc1Cl)OCO2)C(=O)c1cc(Br)ccc1Cl\n",
      "GT:  Cc1ccc(C)n1-c1ccc(-c2ccc(C(C)(c3noc(-c4cnn(C)c4)n3)C3CC3)cn2)cn1\n",
      "Pred:  CC(C)c1ccc(NC(=O)c2csc(-c3ccc(-c4ccccc4)cc3)n2)cc1\n",
      "GT:  NC(=O)c1ccc(CSc2ccccc2F)cc1\n",
      "Pred:  O=C(c1cccc(F)c1Cl)N(CCC(F)(F)F)Cc1cccc(-c2cccc(F)c2)c1\n",
      "GT:  CCCC1CCCCN1C(C)c1ccc(N)cc1\n",
      "Pred:  CCC1CCCCN1C1CCCC1Cc1ccccc1\n",
      "GT:  CC(CCN1Cc2c(ccc(-c3ccc(CCNCC(F)(F)F)cc3)c2F)C1=O)(C(O)=NO)S(C)(=O)=O\n",
      "Pred:  CC(O)(CO)CNS(=O)(=O)c1ccc(N)c(F)c1\n",
      "GT:  COc1ccc(CN=C(O)[C@@H]2CC(=O)N(c3ccc(OCC(O)=Nc4ccccc4C)cc3)C2)cc1\n",
      "Pred:  Cc1ccnc(CN=C(O)Cc2ccc(-c3cnc(N4CCC(OCC(F)(F)F)CC4)nc3)cc2)c1\n",
      "GT:  NCC(N=C(O)CCCS(=O)(=O)N1CCCC1)C1CC1\n",
      "Pred:  Cc1ccc(NS(=O)(=O)c2ccn(CC(=O)N3CCCC3)c2)cc1C\n",
      "GT:  O=C(O)C1C2CCCC2CN1C(=O)CSc1ccc(C(F)(F)F)cn1\n",
      "Pred:  O=C(O)C1C(Cl)C2CC(F)CC2C1N=C(O)CCl\n",
      "GT:  CCCOc1ccc(NCc2cc(Br)c(Br)s2)cc1Cl\n",
      "Pred:  CCC1Cc2nc(SCC(O)=Nc3c(Cl)cccc3Cl)nc(N)c2C1\n",
      "GT:  CNC(Cc1cccc(C)c1)c1scnc1C\n",
      "Pred:  CN(CCC(C)(C)O)C(=O)c1cccc2[nH]ccc12\n",
      "GT:  CCCC1CCN(CC(C)(C=O)CC)CC1\n",
      "Pred:  CCCCCCCC1CC(CCCCC)C1\n",
      "GT:  CCN(C(=O)c1ccc(OC)c(S(=O)(=O)N2CCCCCC2)c1)c1ccc(C)cc1C\n",
      "Pred:  COc1ccccc1N1C(=O)SC(C(=O)N(CCOc2ccc(O)cc2)Cc2ccco2)C1C\n",
      "GT:  COC(=O)c1cc(N)c(N2CCC(C)CC2)c(Cl)c1\n",
      "Pred:  CN(Cc1cc(Cl)ccc1OC(C(F)(F)F)C(Cl)(Cl)C(=O)O)C(=O)c1ccoc1\n",
      "GT:  COC(=O)c1ncn2cc(C(=O)O)ccc12\n",
      "Pred:  O=C(O)Cc1cc2cc3ncoc3cc2o1\n",
      "GT:  C=C(CC(=O)c1ccc(C)cc1)Nc1cccc(F)c1\n",
      "Pred:  COC(=O)c1cc(N=C(O)c2ccc(F)cc2)cc(C)c1O\n",
      "GT:  CCCCN=C(O)[C@@H]1Cc2cc(S(=O)(=O)N3CCCC3)ccc2N1C(C)=O\n",
      "Pred:  CCc1cc(C(=O)CN(Cc2ccccc2)S(=O)(=O)c2ccccc2)c(C)n1CC1CCCO1\n",
      "GT:  CNCC1CSc2ccc(C)cc2N1\n",
      "Pred:  COCCN1CCC(N=C(O)Nc2cc(C3CCCNC3)nn2-c2ccccc2)CC1\n",
      "GT:  Cn1ccnc1C(O)c1ccc2c(c1)OCCCO2\n",
      "Pred:  Cc1cccc(C(=O)N2C(c3cnn(C)c3)C(O)=NCC2(C)C)c1\n",
      "GT:  CCCN=C(O)CN1CCC(N=C(O)CCc2c(C)nc(SC)nc2C)CC1\n",
      "Pred:  CCC(C)c1nc(C2CCC(CCCC(O)=NCCOc3cccc4cccnc34)CC2)ncc1C(C)=O\n",
      "GT:  CCC(OC1CCCC1)C(=O)N(C)CCC(=O)O\n",
      "Pred:  Cc1cc(C#N)nc(OCC(C)CN)c1\n",
      "GT:  CCC(CC)C(N=C(O)CCSCc1ccccn1)c1ccccc1\n",
      "Pred:  CCN=C(O)CN1CCN(C(C)C(O)=Nc2cccc(COCCO)c2)CC1\n"
     ]
    }
   ],
   "source": [
    "for i in range(len(outputs)):\n",
    "    print ('GT: ',labels[i])\n",
    "    print ('Pred: ', outputs[i])"
   ]
  },
  {
   "cell_type": "code",
   "execution_count": 21,
   "id": "e6444133-727e-4ac2-9059-dcfcb883005a",
   "metadata": {},
   "outputs": [
    {
     "data": {
      "image/svg+xml": [
       "<svg baseProfile=\"full\" height=\"150px\" version=\"1.1\" width=\"720px\" xml:space=\"preserve\" xmlns=\"http://www.w3.org/2000/svg\" xmlns:rdkit=\"http://www.rdkit.org/xml\" xmlns:xlink=\"http://www.w3.org/1999/xlink\">\n",
       "<rect height=\"150\" style=\"opacity:1.0;fill:#FFFFFF;stroke:none\" width=\"720\" x=\"0\" y=\"0\"> </rect>\n",
       "<path d=\"M 11.1729,29.1297 19.9449,38.5774\" style=\"fill:none;fill-rule:evenodd;stroke:#000000;stroke-width:2px;stroke-linecap:butt;stroke-linejoin:miter;stroke-opacity:1\"/>\n",
       "<path d=\"M 19.9449,38.5774 28.7168,48.0252\" style=\"fill:none;fill-rule:evenodd;stroke:#FF0000;stroke-width:2px;stroke-linecap:butt;stroke-linejoin:miter;stroke-opacity:1\"/>\n",
       "<path d=\"M 39.0766,52.4 52.7467,49.2752\" style=\"fill:none;fill-rule:evenodd;stroke:#FF0000;stroke-width:2px;stroke-linecap:butt;stroke-linejoin:miter;stroke-opacity:1\"/>\n",
       "<path d=\"M 52.7467,49.2752 66.4168,46.1504\" style=\"fill:none;fill-rule:evenodd;stroke:#000000;stroke-width:2px;stroke-linecap:butt;stroke-linejoin:miter;stroke-opacity:1\"/>\n",
       "<path d=\"M 66.4168,46.1504 76.2437,14.2553\" style=\"fill:none;fill-rule:evenodd;stroke:#000000;stroke-width:2px;stroke-linecap:butt;stroke-linejoin:miter;stroke-opacity:1\"/>\n",
       "<path d=\"M 74.2699,43.3316 81.1487,21.005\" style=\"fill:none;fill-rule:evenodd;stroke:#000000;stroke-width:2px;stroke-linecap:butt;stroke-linejoin:miter;stroke-opacity:1\"/>\n",
       "<path d=\"M 66.4168,46.1504 89.1253,70.6083\" style=\"fill:none;fill-rule:evenodd;stroke:#000000;stroke-width:2px;stroke-linecap:butt;stroke-linejoin:miter;stroke-opacity:1\"/>\n",
       "<path d=\"M 76.2437,14.2553 108.779,6.81818\" style=\"fill:none;fill-rule:evenodd;stroke:#000000;stroke-width:2px;stroke-linecap:butt;stroke-linejoin:miter;stroke-opacity:1\"/>\n",
       "<path d=\"M 108.779,6.81818 131.488,31.2761\" style=\"fill:none;fill-rule:evenodd;stroke:#000000;stroke-width:2px;stroke-linecap:butt;stroke-linejoin:miter;stroke-opacity:1\"/>\n",
       "<path d=\"M 107.294,15.0286 123.19,32.1491\" style=\"fill:none;fill-rule:evenodd;stroke:#000000;stroke-width:2px;stroke-linecap:butt;stroke-linejoin:miter;stroke-opacity:1\"/>\n",
       "<path d=\"M 131.488,31.2761 121.661,63.1712\" style=\"fill:none;fill-rule:evenodd;stroke:#000000;stroke-width:2px;stroke-linecap:butt;stroke-linejoin:miter;stroke-opacity:1\"/>\n",
       "<path d=\"M 121.661,63.1712 144.369,87.6291\" style=\"fill:none;fill-rule:evenodd;stroke:#000000;stroke-width:2px;stroke-linecap:butt;stroke-linejoin:miter;stroke-opacity:1\"/>\n",
       "<path d=\"M 121.661,63.1712 89.1253,70.6083\" style=\"fill:none;fill-rule:evenodd;stroke:#000000;stroke-width:2px;stroke-linecap:butt;stroke-linejoin:miter;stroke-opacity:1\"/>\n",
       "<path d=\"M 115.293,57.7797 92.5182,62.9857\" style=\"fill:none;fill-rule:evenodd;stroke:#000000;stroke-width:2px;stroke-linecap:butt;stroke-linejoin:miter;stroke-opacity:1\"/>\n",
       "<path d=\"M 144.369,87.6291 153.683,97.6609\" style=\"fill:none;fill-rule:evenodd;stroke:#000000;stroke-width:2px;stroke-linecap:butt;stroke-linejoin:miter;stroke-opacity:1\"/>\n",
       "<path d=\"M 153.683,97.6609 162.998,107.693\" style=\"fill:none;fill-rule:evenodd;stroke:#33CCCC;stroke-width:2px;stroke-linecap:butt;stroke-linejoin:miter;stroke-opacity:1\"/>\n",
       "<path d=\"M 144.369,87.6291 137.699,95.5442\" style=\"fill:none;fill-rule:evenodd;stroke:#000000;stroke-width:2px;stroke-linecap:butt;stroke-linejoin:miter;stroke-opacity:1\"/>\n",
       "<path d=\"M 137.699,95.5442 131.028,103.459\" style=\"fill:none;fill-rule:evenodd;stroke:#33CCCC;stroke-width:2px;stroke-linecap:butt;stroke-linejoin:miter;stroke-opacity:1\"/>\n",
       "<path d=\"M 144.369,87.6291 154.558,78.1689\" style=\"fill:none;fill-rule:evenodd;stroke:#000000;stroke-width:2px;stroke-linecap:butt;stroke-linejoin:miter;stroke-opacity:1\"/>\n",
       "<path d=\"M 154.558,78.1689 164.747,68.7088\" style=\"fill:none;fill-rule:evenodd;stroke:#33CCCC;stroke-width:2px;stroke-linecap:butt;stroke-linejoin:miter;stroke-opacity:1\"/>\n",
       "<path d=\"M 89.1253,70.6083 79.2984,102.503\" style=\"fill:none;fill-rule:evenodd;stroke:#000000;stroke-width:2px;stroke-linecap:butt;stroke-linejoin:miter;stroke-opacity:1\"/>\n",
       "<path d=\"M 79.2984,102.503 104.99,110.914\" style=\"fill:none;fill-rule:evenodd;stroke:#000000;stroke-width:2px;stroke-linecap:butt;stroke-linejoin:miter;stroke-opacity:1\"/>\n",
       "<path d=\"M 79.2984,102.503 76.3175,135.745\" style=\"fill:none;fill-rule:evenodd;stroke:#000000;stroke-width:2px;stroke-linecap:butt;stroke-linejoin:miter;stroke-opacity:1\"/>\n",
       "<path d=\"M 79.2984,102.503 68.773,98.0087\" style=\"fill:none;fill-rule:evenodd;stroke:#000000;stroke-width:2px;stroke-linecap:butt;stroke-linejoin:miter;stroke-opacity:1\"/>\n",
       "<path d=\"M 68.773,98.0087 58.2476,93.514\" style=\"fill:none;fill-rule:evenodd;stroke:#0000FF;stroke-width:2px;stroke-linecap:butt;stroke-linejoin:miter;stroke-opacity:1\"/>\n",
       "<path d=\"M 76.3175,135.745 43.7821,143.182\" style=\"fill:none;fill-rule:evenodd;stroke:#000000;stroke-width:2px;stroke-linecap:butt;stroke-linejoin:miter;stroke-opacity:1\"/>\n",
       "<path d=\"M 43.7821,143.182 26.6549,114.537\" style=\"fill:none;fill-rule:evenodd;stroke:#000000;stroke-width:2px;stroke-linecap:butt;stroke-linejoin:miter;stroke-opacity:1\"/>\n",
       "<path d=\"M 26.6549,114.537 35.2018,104.748\" style=\"fill:none;fill-rule:evenodd;stroke:#000000;stroke-width:2px;stroke-linecap:butt;stroke-linejoin:miter;stroke-opacity:1\"/>\n",
       "<path d=\"M 35.2018,104.748 43.7486,94.9588\" style=\"fill:none;fill-rule:evenodd;stroke:#0000FF;stroke-width:2px;stroke-linecap:butt;stroke-linejoin:miter;stroke-opacity:1\"/>\n",
       "<text style=\"font-size:11px;font-style:normal;font-weight:normal;fill-opacity:1;stroke:none;font-family:sans-serif;text-anchor:start;fill:#FF0000\" x=\"28.6862\" y=\"59.15\"><tspan>O</tspan></text>\n",
       "<text style=\"font-size:11px;font-style:normal;font-weight:normal;fill-opacity:1;stroke:none;font-family:sans-serif;text-anchor:start;fill:#33CCCC\" x=\"162.998\" y=\"117.649\"><tspan>F</tspan></text>\n",
       "<text style=\"font-size:11px;font-style:normal;font-weight:normal;fill-opacity:1;stroke:none;font-family:sans-serif;text-anchor:start;fill:#33CCCC\" x=\"122.868\" y=\"113.863\"><tspan>F</tspan></text>\n",
       "<text style=\"font-size:11px;font-style:normal;font-weight:normal;fill-opacity:1;stroke:none;font-family:sans-serif;text-anchor:start;fill:#33CCCC\" x=\"164.747\" y=\"70.483\"><tspan>F</tspan></text>\n",
       "<text style=\"font-size:11px;font-style:normal;font-weight:normal;fill-opacity:1;stroke:none;font-family:sans-serif;text-anchor:start;fill:#0000FF\" x=\"38.9627\" y=\"94.9588\"><tspan>NH</tspan></text>\n",
       "</svg>"
      ],
      "text/plain": [
       "<IPython.core.display.SVG object>"
      ]
     },
     "execution_count": 21,
     "metadata": {},
     "output_type": "execute_result"
    }
   ],
   "source": [
    "i = 5\n",
    "m = Chem.MolFromSmiles(labels[i])\n",
    "# print (Chem.MolToInchi(m))\n",
    "SVG(Draw.MolsToGridImage([m], molsPerRow=4, subImgSize=(180, 150), useSVG=True))"
   ]
  },
  {
   "cell_type": "code",
   "execution_count": 22,
   "id": "d91242e8-e584-4782-a4eb-6978fa81b1a1",
   "metadata": {},
   "outputs": [
    {
     "name": "stdout",
     "output_type": "stream",
     "text": [
      "InChI=1S/C13H16F3NO/c1-12(7-4-8-17-12)11-9(13(14,15)16)5-3-6-10(11)18-2/h3,5-6,17H,4,7-8H2,1-2H3\n"
     ]
    },
    {
     "data": {
      "image/svg+xml": [
       "<svg baseProfile=\"full\" height=\"150px\" version=\"1.1\" width=\"720px\" xml:space=\"preserve\" xmlns=\"http://www.w3.org/2000/svg\" xmlns:rdkit=\"http://www.rdkit.org/xml\" xmlns:xlink=\"http://www.w3.org/1999/xlink\">\n",
       "<rect height=\"150\" style=\"opacity:1.0;fill:#FFFFFF;stroke:none\" width=\"720\" x=\"0\" y=\"0\"> </rect>\n",
       "<path d=\"M 11.1729,29.1297 19.9449,38.5774\" style=\"fill:none;fill-rule:evenodd;stroke:#000000;stroke-width:2px;stroke-linecap:butt;stroke-linejoin:miter;stroke-opacity:1\"/>\n",
       "<path d=\"M 19.9449,38.5774 28.7168,48.0252\" style=\"fill:none;fill-rule:evenodd;stroke:#FF0000;stroke-width:2px;stroke-linecap:butt;stroke-linejoin:miter;stroke-opacity:1\"/>\n",
       "<path d=\"M 39.0766,52.4 52.7467,49.2752\" style=\"fill:none;fill-rule:evenodd;stroke:#FF0000;stroke-width:2px;stroke-linecap:butt;stroke-linejoin:miter;stroke-opacity:1\"/>\n",
       "<path d=\"M 52.7467,49.2752 66.4168,46.1504\" style=\"fill:none;fill-rule:evenodd;stroke:#000000;stroke-width:2px;stroke-linecap:butt;stroke-linejoin:miter;stroke-opacity:1\"/>\n",
       "<path d=\"M 66.4168,46.1504 76.2437,14.2553\" style=\"fill:none;fill-rule:evenodd;stroke:#000000;stroke-width:2px;stroke-linecap:butt;stroke-linejoin:miter;stroke-opacity:1\"/>\n",
       "<path d=\"M 74.2699,43.3316 81.1487,21.005\" style=\"fill:none;fill-rule:evenodd;stroke:#000000;stroke-width:2px;stroke-linecap:butt;stroke-linejoin:miter;stroke-opacity:1\"/>\n",
       "<path d=\"M 66.4168,46.1504 89.1253,70.6083\" style=\"fill:none;fill-rule:evenodd;stroke:#000000;stroke-width:2px;stroke-linecap:butt;stroke-linejoin:miter;stroke-opacity:1\"/>\n",
       "<path d=\"M 76.2437,14.2553 108.779,6.81818\" style=\"fill:none;fill-rule:evenodd;stroke:#000000;stroke-width:2px;stroke-linecap:butt;stroke-linejoin:miter;stroke-opacity:1\"/>\n",
       "<path d=\"M 108.779,6.81818 131.488,31.2761\" style=\"fill:none;fill-rule:evenodd;stroke:#000000;stroke-width:2px;stroke-linecap:butt;stroke-linejoin:miter;stroke-opacity:1\"/>\n",
       "<path d=\"M 107.294,15.0286 123.19,32.1491\" style=\"fill:none;fill-rule:evenodd;stroke:#000000;stroke-width:2px;stroke-linecap:butt;stroke-linejoin:miter;stroke-opacity:1\"/>\n",
       "<path d=\"M 131.488,31.2761 121.661,63.1712\" style=\"fill:none;fill-rule:evenodd;stroke:#000000;stroke-width:2px;stroke-linecap:butt;stroke-linejoin:miter;stroke-opacity:1\"/>\n",
       "<path d=\"M 121.661,63.1712 144.369,87.6291\" style=\"fill:none;fill-rule:evenodd;stroke:#000000;stroke-width:2px;stroke-linecap:butt;stroke-linejoin:miter;stroke-opacity:1\"/>\n",
       "<path d=\"M 121.661,63.1712 89.1253,70.6083\" style=\"fill:none;fill-rule:evenodd;stroke:#000000;stroke-width:2px;stroke-linecap:butt;stroke-linejoin:miter;stroke-opacity:1\"/>\n",
       "<path d=\"M 115.293,57.7797 92.5182,62.9857\" style=\"fill:none;fill-rule:evenodd;stroke:#000000;stroke-width:2px;stroke-linecap:butt;stroke-linejoin:miter;stroke-opacity:1\"/>\n",
       "<path d=\"M 144.369,87.6291 153.683,97.6609\" style=\"fill:none;fill-rule:evenodd;stroke:#000000;stroke-width:2px;stroke-linecap:butt;stroke-linejoin:miter;stroke-opacity:1\"/>\n",
       "<path d=\"M 153.683,97.6609 162.998,107.693\" style=\"fill:none;fill-rule:evenodd;stroke:#33CCCC;stroke-width:2px;stroke-linecap:butt;stroke-linejoin:miter;stroke-opacity:1\"/>\n",
       "<path d=\"M 144.369,87.6291 137.699,95.5442\" style=\"fill:none;fill-rule:evenodd;stroke:#000000;stroke-width:2px;stroke-linecap:butt;stroke-linejoin:miter;stroke-opacity:1\"/>\n",
       "<path d=\"M 137.699,95.5442 131.028,103.459\" style=\"fill:none;fill-rule:evenodd;stroke:#33CCCC;stroke-width:2px;stroke-linecap:butt;stroke-linejoin:miter;stroke-opacity:1\"/>\n",
       "<path d=\"M 144.369,87.6291 154.558,78.1689\" style=\"fill:none;fill-rule:evenodd;stroke:#000000;stroke-width:2px;stroke-linecap:butt;stroke-linejoin:miter;stroke-opacity:1\"/>\n",
       "<path d=\"M 154.558,78.1689 164.747,68.7088\" style=\"fill:none;fill-rule:evenodd;stroke:#33CCCC;stroke-width:2px;stroke-linecap:butt;stroke-linejoin:miter;stroke-opacity:1\"/>\n",
       "<path d=\"M 89.1253,70.6083 79.2984,102.503\" style=\"fill:none;fill-rule:evenodd;stroke:#000000;stroke-width:2px;stroke-linecap:butt;stroke-linejoin:miter;stroke-opacity:1\"/>\n",
       "<path d=\"M 79.2984,102.503 104.99,110.914\" style=\"fill:none;fill-rule:evenodd;stroke:#000000;stroke-width:2px;stroke-linecap:butt;stroke-linejoin:miter;stroke-opacity:1\"/>\n",
       "<path d=\"M 79.2984,102.503 76.3175,135.745\" style=\"fill:none;fill-rule:evenodd;stroke:#000000;stroke-width:2px;stroke-linecap:butt;stroke-linejoin:miter;stroke-opacity:1\"/>\n",
       "<path d=\"M 79.2984,102.503 68.773,98.0087\" style=\"fill:none;fill-rule:evenodd;stroke:#000000;stroke-width:2px;stroke-linecap:butt;stroke-linejoin:miter;stroke-opacity:1\"/>\n",
       "<path d=\"M 68.773,98.0087 58.2476,93.514\" style=\"fill:none;fill-rule:evenodd;stroke:#0000FF;stroke-width:2px;stroke-linecap:butt;stroke-linejoin:miter;stroke-opacity:1\"/>\n",
       "<path d=\"M 76.3175,135.745 43.7821,143.182\" style=\"fill:none;fill-rule:evenodd;stroke:#000000;stroke-width:2px;stroke-linecap:butt;stroke-linejoin:miter;stroke-opacity:1\"/>\n",
       "<path d=\"M 43.7821,143.182 26.6549,114.537\" style=\"fill:none;fill-rule:evenodd;stroke:#000000;stroke-width:2px;stroke-linecap:butt;stroke-linejoin:miter;stroke-opacity:1\"/>\n",
       "<path d=\"M 26.6549,114.537 35.2018,104.748\" style=\"fill:none;fill-rule:evenodd;stroke:#000000;stroke-width:2px;stroke-linecap:butt;stroke-linejoin:miter;stroke-opacity:1\"/>\n",
       "<path d=\"M 35.2018,104.748 43.7486,94.9588\" style=\"fill:none;fill-rule:evenodd;stroke:#0000FF;stroke-width:2px;stroke-linecap:butt;stroke-linejoin:miter;stroke-opacity:1\"/>\n",
       "<text style=\"font-size:11px;font-style:normal;font-weight:normal;fill-opacity:1;stroke:none;font-family:sans-serif;text-anchor:start;fill:#FF0000\" x=\"28.6862\" y=\"59.15\"><tspan>O</tspan></text>\n",
       "<text style=\"font-size:11px;font-style:normal;font-weight:normal;fill-opacity:1;stroke:none;font-family:sans-serif;text-anchor:start;fill:#33CCCC\" x=\"162.998\" y=\"117.649\"><tspan>F</tspan></text>\n",
       "<text style=\"font-size:11px;font-style:normal;font-weight:normal;fill-opacity:1;stroke:none;font-family:sans-serif;text-anchor:start;fill:#33CCCC\" x=\"122.868\" y=\"113.863\"><tspan>F</tspan></text>\n",
       "<text style=\"font-size:11px;font-style:normal;font-weight:normal;fill-opacity:1;stroke:none;font-family:sans-serif;text-anchor:start;fill:#33CCCC\" x=\"164.747\" y=\"70.483\"><tspan>F</tspan></text>\n",
       "<text style=\"font-size:11px;font-style:normal;font-weight:normal;fill-opacity:1;stroke:none;font-family:sans-serif;text-anchor:start;fill:#0000FF\" x=\"38.9627\" y=\"94.9588\"><tspan>NH</tspan></text>\n",
       "</svg>"
      ],
      "text/plain": [
       "<IPython.core.display.SVG object>"
      ]
     },
     "execution_count": 22,
     "metadata": {},
     "output_type": "execute_result"
    }
   ],
   "source": [
    "smiles_code = labels[i]\n",
    "m = Chem.MolFromSmiles(smiles_code)\n",
    "print (Chem.MolToInchi(m))\n",
    "SVG(Draw.MolsToGridImage([m], molsPerRow=4, subImgSize=(180, 150), useSVG=True))"
   ]
  },
  {
   "cell_type": "code",
   "execution_count": 23,
   "id": "5731f46e-02f7-438c-9f4e-91db435016d4",
   "metadata": {},
   "outputs": [
    {
     "name": "stdout",
     "output_type": "stream",
     "text": [
      "InChI=1S/C10H12/c1-2-4-6-8-10-9-7-5-3-1/h1-4,9-10H2\n"
     ]
    },
    {
     "data": {
      "image/svg+xml": [
       "<svg baseProfile=\"full\" height=\"150px\" version=\"1.1\" width=\"720px\" xml:space=\"preserve\" xmlns=\"http://www.w3.org/2000/svg\" xmlns:rdkit=\"http://www.rdkit.org/xml\" xmlns:xlink=\"http://www.w3.org/1999/xlink\">\n",
       "<rect height=\"150\" style=\"opacity:1.0;fill:#FFFFFF;stroke:none\" width=\"720\" x=\"0\" y=\"0\"> </rect>\n",
       "<path d=\"M 161.691,75 147.999,117.139\" style=\"fill:none;fill-rule:evenodd;stroke:#000000;stroke-width:2px;stroke-linecap:butt;stroke-linejoin:miter;stroke-opacity:1\"/>\n",
       "<path d=\"M 151.209,78.5825 141.625,108.08\" style=\"fill:none;fill-rule:evenodd;stroke:#000000;stroke-width:2px;stroke-linecap:butt;stroke-linejoin:miter;stroke-opacity:1\"/>\n",
       "<path d=\"M 168.065,84.0591 158.48,113.556\" style=\"fill:none;fill-rule:evenodd;stroke:#000000;stroke-width:2px;stroke-linecap:butt;stroke-linejoin:miter;stroke-opacity:1\"/>\n",
       "<path d=\"M 161.691,75 147.999,32.8613\" style=\"fill:none;fill-rule:evenodd;stroke:#000000;stroke-width:2px;stroke-linecap:butt;stroke-linejoin:miter;stroke-opacity:1\"/>\n",
       "<path d=\"M 147.999,117.139 112.154,143.182\" style=\"fill:none;fill-rule:evenodd;stroke:#000000;stroke-width:2px;stroke-linecap:butt;stroke-linejoin:miter;stroke-opacity:1\"/>\n",
       "<path d=\"M 112.154,143.182 67.8464,143.182\" style=\"fill:none;fill-rule:evenodd;stroke:#000000;stroke-width:2px;stroke-linecap:butt;stroke-linejoin:miter;stroke-opacity:1\"/>\n",
       "<path d=\"M 67.8464,143.182 42.165,124.523\" style=\"fill:none;fill-rule:evenodd;stroke:#000000;stroke-width:2px;stroke-linecap:butt;stroke-linejoin:miter;stroke-opacity:1\"/>\n",
       "<path d=\"M 29.6017,109.754 18.3094,75\" style=\"fill:none;fill-rule:evenodd;stroke:#000000;stroke-width:2px;stroke-linecap:butt;stroke-linejoin:miter;stroke-opacity:1\"/>\n",
       "<path d=\"M 18.3094,75 32.0011,32.8613\" style=\"fill:none;fill-rule:evenodd;stroke:#000000;stroke-width:2px;stroke-linecap:butt;stroke-linejoin:miter;stroke-opacity:1\"/>\n",
       "<path d=\"M 32.0011,32.8613 67.8464,6.81818\" style=\"fill:none;fill-rule:evenodd;stroke:#000000;stroke-width:2px;stroke-linecap:butt;stroke-linejoin:miter;stroke-opacity:1\"/>\n",
       "<path d=\"M 42.5865,36.1239 67.6782,17.8937\" style=\"fill:none;fill-rule:evenodd;stroke:#000000;stroke-width:2px;stroke-linecap:butt;stroke-linejoin:miter;stroke-opacity:1\"/>\n",
       "<path d=\"M 32.1692,21.7858 57.261,3.55559\" style=\"fill:none;fill-rule:evenodd;stroke:#000000;stroke-width:2px;stroke-linecap:butt;stroke-linejoin:miter;stroke-opacity:1\"/>\n",
       "<path d=\"M 67.8464,6.81818 112.154,6.81818\" style=\"fill:none;fill-rule:evenodd;stroke:#000000;stroke-width:2px;stroke-linecap:butt;stroke-linejoin:miter;stroke-opacity:1\"/>\n",
       "<path d=\"M 112.154,6.81818 147.999,32.8613\" style=\"fill:none;fill-rule:evenodd;stroke:#000000;stroke-width:2px;stroke-linecap:butt;stroke-linejoin:miter;stroke-opacity:1\"/>\n",
       "<text style=\"font-size:14px;font-style:normal;font-weight:normal;fill-opacity:1;stroke:none;font-family:sans-serif;text-anchor:start;fill:#000000\" x=\"18.2072\" y=\"124.523\"><tspan>C:1</tspan></text>\n",
       "</svg>"
      ],
      "text/plain": [
       "<IPython.core.display.SVG object>"
      ]
     },
     "execution_count": 23,
     "metadata": {},
     "output_type": "execute_result"
    }
   ],
   "source": [
    "smiles_code = 'C1#CCC[CH2:1]CC#CCC1'\n",
    "m = Chem.MolFromSmiles(smiles_code)\n",
    "print (Chem.MolToInchi(m))\n",
    "SVG(Draw.MolsToGridImage([m], molsPerRow=4, subImgSize=(180, 150), useSVG=True))"
   ]
  },
  {
   "cell_type": "code",
   "execution_count": 24,
   "id": "d279ebc4-818f-4624-9ec2-3a1dcbfac7aa",
   "metadata": {},
   "outputs": [
    {
     "name": "stdout",
     "output_type": "stream",
     "text": [
      "InChI=1S/C10H12/c1-2-4-6-8-10-9-7-5-3-1/h1-4,9-10H2\n"
     ]
    },
    {
     "data": {
      "image/svg+xml": [
       "<svg baseProfile=\"full\" height=\"150px\" version=\"1.1\" width=\"720px\" xml:space=\"preserve\" xmlns=\"http://www.w3.org/2000/svg\" xmlns:rdkit=\"http://www.rdkit.org/xml\" xmlns:xlink=\"http://www.w3.org/1999/xlink\">\n",
       "<rect height=\"150\" style=\"opacity:1.0;fill:#FFFFFF;stroke:none\" width=\"720\" x=\"0\" y=\"0\"> </rect>\n",
       "<path d=\"M 161.691,75 147.999,117.139\" style=\"fill:none;fill-rule:evenodd;stroke:#000000;stroke-width:2px;stroke-linecap:butt;stroke-linejoin:miter;stroke-opacity:1\"/>\n",
       "<path d=\"M 151.209,78.5825 141.625,108.08\" style=\"fill:none;fill-rule:evenodd;stroke:#000000;stroke-width:2px;stroke-linecap:butt;stroke-linejoin:miter;stroke-opacity:1\"/>\n",
       "<path d=\"M 168.065,84.0591 158.48,113.556\" style=\"fill:none;fill-rule:evenodd;stroke:#000000;stroke-width:2px;stroke-linecap:butt;stroke-linejoin:miter;stroke-opacity:1\"/>\n",
       "<path d=\"M 161.691,75 147.999,32.8613\" style=\"fill:none;fill-rule:evenodd;stroke:#000000;stroke-width:2px;stroke-linecap:butt;stroke-linejoin:miter;stroke-opacity:1\"/>\n",
       "<path d=\"M 147.999,117.139 112.154,143.182\" style=\"fill:none;fill-rule:evenodd;stroke:#000000;stroke-width:2px;stroke-linecap:butt;stroke-linejoin:miter;stroke-opacity:1\"/>\n",
       "<path d=\"M 112.154,143.182 81.6403,143.182\" style=\"fill:none;fill-rule:evenodd;stroke:#000000;stroke-width:2px;stroke-linecap:butt;stroke-linejoin:miter;stroke-opacity:1\"/>\n",
       "<path d=\"M 57.6824,135.797 42.165,124.523\" style=\"fill:none;fill-rule:evenodd;stroke:#000000;stroke-width:2px;stroke-linecap:butt;stroke-linejoin:miter;stroke-opacity:1\"/>\n",
       "<path d=\"M 29.6017,109.754 20.7088,82.3845\" style=\"fill:none;fill-rule:evenodd;stroke:#000000;stroke-width:2px;stroke-linecap:butt;stroke-linejoin:miter;stroke-opacity:1\"/>\n",
       "<path d=\"M 20.7088,67.6155 32.0011,32.8613\" style=\"fill:none;fill-rule:evenodd;stroke:#000000;stroke-width:2px;stroke-linecap:butt;stroke-linejoin:miter;stroke-opacity:1\"/>\n",
       "<path d=\"M 32.0011,32.8613 67.8464,6.81818\" style=\"fill:none;fill-rule:evenodd;stroke:#000000;stroke-width:2px;stroke-linecap:butt;stroke-linejoin:miter;stroke-opacity:1\"/>\n",
       "<path d=\"M 42.5865,36.1239 67.6782,17.8937\" style=\"fill:none;fill-rule:evenodd;stroke:#000000;stroke-width:2px;stroke-linecap:butt;stroke-linejoin:miter;stroke-opacity:1\"/>\n",
       "<path d=\"M 32.1692,21.7858 57.261,3.55559\" style=\"fill:none;fill-rule:evenodd;stroke:#000000;stroke-width:2px;stroke-linecap:butt;stroke-linejoin:miter;stroke-opacity:1\"/>\n",
       "<path d=\"M 67.8464,6.81818 112.154,6.81818\" style=\"fill:none;fill-rule:evenodd;stroke:#000000;stroke-width:2px;stroke-linecap:butt;stroke-linejoin:miter;stroke-opacity:1\"/>\n",
       "<path d=\"M 112.154,6.81818 147.999,32.8613\" style=\"fill:none;fill-rule:evenodd;stroke:#000000;stroke-width:2px;stroke-linecap:butt;stroke-linejoin:miter;stroke-opacity:1\"/>\n",
       "<text style=\"font-size:14px;font-style:normal;font-weight:normal;fill-opacity:1;stroke:none;font-family:sans-serif;text-anchor:start;fill:#000000\" x=\"54.0525\" y=\"150.566\"><tspan>C:1</tspan></text>\n",
       "<text style=\"font-size:14px;font-style:normal;font-weight:normal;fill-opacity:1;stroke:none;font-family:sans-serif;text-anchor:start;fill:#000000\" x=\"18.2072\" y=\"124.523\"><tspan>C:1</tspan></text>\n",
       "<text style=\"font-size:14px;font-style:normal;font-weight:normal;fill-opacity:1;stroke:none;font-family:sans-serif;text-anchor:start;fill:#000000\" x=\"4.51547\" y=\"82.3845\"><tspan>C:1</tspan></text>\n",
       "</svg>"
      ],
      "text/plain": [
       "<IPython.core.display.SVG object>"
      ]
     },
     "execution_count": 24,
     "metadata": {},
     "output_type": "execute_result"
    }
   ],
   "source": [
    "smiles_code = 'C1#CC[CH2:1][CH2:1][CH2:1]C#CCC1'\n",
    "m = Chem.MolFromSmiles(smiles_code)\n",
    "print (Chem.MolToInchi(m))\n",
    "SVG(Draw.MolsToGridImage([m], molsPerRow=4, subImgSize=(180, 150), useSVG=True))"
   ]
  },
  {
   "cell_type": "code",
   "execution_count": null,
   "id": "cf6693f2-729c-4a7f-9d4a-d597f7600fdb",
   "metadata": {},
   "outputs": [],
   "source": []
  }
 ],
 "metadata": {
  "kernelspec": {
   "display_name": "Python 3",
   "language": "python",
   "name": "python3"
  },
  "language_info": {
   "codemirror_mode": {
    "name": "ipython",
    "version": 3
   },
   "file_extension": ".py",
   "mimetype": "text/x-python",
   "name": "python",
   "nbconvert_exporter": "python",
   "pygments_lexer": "ipython3",
   "version": "3.6.13"
  }
 },
 "nbformat": 4,
 "nbformat_minor": 5
}
